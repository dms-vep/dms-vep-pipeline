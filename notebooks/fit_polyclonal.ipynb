{
 "cells": [
  {
   "cell_type": "markdown",
   "id": "34cee08c-b6ee-450d-ae33-edd181df02b4",
   "metadata": {
    "papermill": {
     "duration": 0.01186,
     "end_time": "2022-08-02T19:19:40.029852",
     "exception": false,
     "start_time": "2022-08-02T19:19:40.017992",
     "status": "completed"
    },
    "tags": []
   },
   "source": [
    "# Fit polyclonal model\n",
    "Here we fit [polyclonal](https://jbloomlab.github.io/polyclonal) models to the data.\n",
    "\n",
    "First, import Python modules:"
   ]
  },
  {
   "cell_type": "code",
   "execution_count": null,
   "id": "a2b4fb9f-ad03-4348-8c99-1dfda78b0dde",
   "metadata": {
    "papermill": {
     "duration": 1.120229,
     "end_time": "2022-08-02T19:19:41.160672",
     "exception": false,
     "start_time": "2022-08-02T19:19:40.040443",
     "status": "completed"
    },
    "tags": []
   },
   "outputs": [],
   "source": [
    "import pickle\n",
    "\n",
    "import altair as alt\n",
    "\n",
    "import pandas as pd\n",
    "\n",
    "import polyclonal\n",
    "\n",
    "import yaml"
   ]
  },
  {
   "cell_type": "code",
   "execution_count": null,
   "id": "dfdbecf5-ead3-4d3e-a0ae-106cc124bce5",
   "metadata": {
    "papermill": {
     "duration": 0.019143,
     "end_time": "2022-08-02T19:19:41.190142",
     "exception": false,
     "start_time": "2022-08-02T19:19:41.170999",
     "status": "completed"
    },
    "tags": []
   },
   "outputs": [],
   "source": [
    "# allow more rows for Altair\n",
    "_ = alt.data_transformers.disable_max_rows()"
   ]
  },
  {
   "cell_type": "markdown",
   "id": "649e0dcc-7e23-4386-84d8-3cafba0ec69b",
   "metadata": {
    "papermill": {
     "duration": 0.007084,
     "end_time": "2022-08-02T19:19:41.206215",
     "exception": false,
     "start_time": "2022-08-02T19:19:41.199131",
     "status": "completed"
    },
    "tags": []
   },
   "source": [
    "## Read input data"
   ]
  },
  {
   "cell_type": "markdown",
   "id": "d4c40501-4e96-44bd-ac6c-1ec9ea86a392",
   "metadata": {
    "papermill": {
     "duration": 0.009395,
     "end_time": "2022-08-02T19:19:41.226823",
     "exception": false,
     "start_time": "2022-08-02T19:19:41.217428",
     "status": "completed"
    },
    "tags": []
   },
   "source": [
    "Get parameterized variable from [papermill](https://papermill.readthedocs.io/)"
   ]
  },
  {
   "cell_type": "code",
   "execution_count": null,
   "id": "07166689-2f34-476e-ba68-089a99ef0f45",
   "metadata": {
    "papermill": {
     "duration": 0.020618,
     "end_time": "2022-08-02T19:19:41.254711",
     "exception": false,
     "start_time": "2022-08-02T19:19:41.234093",
     "status": "completed"
    },
    "tags": [
     "parameters"
    ]
   },
   "outputs": [],
   "source": [
    "# papermill parameters cell (tagged as `parameters`)\n",
    "prob_escape_csv = None\n",
    "n_threads = None\n",
    "pickle_file = None\n",
    "antibody = None"
   ]
  },
  {
   "cell_type": "markdown",
   "id": "5740e005-fd0a-4883-8c03-a190c5dc03dd",
   "metadata": {
    "papermill": {
     "duration": 0.008401,
     "end_time": "2022-08-02T19:19:41.302850",
     "exception": false,
     "start_time": "2022-08-02T19:19:41.294449",
     "status": "completed"
    },
    "tags": []
   },
   "source": [
    "Read the probabilities of escape, and filter for those with sufficient no-antibody counts:"
   ]
  },
  {
   "cell_type": "code",
   "execution_count": null,
   "id": "a7e44661-fce2-467c-aa4e-a82b6b55188e",
   "metadata": {
    "papermill": {
     "duration": 0.098881,
     "end_time": "2022-08-02T19:19:41.409360",
     "exception": false,
     "start_time": "2022-08-02T19:19:41.310479",
     "status": "completed"
    },
    "tags": []
   },
   "outputs": [],
   "source": [
    "print(f\"\\nReading probabilities of escape from {prob_escape_csv}\")\n",
    "\n",
    "prob_escape = pd.read_csv(\n",
    "    prob_escape_csv, keep_default_na=False, na_values=\"nan\"\n",
    ").query(\"`no-antibody_count` >= no_antibody_count_threshold\")\n",
    "assert prob_escape.notnull().all().all()"
   ]
  },
  {
   "cell_type": "markdown",
   "id": "afd0a4e1-37f6-4c9d-9adb-75dea9a9091a",
   "metadata": {
    "papermill": {
     "duration": 0.011837,
     "end_time": "2022-08-02T19:19:41.432994",
     "exception": false,
     "start_time": "2022-08-02T19:19:41.421157",
     "status": "completed"
    },
    "tags": []
   },
   "source": [
    "Read the rest of the configuration and input data:"
   ]
  },
  {
   "cell_type": "code",
   "execution_count": null,
   "id": "dd2f8321-d9fd-483d-86e7-e3e15dbd557e",
   "metadata": {
    "papermill": {
     "duration": 0.036541,
     "end_time": "2022-08-02T19:19:41.479830",
     "exception": false,
     "start_time": "2022-08-02T19:19:41.443289",
     "status": "completed"
    },
    "tags": []
   },
   "outputs": [],
   "source": [
    "# get information from config\n",
    "with open(\"config.yaml\") as f:\n",
    "    config = yaml.safe_load(f)\n",
    "\n",
    "antibody = prob_escape[\"antibody\"].unique()\n",
    "assert len(antibody) == 1, antibody\n",
    "antibody = antibody[0]\n",
    "\n",
    "# get site numbering map and the reference sites in order\n",
    "site_numbering_map = pd.read_csv(config[\"site_numbering_map\"])\n",
    "reference_sites = site_numbering_map.sort_values(\"sequential_site\")[\n",
    "    \"reference_site\"\n",
    "].tolist()\n",
    "\n",
    "# get the polyclonal configuration for this antibody\n",
    "with open(config[\"polyclonal_config\"]) as f:\n",
    "    polyclonal_config = yaml.safe_load(f)\n",
    "if antibody not in polyclonal_config:\n",
    "    raise ValueError(f\"`polyclonal_config` lacks configuration for {antibody=}\")\n",
    "antibody_config = polyclonal_config[antibody]\n",
    "\n",
    "# print names of variables and settings\n",
    "print(f\"{antibody=}\")\n",
    "print(f\"{n_threads=}\")\n",
    "print(f\"{pickle_file=}\")\n",
    "print(f\"{antibody_config=}\")"
   ]
  },
  {
   "cell_type": "markdown",
   "id": "6ffdb19f-7b9f-4f26-a8d4-445b11822d17",
   "metadata": {
    "papermill": {
     "duration": 0.007152,
     "end_time": "2022-08-02T19:19:41.496767",
     "exception": false,
     "start_time": "2022-08-02T19:19:41.489615",
     "status": "completed"
    },
    "tags": []
   },
   "source": [
    "## Some summary statistics\n",
    "Note that these statistics are only for the variants that passed upstream filtering in the pipeline.\n",
    "\n",
    "Number of variants per concentration:"
   ]
  },
  {
   "cell_type": "code",
   "execution_count": null,
   "id": "cb699c76-e2c5-47ae-8feb-35d58d0ad3ce",
   "metadata": {
    "papermill": {
     "duration": 0.037252,
     "end_time": "2022-08-02T19:19:41.541925",
     "exception": false,
     "start_time": "2022-08-02T19:19:41.504673",
     "status": "completed"
    },
    "tags": []
   },
   "outputs": [],
   "source": [
    "display(\n",
    "    prob_escape.groupby(\"antibody_concentration\").aggregate(\n",
    "        n_variants=pd.NamedAgg(\"barcode\", \"nunique\")\n",
    "    )\n",
    ")"
   ]
  },
  {
   "cell_type": "markdown",
   "id": "d2066306-05aa-402c-ad49-5ee7b62e14c5",
   "metadata": {
    "papermill": {
     "duration": 0.008219,
     "end_time": "2022-08-02T19:19:41.559069",
     "exception": false,
     "start_time": "2022-08-02T19:19:41.550850",
     "status": "completed"
    },
    "tags": []
   },
   "source": [
    "Plot mean probability of escape across all variants with the indicated number of mutations.\n",
    "Note that this plot weights each variant the same in the means regardless of how many barcode counts it has.\n",
    "We plot means for both censored (set to between 0 and 1) and uncensored probabilities of escape.\n",
    "Also, note it uses a symlog scale for the y-axis.\n",
    "Mouseover points for values:"
   ]
  },
  {
   "cell_type": "code",
   "execution_count": null,
   "id": "55afd2c7-5d6b-47df-9e75-4f7d8e4a97ca",
   "metadata": {
    "papermill": {
     "duration": 0.185814,
     "end_time": "2022-08-02T19:19:41.751903",
     "exception": false,
     "start_time": "2022-08-02T19:19:41.566089",
     "status": "completed"
    },
    "tags": []
   },
   "outputs": [],
   "source": [
    "max_aa_subs = 4  # group if >= this many substitutions\n",
    "\n",
    "mean_prob_escape = (\n",
    "    prob_escape.assign(\n",
    "        n_subs=lambda x: (\n",
    "            x[\"aa_substitutions_reference\"]\n",
    "            .str.split()\n",
    "            .map(len)\n",
    "            .clip(upper=max_aa_subs)\n",
    "            .map(lambda n: str(n) if n < max_aa_subs else f\">{max_aa_subs - 1}\")\n",
    "        )\n",
    "    )\n",
    "    .groupby([\"antibody_concentration\", \"n_subs\"], as_index=False)\n",
    "    .aggregate({\"prob_escape\": \"mean\", \"prob_escape_uncensored\": \"mean\"})\n",
    "    .rename(\n",
    "        columns={\n",
    "            \"prob_escape\": \"censored to [0, 1]\",\n",
    "            \"prob_escape_uncensored\": \"not censored\",\n",
    "        }\n",
    "    )\n",
    "    .melt(\n",
    "        id_vars=[\"antibody_concentration\", \"n_subs\"],\n",
    "        var_name=\"censored\",\n",
    "        value_name=\"probability escape\",\n",
    "    )\n",
    ")\n",
    "\n",
    "mean_prob_escape_chart = (\n",
    "    alt.Chart(mean_prob_escape)\n",
    "    .encode(\n",
    "        x=alt.X(\"antibody_concentration\"),\n",
    "        y=alt.Y(\n",
    "            \"probability escape\",\n",
    "            scale=alt.Scale(type=\"symlog\", constant=0.05),\n",
    "        ),\n",
    "        column=alt.Column(\"censored\", title=None),\n",
    "        color=alt.Color(\"n_subs\", title=\"n substitutions\"),\n",
    "        tooltip=[\n",
    "            alt.Tooltip(c, format=\".3g\") if mean_prob_escape[c].dtype == float else c\n",
    "            for c in mean_prob_escape.columns\n",
    "        ],\n",
    "    )\n",
    "    .mark_line(point=True, size=0.5)\n",
    "    .properties(width=200, height=125)\n",
    "    .configure_axis(grid=False)\n",
    ")\n",
    "\n",
    "mean_prob_escape_chart"
   ]
  },
  {
   "cell_type": "markdown",
   "id": "27a8099a-5817-4998-bedd-1dd76b356a8f",
   "metadata": {
    "papermill": {
     "duration": 0.007713,
     "end_time": "2022-08-02T19:19:41.770460",
     "exception": false,
     "start_time": "2022-08-02T19:19:41.762747",
     "status": "completed"
    },
    "tags": []
   },
   "source": [
    "## Fit `polyclonal` model\n",
    "First, get the fitting related keyword arguments from the configuration passed by `snakemake`:"
   ]
  },
  {
   "cell_type": "code",
   "execution_count": null,
   "id": "c9f68dfa-ef9a-48c0-acfb-043d7a15ee34",
   "metadata": {
    "papermill": {
     "duration": 0.020404,
     "end_time": "2022-08-02T19:19:41.798430",
     "exception": false,
     "start_time": "2022-08-02T19:19:41.778026",
     "status": "completed"
    },
    "tags": []
   },
   "outputs": [],
   "source": [
    "max_epitopes = antibody_config[\"max_epitopes\"]\n",
    "print(f\"{max_epitopes=}\")\n",
    "\n",
    "fit_kwargs = antibody_config[\"fit_kwargs\"]\n",
    "print(f\"{fit_kwargs=}\")\n",
    "\n",
    "min_epitope_activity_to_include = antibody_config[\"min_epitope_activity_to_include\"]\n",
    "print(f\"{min_epitope_activity_to_include=}\")"
   ]
  },
  {
   "cell_type": "markdown",
   "id": "86495090-dd26-477d-8b73-12a26cb32577",
   "metadata": {
    "papermill": {
     "duration": 0.008533,
     "end_time": "2022-08-02T19:19:41.817041",
     "exception": false,
     "start_time": "2022-08-02T19:19:41.808508",
     "status": "completed"
    },
    "tags": []
   },
   "source": [
    "Fit a model to all the data, and keep adding epitopes until we either reach the maximum specified or the new epitope has negative activity.\n",
    "Note that that we fit using the **reference** based-site-numbering scheme, so results are shown with those numbers:Z"
   ]
  },
  {
   "cell_type": "code",
   "execution_count": null,
   "id": "58cb1b67-9770-4a33-9d43-5ff07a4cd81e",
   "metadata": {
    "papermill": {
     "duration": 8.523207,
     "end_time": "2022-08-02T19:19:50.351778",
     "exception": false,
     "start_time": "2022-08-02T19:19:41.828571",
     "status": "completed"
    },
    "tags": []
   },
   "outputs": [],
   "source": [
    "models = []\n",
    "\n",
    "for n_epitopes in range(1, max_epitopes + 1):\n",
    "    print(f\"\\nFitting model with {n_epitopes=}\")\n",
    "\n",
    "    # create model\n",
    "    model = polyclonal.Polyclonal(\n",
    "        n_epitopes=n_epitopes,\n",
    "        data_to_fit=prob_escape.rename(\n",
    "            columns={\n",
    "                \"antibody_concentration\": \"concentration\",\n",
    "                \"aa_substitutions_reference\": \"aa_substitutions\",\n",
    "            }\n",
    "        ),\n",
    "        alphabet=polyclonal.AAS_WITHSTOP_WITHGAP,\n",
    "        sites=reference_sites,\n",
    "    )\n",
    "\n",
    "    # fit model\n",
    "    opt_res = model.fit(logfreq=200, **fit_kwargs)\n",
    "\n",
    "    # display activities\n",
    "    print(\"Activities of epitopes:\")\n",
    "    display(model.activity_wt_df.round(1))\n",
    "    print(\"Max and mean absolute-value escape at each epitope:\")\n",
    "    display(\n",
    "        model.mut_escape_df.groupby(\"epitope\")\n",
    "        .aggregate(\n",
    "            max_escape=pd.NamedAgg(\"escape\", \"max\"),\n",
    "            mean_abs_escape=pd.NamedAgg(\"escape\", lambda s: s.abs().mean()),\n",
    "        )\n",
    "        .round(1)\n",
    "    )\n",
    "\n",
    "    # stop if activity below threshold for any epitope and fit at least one epitope\n",
    "    if len(models) and any(\n",
    "        model.activity_wt_df[\"activity\"] <= min_epitope_activity_to_include\n",
    "    ):\n",
    "        print(f\"Stop fitting, epitope has activity <={min_epitope_activity_to_include}\")\n",
    "        models.append(model)\n",
    "        model = models[-2]  # get previous model\n",
    "        break\n",
    "    else:\n",
    "        models.append(model)\n",
    "\n",
    "print(f\"\\nThe selected model has {len(model.epitopes)} epitopes\")"
   ]
  },
  {
   "cell_type": "markdown",
   "id": "f0ef4b6c-a352-4c1d-9942-e4570227e2fb",
   "metadata": {
    "papermill": {
     "duration": 0.009015,
     "end_time": "2022-08-02T19:20:31.423849",
     "exception": false,
     "start_time": "2022-08-02T19:20:31.414834",
     "status": "completed"
    },
    "tags": []
   },
   "source": [
    "Epitope activities:"
   ]
  },
  {
   "cell_type": "code",
   "execution_count": null,
   "id": "7825d07a-dfc3-47e9-b0e3-ccb22aa07fa7",
   "metadata": {
    "papermill": {
     "duration": 0.113631,
     "end_time": "2022-08-02T19:20:31.546325",
     "exception": false,
     "start_time": "2022-08-02T19:20:31.432694",
     "status": "completed"
    },
    "tags": []
   },
   "outputs": [],
   "source": [
    "model.activity_wt_barplot()"
   ]
  },
  {
   "cell_type": "markdown",
   "id": "64091202-0619-44e6-a4e3-9bdc2a5da531",
   "metadata": {
    "papermill": {
     "duration": 0.00929,
     "end_time": "2022-08-02T19:20:31.566961",
     "exception": false,
     "start_time": "2022-08-02T19:20:31.557671",
     "status": "completed"
    },
    "tags": []
   },
   "source": [
    "Plot of escape values:"
   ]
  },
  {
   "cell_type": "code",
   "execution_count": null,
   "id": "5e47cc04-bd8d-4f0e-9b00-eddebb8a80d9",
   "metadata": {
    "papermill": {
     "duration": 0.87964,
     "end_time": "2022-08-02T19:20:32.455302",
     "exception": false,
     "start_time": "2022-08-02T19:20:31.575662",
     "status": "completed"
    },
    "tags": []
   },
   "outputs": [],
   "source": [
    "df_to_merge = site_numbering_map.rename(columns={\"reference_site\": \"site\"})\n",
    "\n",
    "plot_kwargs = antibody_config[\"plot_kwargs\"]\n",
    "if \"plot_title\" not in plot_kwargs:\n",
    "    plot_kwargs[\"plot_title\"] = str(antibody)\n",
    "if \"region\" in site_numbering_map:\n",
    "    plot_kwargs[\"site_zoom_bar_color_col\"] = \"region\"\n",
    "if \"addtl_slider_stats\" not in plot_kwargs:\n",
    "    plot_kwargs[\"addtl_slider_stats\"] = {\"times_seen\": 1}\n",
    "elif \"times_seen\" not in plot_kwargs[\"addtl_slider_stats\"]:\n",
    "    plot_kwargs[\"addtl_slider_stats\"][\"times_seen\"] = 1\n",
    "if \"functional effect\" in plot_kwargs[\"addtl_slider_stats\"]:\n",
    "    del plot_kwargs[\"addtl_slider_stats\"][\"functional effect\"]  # only for antibody averages\n",
    "if any(site_numbering_map[\"sequential_site\"] != site_numbering_map[\"reference_site\"]):\n",
    "    if \"addtl_tooltip_stats\" not in plot_kwargs:\n",
    "        plot_kwargs[\"addtl_tooltip_stats\"] = [\"sequential_site\"]\n",
    "    else:\n",
    "        plot_kwargs[\"addtl_tooltip_stats\"].append(\"sequential_site\")\n",
    "\n",
    "model.mut_escape_plot(df_to_merge=df_to_merge, **plot_kwargs)"
   ]
  },
  {
   "cell_type": "markdown",
   "id": "866fc4b6-4e3f-4f36-b494-b883aef3caed",
   "metadata": {
    "papermill": {
     "duration": 0.043629,
     "end_time": "2022-08-02T19:20:33.270006",
     "exception": false,
     "start_time": "2022-08-02T19:20:33.226377",
     "status": "completed"
    },
    "tags": []
   },
   "source": [
    "Pickle and save model:"
   ]
  },
  {
   "cell_type": "code",
   "execution_count": null,
   "id": "f56c7b06-c43c-4407-b1b8-eba91fe0233b",
   "metadata": {
    "papermill": {
     "duration": 0.321022,
     "end_time": "2022-08-02T19:20:33.630727",
     "exception": false,
     "start_time": "2022-08-02T19:20:33.309705",
     "status": "completed"
    },
    "tags": []
   },
   "outputs": [],
   "source": [
    "print(f\"Saving model to {pickle_file=}\")\n",
    "with open(pickle_file, \"wb\") as f:\n",
    "    pickle.dump(model, f)"
   ]
  }
 ],
 "metadata": {
  "kernelspec": {
   "display_name": "Python 3 (ipykernel)",
   "language": "python",
   "name": "python3"
  },
  "language_info": {
   "codemirror_mode": {
    "name": "ipython",
    "version": 3
   },
   "file_extension": ".py",
   "mimetype": "text/x-python",
   "name": "python",
   "nbconvert_exporter": "python",
   "pygments_lexer": "ipython3",
   "version": "3.9.13"
  },
  "nbsphinx": {
   "orphan": true
  },
  "papermill": {
   "default_parameters": {},
   "duration": 56.927634,
   "end_time": "2022-08-02T19:20:34.310157",
   "environment_variables": {},
   "exception": null,
   "input_path": "../notebooks/fit_polyclonal.ipynb",
   "output_path": "results/notebooks/fit_polyclonal_LibA_2022-02-10a_thaw-3_REGN10933_1.ipynb",
   "parameters": {
    "n_threads": 1,
    "pickle_file": "results/polyclonal_fits/LibA_2022-02-10a_thaw-3_REGN10933_1.pickle",
    "prob_escape_csv": "results/prob_escape/LibA_2022-02-10a_thaw-3_REGN10933_1_prob_escape.csv"
   },
   "start_time": "2022-08-02T19:19:37.382523",
   "version": "2.3.4"
  }
 },
 "nbformat": 4,
 "nbformat_minor": 5
}
