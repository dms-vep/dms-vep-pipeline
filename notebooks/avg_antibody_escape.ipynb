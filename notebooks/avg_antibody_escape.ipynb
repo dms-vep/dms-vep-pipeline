{
 "cells": [
  {
   "cell_type": "markdown",
   "id": "a24d0da4-f8ba-4db6-bf52-daec861dc6b3",
   "metadata": {},
   "source": [
    "# Average antibody escape across multiple fit `polyclonal` models"
   ]
  },
  {
   "cell_type": "markdown",
   "id": "093a9e27-504a-4fa5-8d51-aa5b91411ba2",
   "metadata": {},
   "source": [
    "Get parameterized variables from [papermill](https://papermill.readthedocs.io/):"
   ]
  },
  {
   "cell_type": "code",
   "execution_count": null,
   "id": "f4f3ae2f-76cd-4a2e-bc69-243bbb7a405c",
   "metadata": {
    "tags": [
     "parameters"
    ]
   },
   "outputs": [],
   "source": [
    "# papermill parameters cell (tagged as `parameters`)\n",
    "antibody = None\n",
    "escape_avg_method = None\n",
    "avg_pickle = None\n",
    "selection_groups = None"
   ]
  },
  {
   "cell_type": "code",
   "execution_count": null,
   "id": "68f99d1d-406d-46d9-8f6c-fced8422d1f1",
   "metadata": {},
   "outputs": [],
   "source": [
    "# This is just a temporary completed parameters cell like papermill will make when called with antibody REGN10933\n",
    "selection_groups = {\n",
    "    \"LibA_2022-02-10a_thaw-3_REGN10933_1\": {\n",
    "        \"date\": \"2022-02-10a\",\n",
    "        \"library\": \"LibA\",\n",
    "        \"replicate\": 1,\n",
    "        \"virus_batch\": \"thaw-3\",\n",
    "    },\n",
    "    \"LibA_2022-02-10a_thaw-3_REGN10933_2\": {\n",
    "        \"date\": \"2022-02-10a\",\n",
    "        \"library\": \"LibA\",\n",
    "        \"replicate\": 2,\n",
    "        \"virus_batch\": \"thaw-3\",\n",
    "    },\n",
    "    \"LibB_2022-03-02_thaw-3_REGN10933_1\": {\n",
    "        \"date\": \"2022-03-02\",\n",
    "        \"library\": \"LibB\",\n",
    "        \"replicate\": 1,\n",
    "        \"virus_batch\": \"thaw-3\",\n",
    "    },\n",
    "}\n",
    "antibody = \"REGN10933\"\n",
    "escape_avg_method = \"median\"\n",
    "avg_pickle = \"results/antibody_escape/REGN10933.pickle\""
   ]
  },
  {
   "cell_type": "code",
   "execution_count": null,
   "id": "979f273c-2e37-4e7d-9d82-93843c4ace1f",
   "metadata": {},
   "outputs": [],
   "source": [
    "print(escape_avg_method)"
   ]
  },
  {
   "cell_type": "code",
   "execution_count": null,
   "id": "59701419-baac-476d-9148-660377b30ca4",
   "metadata": {},
   "outputs": [],
   "source": [
    "print(avg_pickle)"
   ]
  },
  {
   "cell_type": "code",
   "execution_count": null,
   "id": "b67483f9-2212-468f-ad8e-657c1b52f0ca",
   "metadata": {},
   "outputs": [],
   "source": [
    "print(selection_groups)"
   ]
  },
  {
   "cell_type": "code",
   "execution_count": null,
   "id": "6ff6b451-c730-4493-9574-77be270bb7d6",
   "metadata": {},
   "outputs": [],
   "source": []
  }
 ],
 "metadata": {
  "kernelspec": {
   "display_name": "Python 3 (ipykernel)",
   "language": "python",
   "name": "python3"
  },
  "language_info": {
   "codemirror_mode": {
    "name": "ipython",
    "version": 3
   },
   "file_extension": ".py",
   "mimetype": "text/x-python",
   "name": "python",
   "nbconvert_exporter": "python",
   "pygments_lexer": "ipython3",
   "version": "3.9.13"
  }
 },
 "nbformat": 4,
 "nbformat_minor": 5
}
