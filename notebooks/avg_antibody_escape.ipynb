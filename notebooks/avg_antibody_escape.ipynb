{
 "cells": [
  {
   "cell_type": "markdown",
   "id": "a24d0da4-f8ba-4db6-bf52-daec861dc6b3",
   "metadata": {},
   "source": [
    "# Average antibody escape across `polyclonal` models\n",
    "This notebook aggregates and averages the antibody escape computed across multiple fit `polyclonal` models to different libraries, replicates, etc.\n",
    "\n",
    "First, import Python modules:"
   ]
  },
  {
   "cell_type": "code",
   "execution_count": null,
   "id": "95918cff-a446-40a6-95fc-e38461feda26",
   "metadata": {
    "tags": []
   },
   "outputs": [],
   "source": [
    "import os\n",
    "import pickle\n",
    "\n",
    "import pandas as pd\n",
    "\n",
    "import polyclonal\n",
    "\n",
    "import yaml"
   ]
  },
  {
   "cell_type": "markdown",
   "id": "093a9e27-504a-4fa5-8d51-aa5b91411ba2",
   "metadata": {},
   "source": [
    "Get parameterized variables from [papermill](https://papermill.readthedocs.io/):"
   ]
  },
  {
   "cell_type": "code",
   "execution_count": null,
   "id": "f4f3ae2f-76cd-4a2e-bc69-243bbb7a405c",
   "metadata": {
    "tags": [
     "parameters"
    ]
   },
   "outputs": [],
   "source": [
    "# papermill parameters cell (tagged as `parameters`)\n",
    "antibody = None\n",
    "escape_avg_method = None\n",
    "polyclonal_config = None\n",
    "avg_pickle = None\n",
    "selection_groups_dict = None"
   ]
  },
  {
   "cell_type": "markdown",
   "id": "bb7ae819-c0d0-4962-8986-35daf643c2f8",
   "metadata": {},
   "source": [
    "Convert `selection_groups` into a data frame and get all of the pickled models:"
   ]
  },
  {
   "cell_type": "code",
   "execution_count": null,
   "id": "979f273c-2e37-4e7d-9d82-93843c4ace1f",
   "metadata": {
    "tags": []
   },
   "outputs": [],
   "source": [
    "models_df = pd.DataFrame.from_dict(selection_groups_dict, orient=\"index\")\n",
    "print(f\"Averaging the following models for {antibody=}\")\n",
    "display(models_df)\n",
    "\n",
    "# convert pickle files into models\n",
    "assert all(map(os.path.isfile, models_df[\"pickle_file\"]))\n",
    "models_df = models_df.assign(\n",
    "    model=lambda x: x[\"pickle_file\"].map(lambda f: pickle.load(open(f, \"rb\")))\n",
    ").drop(columns=\"pickle_file\")"
   ]
  },
  {
   "cell_type": "markdown",
   "id": "ef177343-c40d-4590-88dc-c1c38e662b32",
   "metadata": {},
   "source": [
    "Now build the average model:"
   ]
  },
  {
   "cell_type": "code",
   "execution_count": null,
   "id": "911a7e70-32f9-4f55-bbf8-da4a5bf701d1",
   "metadata": {
    "tags": []
   },
   "outputs": [],
   "source": [
    "avg_model = polyclonal.PolyclonalAverage(\n",
    "    models_df,\n",
    "    default_avg_to_plot=escape_avg_method,\n",
    ")"
   ]
  },
  {
   "cell_type": "markdown",
   "id": "4ab9ea40-5e0b-4feb-9a8e-fdceca7eb4b7",
   "metadata": {},
   "source": [
    "Look at correlation in escape values across replicates:"
   ]
  },
  {
   "cell_type": "code",
   "execution_count": null,
   "id": "8a6ee648-ba70-4cc1-a043-03570fda43af",
   "metadata": {},
   "outputs": [],
   "source": [
    "avg_model.mut_escape_corr_heatmap()"
   ]
  },
  {
   "cell_type": "markdown",
   "id": "6b811875-a40a-4d68-9673-c6846399724f",
   "metadata": {},
   "source": [
    "Get `times_seen` for the plotting:"
   ]
  },
  {
   "cell_type": "code",
   "execution_count": null,
   "id": "8b20689f-6afe-415d-8e59-40611613ad20",
   "metadata": {
    "tags": []
   },
   "outputs": [],
   "source": [
    "with open(polyclonal_config) as f:\n",
    "    times_seen = yaml.safe_load(f)[antibody][\"times_seen\"]\n",
    "\n",
    "print(f\"{times_seen=}\")"
   ]
  },
  {
   "cell_type": "markdown",
   "id": "c03d7e7d-1692-4098-aa25-a1e0cf756302",
   "metadata": {},
   "source": [
    "Plot the activities:"
   ]
  },
  {
   "cell_type": "code",
   "execution_count": null,
   "id": "4c1c20b4-494f-4512-9d14-d279d7b5889d",
   "metadata": {},
   "outputs": [],
   "source": [
    "avg_model.activity_wt_barplot()"
   ]
  },
  {
   "cell_type": "markdown",
   "id": "e1454228-99b5-424d-8210-ed8b5ff78b56",
   "metadata": {},
   "source": [
    "Plot the site summaries of the escape:"
   ]
  },
  {
   "cell_type": "code",
   "execution_count": null,
   "id": "d0edd0d2-cac6-4c6e-b81b-1fc9b449078b",
   "metadata": {
    "tags": []
   },
   "outputs": [],
   "source": [
    "avg_model.mut_escape_lineplot(\n",
    "    mut_escape_site_summary_df_kwargs={\"min_times_seen\": times_seen},\n",
    ")"
   ]
  },
  {
   "cell_type": "markdown",
   "id": "01f5e879-7a57-4f97-a328-2c997a9221fc",
   "metadata": {},
   "source": [
    "Plot the mutation-level escapes averaged across replicates:"
   ]
  },
  {
   "cell_type": "code",
   "execution_count": null,
   "id": "0bb8abda-d259-4541-b3db-5ba7e56e99e4",
   "metadata": {
    "tags": []
   },
   "outputs": [],
   "source": [
    "avg_model.mut_escape_heatmap(init_min_times_seen=times_seen)"
   ]
  },
  {
   "cell_type": "markdown",
   "id": "2c40eb52-17dc-4182-88a4-de19875f289e",
   "metadata": {},
   "source": [
    "Save the average model to a pickle file:"
   ]
  },
  {
   "cell_type": "code",
   "execution_count": null,
   "id": "debd51a3-4aee-4958-8d6c-21a094c79c93",
   "metadata": {
    "tags": []
   },
   "outputs": [],
   "source": [
    "print(f\"Saving model to {avg_pickle=}\")\n",
    "\n",
    "with open(avg_pickle, \"wb\") as f:\n",
    "    pickle.dump(avg_model, f)"
   ]
  },
  {
   "cell_type": "code",
   "execution_count": null,
   "id": "fd670de1-1781-4edb-b5aa-1ada08feeb12",
   "metadata": {},
   "outputs": [],
   "source": []
  }
 ],
 "metadata": {
  "kernelspec": {
   "display_name": "Python 3 (ipykernel)",
   "language": "python",
   "name": "python3"
  },
  "language_info": {
   "codemirror_mode": {
    "name": "ipython",
    "version": 3
   },
   "file_extension": ".py",
   "mimetype": "text/x-python",
   "name": "python",
   "nbconvert_exporter": "python",
   "pygments_lexer": "ipython3",
   "version": "3.9.13"
  },
  "nbsphinx": {
   "orphan": true
  }
 },
 "nbformat": 4,
 "nbformat_minor": 5
}
