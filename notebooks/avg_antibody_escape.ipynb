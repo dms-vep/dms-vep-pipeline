{
 "cells": [
  {
   "cell_type": "markdown",
   "id": "a24d0da4-f8ba-4db6-bf52-daec861dc6b3",
   "metadata": {},
   "source": [
    "# Average antibody escape across `polyclonal` models\n",
    "This notebook aggregates and averages the antibody escape computed across multiple fit `polyclonal` models to different libraries, replicates, etc.\n",
    "\n",
    "First, import Python modules:"
   ]
  },
  {
   "cell_type": "code",
   "execution_count": null,
   "id": "95918cff-a446-40a6-95fc-e38461feda26",
   "metadata": {
    "tags": []
   },
   "outputs": [],
   "source": [
    "import os\n",
    "import pickle\n",
    "\n",
    "import pandas as pd"
   ]
  },
  {
   "cell_type": "markdown",
   "id": "093a9e27-504a-4fa5-8d51-aa5b91411ba2",
   "metadata": {},
   "source": [
    "Get parameterized variables from [papermill](https://papermill.readthedocs.io/):"
   ]
  },
  {
   "cell_type": "code",
   "execution_count": null,
   "id": "f4f3ae2f-76cd-4a2e-bc69-243bbb7a405c",
   "metadata": {
    "tags": [
     "parameters"
    ]
   },
   "outputs": [],
   "source": [
    "# papermill parameters cell (tagged as `parameters`)\n",
    "antibody = None\n",
    "escape_avg_method = None\n",
    "avg_pickle = None\n",
    "selection_groups_dict = None"
   ]
  },
  {
   "cell_type": "code",
   "execution_count": null,
   "id": "68f99d1d-406d-46d9-8f6c-fced8422d1f1",
   "metadata": {
    "tags": []
   },
   "outputs": [],
   "source": [
    "# This is just a temporary completed parameters cell like papermill will make when called with antibody REGN10933\n",
    "selection_groups_dict = {\n",
    "    \"LibA_2022-02-10a_thaw-3_REGN10933_1\": {\n",
    "        \"date\": \"2022-02-10a\",\n",
    "        \"library\": \"LibA\",\n",
    "        \"replicate\": 1,\n",
    "        \"virus_batch\": \"thaw-3\",\n",
    "        \"pickle_file\": \"results/polyclonal_fits/LibA_2022-02-10a_thaw-3_REGN10933_1.pickle\",\n",
    "    },\n",
    "    \"LibA_2022-02-10a_thaw-3_REGN10933_2\": {\n",
    "        \"date\": \"2022-02-10a\",\n",
    "        \"library\": \"LibA\",\n",
    "        \"replicate\": 2,\n",
    "        \"virus_batch\": \"thaw-3\",\n",
    "        \"pickle_file\": \"results/polyclonal_fits/LibA_2022-02-10a_thaw-3_REGN10933_2.pickle\",\n",
    "    },\n",
    "    \"LibB_2022-03-02_thaw-3_REGN10933_1\": {\n",
    "        \"date\": \"2022-03-02\",\n",
    "        \"library\": \"LibB\",\n",
    "        \"replicate\": 1,\n",
    "        \"virus_batch\": \"thaw-3\",\n",
    "        \"pickle_file\": \"results/polyclonal_fits/LibB_2022-03-02_thaw-3_REGN10933_1.pickle\",\n",
    "    },\n",
    "}\n",
    "antibody = \"REGN10933\"\n",
    "escape_avg_method = \"median\"\n",
    "avg_pickle = \"results/antibody_escape/REGN10933.pickle\"\n",
    "\n",
    "# another temporary command to get in right subdir\n",
    "os.chdir(\"../test_example\")"
   ]
  },
  {
   "cell_type": "markdown",
   "id": "bb7ae819-c0d0-4962-8986-35daf643c2f8",
   "metadata": {},
   "source": [
    "Convert `selection_groups` into a data frame and get all of the pickled models:"
   ]
  },
  {
   "cell_type": "code",
   "execution_count": null,
   "id": "979f273c-2e37-4e7d-9d82-93843c4ace1f",
   "metadata": {
    "tags": []
   },
   "outputs": [],
   "source": [
    "selection_groups = pd.DataFrame.from_dict(selection_groups_dict, orient=\"index\")\n",
    "\n",
    "assert all(map(os.path.isfile, selection_groups[\"pickle_file\"]))\n",
    "\n",
    "selection_groups"
   ]
  },
  {
   "cell_type": "code",
   "execution_count": null,
   "id": "911a7e70-32f9-4f55-bbf8-da4a5bf701d1",
   "metadata": {},
   "outputs": [],
   "source": []
  }
 ],
 "metadata": {
  "kernelspec": {
   "display_name": "Python 3 (ipykernel)",
   "language": "python",
   "name": "python3"
  },
  "language_info": {
   "codemirror_mode": {
    "name": "ipython",
    "version": 3
   },
   "file_extension": ".py",
   "mimetype": "text/x-python",
   "name": "python",
   "nbconvert_exporter": "python",
   "pygments_lexer": "ipython3",
   "version": "3.9.13"
  }
 },
 "nbformat": 4,
 "nbformat_minor": 5
}
