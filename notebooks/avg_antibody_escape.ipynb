{
 "cells": [
  {
   "cell_type": "markdown",
   "id": "a24d0da4-f8ba-4db6-bf52-daec861dc6b3",
   "metadata": {
    "papermill": {
     "duration": 0.01081,
     "end_time": "2023-01-04T23:22:55.666517",
     "exception": false,
     "start_time": "2023-01-04T23:22:55.655707",
     "status": "completed"
    },
    "tags": []
   },
   "source": [
    "# Average antibody escape across `polyclonal` models\n",
    "This notebook aggregates and averages the antibody escape computed across multiple fit `polyclonal` models to different libraries, replicates, etc.\n",
    "\n",
    "First, import Python modules:"
   ]
  },
  {
   "cell_type": "code",
   "execution_count": null,
   "id": "95918cff-a446-40a6-95fc-e38461feda26",
   "metadata": {
    "papermill": {
     "duration": 1.439563,
     "end_time": "2023-01-04T23:22:57.114390",
     "exception": false,
     "start_time": "2023-01-04T23:22:55.674827",
     "status": "completed"
    },
    "tags": []
   },
   "outputs": [],
   "source": [
    "import os\n",
    "import pickle\n",
    "\n",
    "import pandas as pd\n",
    "\n",
    "import polyclonal\n",
    "from polyclonal.polyclonal import PolyclonalHarmonizeError\n",
    "\n",
    "import yaml"
   ]
  },
  {
   "cell_type": "markdown",
   "id": "093a9e27-504a-4fa5-8d51-aa5b91411ba2",
   "metadata": {
    "papermill": {
     "duration": 0.006291,
     "end_time": "2023-01-04T23:22:57.130476",
     "exception": false,
     "start_time": "2023-01-04T23:22:57.124185",
     "status": "completed"
    },
    "tags": []
   },
   "source": [
    "Get parameterized variables from [papermill](https://papermill.readthedocs.io/):"
   ]
  },
  {
   "cell_type": "code",
   "execution_count": null,
   "id": "f4f3ae2f-76cd-4a2e-bc69-243bbb7a405c",
   "metadata": {
    "papermill": {
     "duration": 0.018009,
     "end_time": "2023-01-04T23:22:57.154314",
     "exception": false,
     "start_time": "2023-01-04T23:22:57.136305",
     "status": "completed"
    },
    "tags": [
     "parameters"
    ]
   },
   "outputs": [],
   "source": [
    "# papermill parameters cell (tagged as `parameters`)\n",
    "antibody = None\n",
    "escape_avg_method = None\n",
    "polyclonal_config = None\n",
    "site_numbering_map = None\n",
    "muteffects_csv = None\n",
    "avg_pickle = None\n",
    "escape_plot = None\n",
    "avg_escape = None\n",
    "rep_escape = None\n",
    "selection_groups_dict = None"
   ]
  },
  {
   "cell_type": "markdown",
   "id": "bb7ae819-c0d0-4962-8986-35daf643c2f8",
   "metadata": {
    "papermill": {
     "duration": 0.006018,
     "end_time": "2023-01-04T23:22:57.192679",
     "exception": false,
     "start_time": "2023-01-04T23:22:57.186661",
     "status": "completed"
    },
    "tags": []
   },
   "source": [
    "Convert `selection_groups` into a data frame and get all of the pickled models for each number of epitopes:"
   ]
  },
  {
   "cell_type": "code",
   "execution_count": null,
   "id": "979f273c-2e37-4e7d-9d82-93843c4ace1f",
   "metadata": {
    "papermill": {
     "duration": 0.744599,
     "end_time": "2023-01-04T23:22:57.943170",
     "exception": false,
     "start_time": "2023-01-04T23:22:57.198571",
     "status": "completed"
    },
    "tags": []
   },
   "outputs": [],
   "source": [
    "models_df = pd.DataFrame.from_dict(selection_groups_dict, orient=\"index\")\n",
    "print(f\"Averaging the following models for {antibody=}\")\n",
    "display(models_df)\n",
    "\n",
    "# convert pickle files into models\n",
    "assert all(map(os.path.isfile, models_df[\"pickle_file\"])), models_df[\"pickle_file\"]\n",
    "models_df = (\n",
    "    models_df.assign(\n",
    "        model=lambda x: x[\"pickle_file\"].map(lambda f: pickle.load(open(f, \"rb\")))\n",
    "    )\n",
    "    .explode(\"model\")\n",
    "    .drop(columns=[\"pickle_file\"])\n",
    "    .assign(n_epitopes=lambda x: x[\"model\"].map(lambda m: len(m.epitopes)))\n",
    ")"
   ]
  },
  {
   "cell_type": "markdown",
   "id": "ef177343-c40d-4590-88dc-c1c38e662b32",
   "metadata": {
    "papermill": {
     "duration": 0.006329,
     "end_time": "2023-01-04T23:22:57.960022",
     "exception": false,
     "start_time": "2023-01-04T23:22:57.953693",
     "status": "completed"
    },
    "tags": []
   },
   "source": [
    "Now build the average model, starting with the max number of epitopes and continuing with fewer if we can't get harmonization with the max number:"
   ]
  },
  {
   "cell_type": "code",
   "execution_count": null,
   "id": "911a7e70-32f9-4f55-bbf8-da4a5bf701d1",
   "metadata": {
    "papermill": {
     "duration": 1.1217,
     "end_time": "2023-01-04T23:22:59.088144",
     "exception": false,
     "start_time": "2023-01-04T23:22:57.966444",
     "status": "completed"
    },
    "tags": []
   },
   "outputs": [],
   "source": [
    "n_epitopes = models_df[\"n_epitopes\"].sort_values(ascending=False).unique()\n",
    "\n",
    "for n in n_epitopes:\n",
    "    try:\n",
    "        print(f\"Trying to harmonize models with {n} epitopes...\")\n",
    "        avg_model = polyclonal.PolyclonalAverage(\n",
    "            models_df.query(\"n_epitopes == @n\"),\n",
    "            default_avg_to_plot=escape_avg_method,\n",
    "        )\n",
    "        print(\"Successfully harmonized models.\")\n",
    "        break\n",
    "    except PolyclonalHarmonizeError as exc:\n",
    "        print(f\"Harmonization failed with this error:\\n{str(exc)}\\n\\n\")"
   ]
  },
  {
   "cell_type": "markdown",
   "id": "4ab9ea40-5e0b-4feb-9a8e-fdceca7eb4b7",
   "metadata": {
    "papermill": {
     "duration": 0.009413,
     "end_time": "2023-01-04T23:22:59.109760",
     "exception": false,
     "start_time": "2023-01-04T23:22:59.100347",
     "status": "completed"
    },
    "tags": []
   },
   "source": [
    "Look at correlation in escape values across replicates:"
   ]
  },
  {
   "cell_type": "code",
   "execution_count": null,
   "id": "8a6ee648-ba70-4cc1-a043-03570fda43af",
   "metadata": {
    "papermill": {
     "duration": 0.365314,
     "end_time": "2023-01-04T23:22:59.482429",
     "exception": false,
     "start_time": "2023-01-04T23:22:59.117115",
     "status": "completed"
    },
    "tags": []
   },
   "outputs": [],
   "source": [
    "avg_model.mut_escape_corr_heatmap()"
   ]
  },
  {
   "cell_type": "markdown",
   "id": "c03d7e7d-1692-4098-aa25-a1e0cf756302",
   "metadata": {
    "papermill": {
     "duration": 0.006532,
     "end_time": "2023-01-04T23:22:59.494973",
     "exception": false,
     "start_time": "2023-01-04T23:22:59.488441",
     "status": "completed"
    },
    "tags": []
   },
   "source": [
    "Plot the neutralization curves against unmutated protein (which reflect the wildtype activities, Hill coefficients, and non-neutralizable fractions):"
   ]
  },
  {
   "cell_type": "code",
   "execution_count": null,
   "id": "4c1c20b4-494f-4512-9d14-d279d7b5889d",
   "metadata": {
    "papermill": {
     "duration": 0.106926,
     "end_time": "2023-01-04T23:22:59.608778",
     "exception": false,
     "start_time": "2023-01-04T23:22:59.501852",
     "status": "completed"
    },
    "tags": []
   },
   "outputs": [],
   "source": [
    "avg_model.curves_plot()"
   ]
  },
  {
   "cell_type": "markdown",
   "id": "e1454228-99b5-424d-8210-ed8b5ff78b56",
   "metadata": {
    "papermill": {
     "duration": 0.006639,
     "end_time": "2023-01-04T23:22:59.626518",
     "exception": false,
     "start_time": "2023-01-04T23:22:59.619879",
     "status": "completed"
    },
    "tags": []
   },
   "source": [
    "Plot the escape values:"
   ]
  },
  {
   "cell_type": "code",
   "execution_count": null,
   "id": "0bb8abda-d259-4541-b3db-5ba7e56e99e4",
   "metadata": {
    "papermill": {
     "duration": 2.05369,
     "end_time": "2023-01-04T23:23:01.688825",
     "exception": false,
     "start_time": "2023-01-04T23:22:59.635135",
     "status": "completed"
    },
    "tags": []
   },
   "outputs": [],
   "source": [
    "site_map = pd.read_csv(site_numbering_map).rename(columns={\"reference_site\": \"site\"})\n",
    "\n",
    "with open(polyclonal_config) as f:\n",
    "    antibody_config = yaml.safe_load(f)[antibody]\n",
    "\n",
    "plot_kwargs = antibody_config[\"plot_kwargs\"]\n",
    "if \"plot_title\" not in plot_kwargs:\n",
    "    plot_kwargs[\"plot_title\"] = str(antibody)\n",
    "if \"region\" in site_map.columns:\n",
    "    plot_kwargs[\"site_zoom_bar_color_col\"] = \"region\"\n",
    "if \"addtl_slider_stats\" not in plot_kwargs:\n",
    "    plot_kwargs[\"addtl_slider_stats\"] = {\"times_seen\": 1}\n",
    "elif \"times_seen\" not in plot_kwargs[\"addtl_slider_stats\"]:\n",
    "    plot_kwargs[\"addtl_slider_stats\"][\"times_seen\"] = 1\n",
    "if any(site_map[\"sequential_site\"] != site_map[\"site\"]):\n",
    "    if \"addtl_tooltip_stats\" not in plot_kwargs:\n",
    "        plot_kwargs[\"addtl_tooltip_stats\"] = [\"sequential_site\"]\n",
    "    elif \"sequential_site\" not in plot_kwargs[\"addtl_tooltip_stats\"]:\n",
    "        plot_kwargs[\"addtl_tooltip_stats\"].append(\"sequential_site\")\n",
    "\n",
    "df_to_merge = [site_map]\n",
    "\n",
    "if muteffects_csv != \"none\":\n",
    "    muteffects = pd.read_csv(muteffects_csv).rename(\n",
    "        columns={\"reference_site\": \"site\", \"effect\": \"functional effect\"}\n",
    "    )[[\"site\", \"mutant\", \"functional effect\"]]\n",
    "    if \"functional effect\" not in plot_kwargs[\"addtl_slider_stats\"]:\n",
    "        plot_kwargs[\"addtl_slider_stats\"][\"functional effect\"] = muteffects[\n",
    "            \"functional effect\"\n",
    "        ].min()\n",
    "    if \"addtl_slider_stats_hide_not_filter\" not in plot_kwargs:\n",
    "        plot_kwargs[\"addtl_slider_stats_hide_not_filter\"] = []\n",
    "    if \"functional effect\" not in plot_kwargs[\"addtl_slider_stats_hide_not_filter\"]:\n",
    "        plot_kwargs[\"addtl_slider_stats_hide_not_filter\"].append(\"functional effect\")\n",
    "    df_to_merge.append(muteffects)\n",
    "elif \"functional effect\" in plot_kwargs[\"addtl_slider_stats\"]:\n",
    "    del plot_kwargs[\"addtl_slider_stats\"][\"functional effect\"]\n",
    "\n",
    "escape_chart = avg_model.mut_escape_plot(\n",
    "    df_to_merge=df_to_merge,\n",
    "    **plot_kwargs,\n",
    ")\n",
    "\n",
    "print(f\"Saving plot to {escape_plot=}\")\n",
    "escape_chart.save(escape_plot)\n",
    "\n",
    "escape_chart"
   ]
  },
  {
   "cell_type": "markdown",
   "id": "2c40eb52-17dc-4182-88a4-de19875f289e",
   "metadata": {
    "papermill": {
     "duration": 0.025483,
     "end_time": "2023-01-04T23:23:01.736940",
     "exception": false,
     "start_time": "2023-01-04T23:23:01.711457",
     "status": "completed"
    },
    "tags": []
   },
   "source": [
    "Save the average model to a pickle file:"
   ]
  },
  {
   "cell_type": "code",
   "execution_count": null,
   "id": "debd51a3-4aee-4958-8d6c-21a094c79c93",
   "metadata": {
    "papermill": {
     "duration": 0.115333,
     "end_time": "2023-01-04T23:23:01.875591",
     "exception": false,
     "start_time": "2023-01-04T23:23:01.760258",
     "status": "completed"
    },
    "tags": []
   },
   "outputs": [],
   "source": [
    "print(f\"Saving model to {avg_pickle=}\")\n",
    "\n",
    "with open(avg_pickle, \"wb\") as f:\n",
    "    pickle.dump(avg_model, f)"
   ]
  },
  {
   "cell_type": "markdown",
   "id": "2720d788-872b-4e31-b599-0d521f0b93f5",
   "metadata": {
    "papermill": {
     "duration": 0.022626,
     "end_time": "2023-01-04T23:23:01.925692",
     "exception": false,
     "start_time": "2023-01-04T23:23:01.903066",
     "status": "completed"
    },
    "tags": []
   },
   "source": [
    "Save the average model escape values:"
   ]
  },
  {
   "cell_type": "code",
   "execution_count": null,
   "id": "6e4bc9eb-71ab-4cbe-a7d3-d2a34422841f",
   "metadata": {
    "papermill": {
     "duration": 0.36648,
     "end_time": "2023-01-04T23:23:02.314872",
     "exception": false,
     "start_time": "2023-01-04T23:23:01.948392",
     "status": "completed"
    },
    "tags": []
   },
   "outputs": [],
   "source": [
    "print(f\"Saving average escape values to {avg_escape=}\")\n",
    "avg_model.mut_escape_df.round(4).to_csv(avg_escape, index=False)\n",
    "\n",
    "print(f\"Saving per-replicate escape values to {rep_escape=}\")\n",
    "avg_model.mut_escape_df_replicates.round(4).to_csv(rep_escape, index=False)"
   ]
  }
 ],
 "metadata": {
  "kernelspec": {
   "display_name": "Python 3 (ipykernel)",
   "language": "python",
   "name": "python3"
  },
  "language_info": {
   "codemirror_mode": {
    "name": "ipython",
    "version": 3
   },
   "file_extension": ".py",
   "mimetype": "text/x-python",
   "name": "python",
   "nbconvert_exporter": "python",
   "pygments_lexer": "ipython3",
   "version": "3.11.0"
  },
  "nbsphinx": {
   "orphan": true
  },
  "papermill": {
   "default_parameters": {},
   "duration": 9.614897,
   "end_time": "2023-01-04T23:23:02.864648",
   "environment_variables": {},
   "exception": null,
   "input_path": "../notebooks/avg_antibody_escape.ipynb",
   "output_path": "results/notebooks/avg_antibody_escape_REGN10933.ipynb",
   "parameters": {
    "antibody": "REGN10933",
    "avg_escape": "results/antibody_escape/REGN10933_avg.csv",
    "avg_pickle": "results/antibody_escape/REGN10933.pickle",
    "escape_avg_method": "median",
    "escape_plot": "results/antibody_escape/REGN10933_escape_plot_unformatted.html",
    "muteffects_csv": "results/muteffects_functional/muteffects_observed.csv",
    "polyclonal_config": "data/polyclonal_config.yaml",
    "rep_escape": "results/antibody_escape/REGN10933_rep.csv",
    "selection_groups_dict": {
     "LibA_2022-02-10a_thaw-3_REGN10933_1": {
      "date": "2022-02-10a",
      "library": "LibA",
      "pickle_file": "results/polyclonal_fits/LibA_2022-02-10a_thaw-3_REGN10933_1.pickle",
      "replicate": 1,
      "virus_batch": "thaw-3"
     },
     "LibA_2022-02-10a_thaw-3_REGN10933_2": {
      "date": "2022-02-10a",
      "library": "LibA",
      "pickle_file": "results/polyclonal_fits/LibA_2022-02-10a_thaw-3_REGN10933_2.pickle",
      "replicate": 2,
      "virus_batch": "thaw-3"
     },
     "LibB_2022-03-02_thaw-3_REGN10933_1": {
      "date": "2022-03-02",
      "library": "LibB",
      "pickle_file": "results/polyclonal_fits/LibB_2022-03-02_thaw-3_REGN10933_1.pickle",
      "replicate": 1,
      "virus_batch": "thaw-3"
     }
    },
    "site_numbering_map": "data/site_numbering_map.csv"
   },
   "start_time": "2023-01-04T23:22:53.249751",
   "version": "2.3.4"
  }
 },
 "nbformat": 4,
 "nbformat_minor": 5
}
