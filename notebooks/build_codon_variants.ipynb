{
 "cells": [
  {
   "cell_type": "markdown",
   "id": "34cee08c-b6ee-450d-ae33-edd181df02b4",
   "metadata": {},
   "source": [
    "# Build the codon variants\n",
    "Analyze the codon mutations in the variants and build a codon-variant table.\n",
    "\n",
    "First, import Python modules:"
   ]
  },
  {
   "cell_type": "code",
   "execution_count": null,
   "id": "a2b4fb9f-ad03-4348-8c99-1dfda78b0dde",
   "metadata": {
    "tags": []
   },
   "outputs": [],
   "source": [
    "import itertools\n",
    "import tempfile\n",
    "\n",
    "import Bio.SeqIO\n",
    "\n",
    "import altair as alt\n",
    "\n",
    "import dms_variants.codonvarianttable\n",
    "import dms_variants.plotnine_themes\n",
    "\n",
    "import matplotlib.pyplot as plt\n",
    "\n",
    "import pandas as pd\n",
    "\n",
    "import upsetplot\n",
    "\n",
    "import yaml"
   ]
  },
  {
   "cell_type": "code",
   "execution_count": null,
   "id": "dfdbecf5-ead3-4d3e-a0ae-106cc124bce5",
   "metadata": {
    "tags": []
   },
   "outputs": [],
   "source": [
    "# allow more rows for Altair\n",
    "_ = alt.data_transformers.disable_max_rows()"
   ]
  },
  {
   "cell_type": "markdown",
   "id": "649e0dcc-7e23-4386-84d8-3cafba0ec69b",
   "metadata": {},
   "source": [
    "Read configuration:"
   ]
  },
  {
   "cell_type": "code",
   "execution_count": null,
   "id": "6aa10c89-ae3b-43da-a707-a6bef3d454d6",
   "metadata": {
    "tags": []
   },
   "outputs": [],
   "source": [
    "# If you are running notebook interactively rather than in pipeline that handles\n",
    "# working directories, you may have to first `os.chdir` to appropriate directory.\n",
    "\n",
    "with open(\"config.yaml\") as f:\n",
    "    config = yaml.safe_load(f)"
   ]
  },
  {
   "cell_type": "markdown",
   "id": "5c380041-0c02-43cd-b8fd-ca56f32ccfa5",
   "metadata": {},
   "source": [
    "## Create codon-variant table with neutralization standards\n",
    "\n",
    "First, read the neutralization standards:"
   ]
  },
  {
   "cell_type": "code",
   "execution_count": null,
   "id": "d237b6f5-d1bf-4db5-985c-55f7f2eadac3",
   "metadata": {},
   "outputs": [],
   "source": [
    "print(\n",
    "    f\"Reading neutralization standard barcodes from {config['neut_standard_barcodes']}\"\n",
    ")\n",
    "neut_standard = pd.read_csv(config[\"neut_standard_barcodes\"])\n",
    "assert len(neut_standard) == neut_standard[\"barcode\"].nunique()\n",
    "\n",
    "print(f\"There are {len(neut_standard)} neutralization standard barcodes.\")"
   ]
  },
  {
   "cell_type": "markdown",
   "id": "14b618cc-a23d-404c-b4cb-b4a853fb318a",
   "metadata": {},
   "source": [
    "Now read the variants for our gene of interest (primary target) and make sure there are no overlapping barcodes with the neutralization standard:"
   ]
  },
  {
   "cell_type": "code",
   "execution_count": null,
   "id": "3f73c90d-714c-462d-8152-b39090e5d11d",
   "metadata": {
    "tags": []
   },
   "outputs": [],
   "source": [
    "print(f\"Reading gene variants from {config['nt_variants']}\")\n",
    "gene_variants = pd.read_csv(config[\"nt_variants\"], na_filter=False)\n",
    "\n",
    "shared = set(neut_standard[\"barcode\"]).intersection(gene_variants[\"barcode\"])\n",
    "if shared:\n",
    "    raise ValueError(\n",
    "        f\"{len(shared)} barcodes shared between neut standards and gene variants.\"\n",
    "    )\n",
    "else:\n",
    "    print(\"The gene variants and neutralization standards have distinct barcodes.\")"
   ]
  },
  {
   "cell_type": "markdown",
   "id": "9018b940-ca53-4def-917c-6497fbce268c",
   "metadata": {},
   "source": [
    "Now initialize a [CodonVariantTable](https://jbloomlab.github.io/dms_variants/dms_variants.codonvarianttable.html), which requires the wildtype gene sequence and the list of nucleotide mutations in each barcoded gene variant.\n",
    "We add the variants of our gene under `gene` as the `primary_target`, and the neutralization standards as a secondary target.\n",
    "Note that we use the `allowgaps` option as gaps are being allowed:"
   ]
  },
  {
   "cell_type": "code",
   "execution_count": null,
   "id": "ce06cdb3-63e8-48d0-a906-0a8d9b2b619f",
   "metadata": {
    "tags": []
   },
   "outputs": [],
   "source": [
    "# get wildtype gene sequence\n",
    "geneseq = str(Bio.SeqIO.read(config[\"gene_sequence_codon\"], \"fasta\").seq)\n",
    "assert len(geneseq) % 3 == 0\n",
    "print(f\"Read gene of length {len(geneseq)} nucleotides as primary target\")\n",
    "\n",
    "# make a data frame with the gene variants and neutralization standard\n",
    "variants_df = pd.concat(\n",
    "    [\n",
    "        gene_variants.assign(target=\"gene\"),\n",
    "        pd.concat(\n",
    "            [\n",
    "                neut_standard.assign(\n",
    "                    library=lib,\n",
    "                    substitutions=\"\",\n",
    "                    target=\"neut_standard\",\n",
    "                    # variant call support for neut standards max of any gene variant\n",
    "                    variant_call_support=gene_variants[\"variant_call_support\"].max(),\n",
    "                )\n",
    "                for lib in gene_variants[\"library\"].unique()\n",
    "            ]\n",
    "        ),\n",
    "    ]\n",
    ")\n",
    "\n",
    "\n",
    "# now build the CodonVariantTables\n",
    "with tempfile.NamedTemporaryFile(mode=\"w\") as f:\n",
    "    variants_df.to_csv(f)\n",
    "    f.flush()\n",
    "    variants = dms_variants.codonvarianttable.CodonVariantTable(\n",
    "        barcode_variant_file=f.name,\n",
    "        geneseq=geneseq,\n",
    "        allowgaps=True,\n",
    "        primary_target=\"gene\",\n",
    "    )"
   ]
  },
  {
   "cell_type": "markdown",
   "id": "923935d0-0cf0-454b-9bf1-0e3042d00c84",
   "metadata": {},
   "source": [
    "## Number of mutations per variant\n",
    "\n",
    "Plot some basic stats on the number of mutations per variant:"
   ]
  },
  {
   "cell_type": "code",
   "execution_count": null,
   "id": "58bf72f3-8a76-4401-a016-42ce230e6705",
   "metadata": {
    "tags": []
   },
   "outputs": [],
   "source": [
    "# distribution of amino-acid mutations per variant\n",
    "p = variants.plotNumMutsHistogram(\n",
    "    mut_type=\"aa\",\n",
    "    max_muts=8,\n",
    "    widthscale=1.3,\n",
    "    heightscale=0.9,\n",
    "    libraries=variants.libraries,\n",
    "    samples=None,\n",
    ")\n",
    "fig = p.draw()"
   ]
  },
  {
   "cell_type": "code",
   "execution_count": null,
   "id": "a6010e01-abed-4385-a0a1-fb410b129279",
   "metadata": {},
   "outputs": [],
   "source": [
    "# average mutations per variant\n",
    "p = variants.plotNumCodonMutsByType(\n",
    "    variant_type=\"all\",\n",
    "    samples=None,\n",
    "    libraries=variants.libraries,\n",
    "    widthscale=1.3,\n",
    "    ylabel=\"codon mutations per variant\",\n",
    ")\n",
    "fig = p.draw()"
   ]
  },
  {
   "cell_type": "markdown",
   "id": "53df2654-d0f6-40e5-85e5-0ef3d28d23b6",
   "metadata": {},
   "source": [
    "Also make a nice `altair` version of this plot:"
   ]
  },
  {
   "cell_type": "code",
   "execution_count": null,
   "id": "07003eb6-6f99-4553-8441-f9a7f66b8533",
   "metadata": {
    "tags": []
   },
   "outputs": [],
   "source": [
    "num_muts = variants.numCodonMutsByType(\n",
    "    variant_type=\"all\",\n",
    "    samples=None,\n",
    "    libraries=variants.libraries,\n",
    ")\n",
    "\n",
    "mut_type_order = (\n",
    "    num_muts.sort_values(\"number\", ascending=False)[\"mutation_type\"].unique().tolist()\n",
    ")\n",
    "\n",
    "num_muts_chart = (\n",
    "    alt.Chart(num_muts)\n",
    "    .encode(\n",
    "        x=alt.X(\"mutation_type\", title=None, scale=alt.Scale(domain=mut_type_order)),\n",
    "        y=alt.Y(\"number\", title=\"codon mutations per variant\"),\n",
    "        color=alt.Color(\"mutation_type\", legend=None),\n",
    "        facet=alt.Facet(\"library\", title=None, columns=4),\n",
    "        tooltip=[\"library\", \"mutation_type\", alt.Tooltip(\"number\", format=\".2f\")],\n",
    "    )\n",
    "    .mark_bar()\n",
    "    .properties(width=alt.Step(25), height=150)\n",
    ")\n",
    "\n",
    "num_muts_chart"
   ]
  },
  {
   "cell_type": "markdown",
   "id": "962684ae-e818-405a-be30-9752652a228b",
   "metadata": {},
   "source": [
    "## Counts of different types of mutations in the libraries\n",
    "Read the designed mutations for the library, combine with site numbering file, and remove mutations that correspond to what is already wildtype in parental sequence:"
   ]
  },
  {
   "cell_type": "code",
   "execution_count": null,
   "id": "b3b873fe-6c2a-4fa2-870f-67b79a93d93c",
   "metadata": {
    "tags": []
   },
   "outputs": [],
   "source": [
    "# read designed mutations\n",
    "designed_mutations = pd.read_csv(config[\"mutation_design_classification\"])\n",
    "\n",
    "# list of designed mutation types in order of abundance\n",
    "designed_mutation_types = (\n",
    "    designed_mutations.groupby(\"mutation_type\")\n",
    "    .size()\n",
    "    .sort_values(ascending=False)\n",
    "    .index.tolist()\n",
    ")\n",
    "\n",
    "# read reference site numbering\n",
    "site_numbering_map = pd.read_csv(config[\"site_numbering_map\"])\n",
    "\n",
    "# read wildtype protein\n",
    "refprot = str(Bio.SeqIO.read(config[\"gene_sequence_protein\"], \"fasta\").seq)\n",
    "assert len(refprot) >= site_numbering_map[\"sequential_site\"].max()\n",
    "assert site_numbering_map[\"sequential_site\"].min() >= 1\n",
    "\n",
    "# add reference site numbering and remove wildtype to wildtype mutations\n",
    "designed_mutations = (\n",
    "    designed_mutations.merge(\n",
    "        site_numbering_map, on=\"sequential_site\", validate=\"many_to_one\"\n",
    "    )\n",
    "    .rename(\n",
    "        columns={\n",
    "            \"amino_acid\": \"mutant\",\n",
    "            \"mutation_type\": \"designed_mutation_type\",\n",
    "        }\n",
    "    )\n",
    "    .assign(wildtype=lambda x: x[\"sequential_site\"].map(lambda r: refprot[r - 1]))\n",
    "    .query(\"wildtype != mutant\")\n",
    "    .assign(\n",
    "        sequential_mutation=lambda x: x[\"wildtype\"]\n",
    "        + x[\"sequential_site\"].astype(str)\n",
    "        + x[\"mutant\"],\n",
    "        reference_mutation=lambda x: x[\"wildtype\"]\n",
    "        + x[\"reference_site\"].astype(str)\n",
    "        + x[\"mutant\"],\n",
    "    )[\n",
    "        [\n",
    "            \"sequential_site\",\n",
    "            \"sequential_mutation\",\n",
    "            \"reference_site\",\n",
    "            \"reference_mutation\",\n",
    "            \"designed_mutation_type\",\n",
    "        ]\n",
    "    ]\n",
    ")"
   ]
  },
  {
   "cell_type": "markdown",
   "id": "bb19dc85-c982-4fa7-9a0f-d1fe382b4c3b",
   "metadata": {},
   "source": [
    "Make an [UpSet plots](https://upsetplot.readthedocs.io/) showing the designed mutations in each category, both among the set of all designed mutations, and among the variants we actually ended up with in each library.\n",
    "For the libraries, we make plots showing both the identity of the mutations (each mutation counted once no matter how many times it appears) and the composition (each mutation counted as the number of variants in which it appears):"
   ]
  },
  {
   "cell_type": "code",
   "execution_count": null,
   "id": "98e7f649-c78a-4d20-ab3b-dcd3e59824eb",
   "metadata": {
    "tags": []
   },
   "outputs": [],
   "source": [
    "# first get in wide form suitable for `upsetplot` package\n",
    "designed_mutations_wide = (\n",
    "    designed_mutations.assign(exists=True)\n",
    "    .pivot_table(\n",
    "        index=[\"sequential_site\", \"sequential_mutation\"],\n",
    "        columns=\"designed_mutation_type\",\n",
    "        values=\"exists\",\n",
    "        fill_value=False,\n",
    "        aggfunc=\"any\",\n",
    "    )\n",
    "    .reset_index()\n",
    "    .set_index(designed_mutation_types)\n",
    ")\n",
    "\n",
    "# make upset plot for all designed mutations and each library\n",
    "for lib, weighted in itertools.product([None, *variants.libraries], [True, False]):\n",
    "    if lib is None:\n",
    "        df = designed_mutations_wide.assign(count=1)\n",
    "        if weighted:\n",
    "            continue  # weighted plot does not make sense here\n",
    "    else:\n",
    "        # get mutation counts among variants in library\n",
    "        df = (\n",
    "            variants.mutCounts(\n",
    "                variant_type=\"all\",\n",
    "                mut_type=\"aa\",\n",
    "                samples=None,\n",
    "                libraries=[lib],\n",
    "            )\n",
    "            .query(\"count > 0\")\n",
    "            .rename(columns={\"mutation\": \"sequential_mutation\"})[\n",
    "                [\"sequential_mutation\", \"count\"]\n",
    "            ]\n",
    "            .merge(\n",
    "                designed_mutations_wide[\"sequential_mutation\"].reset_index(),\n",
    "                how=\"left\",\n",
    "                on=\"sequential_mutation\",\n",
    "                validate=\"many_to_one\",\n",
    "            )\n",
    "            .fillna({col: False for col in designed_mutation_types})\n",
    "            .assign(\n",
    "                **{\n",
    "                    \"unintended mutation\": lambda x: (\n",
    "                        ~x[designed_mutation_types].apply(pd.Series.any, axis=1)\n",
    "                    )\n",
    "                }\n",
    "            )\n",
    "            .set_index([*designed_mutation_types, \"unintended mutation\"])\n",
    "        )\n",
    "    if weighted:\n",
    "        suptitle = \"composition of the\"\n",
    "        label = \"number of mutations\"\n",
    "    else:\n",
    "        suptitle = \"identity of the\"\n",
    "        label = \"number of mutations\"\n",
    "        df[\"count\"] = df[\"count\"].clip(upper=1)\n",
    "\n",
    "    muts_fig = plt.Figure()\n",
    "    muts_plt = upsetplot.UpSet(\n",
    "        data=df,\n",
    "        sum_over=\"count\",\n",
    "        subset_size=\"sum\",\n",
    "        sort_by=\"cardinality\",\n",
    "        show_counts=True,\n",
    "        element_size=40,\n",
    "        intersection_plot_elements=4,\n",
    "        totals_plot_elements=3,\n",
    "    )\n",
    "    if \"unintended mutation\" in df.index.names:\n",
    "        muts_plt.style_subsets(present=\"unintended mutation\", facecolor=\"red\")\n",
    "    muts_axes = muts_plt.plot(fig=muts_fig)\n",
    "    _ = muts_axes[\"intersections\"].set_ylabel(label)\n",
    "    _ = muts_axes[\"intersections\"].set_yticks([])\n",
    "    _ = muts_axes[\"intersections\"].spines[\"left\"].set_visible(False)\n",
    "    _ = muts_axes[\"intersections\"].grid(visible=False)\n",
    "    _ = muts_axes[\"totals\"].set_xlabel(label)\n",
    "    _ = muts_axes[\"totals\"].set_xticks([])\n",
    "    _ = muts_axes[\"totals\"].spines[\"bottom\"].set_visible(False)\n",
    "    _ = muts_axes[\"totals\"].grid(visible=False)\n",
    "    n_mutations = df[\"count\"].sum()\n",
    "    if lib is None:\n",
    "        desc = \"designed mutations\"\n",
    "    else:\n",
    "        desc = f\"mutations in library {lib}\"\n",
    "    _ = muts_fig.suptitle(f\"{suptitle} {n_mutations} {desc}\")\n",
    "    display(muts_fig)"
   ]
  },
  {
   "cell_type": "markdown",
   "id": "65765d17-ee4a-4a09-9b4c-f037ae2634f5",
   "metadata": {},
   "source": [
    "## Mutation frequencies along the gene\n",
    "Average frequency of mutations across all variants at each site:"
   ]
  },
  {
   "cell_type": "code",
   "execution_count": null,
   "id": "92acf79e-41bc-40c3-8eee-816d0189c64b",
   "metadata": {
    "tags": []
   },
   "outputs": [],
   "source": [
    "# frequencies of mutations at each site\n",
    "site_freqs = (\n",
    "    variants.mutCounts(\n",
    "        variant_type=\"all\",\n",
    "        mut_type=\"aa\",\n",
    "        samples=None,\n",
    "        libraries=variants.libraries,\n",
    "    )\n",
    "    .query(\"count > 0\")\n",
    "    .rename(columns={\"site\": \"sequential_site\"})\n",
    "    .merge(\n",
    "        site_numbering_map,\n",
    "        how=\"left\",\n",
    "        on=\"sequential_site\",\n",
    "        validate=\"many_to_one\",\n",
    "    )\n",
    "    .assign(\n",
    "        wildtype=lambda x: x[\"mutation\"].str[0],\n",
    "        mutant=lambda x: x[\"mutation\"].str[-1],\n",
    "        reference_site=lambda x: (\n",
    "            x[\"reference_site\"]\n",
    "            if all(x[\"reference_site\"] == x[\"reference_site\"].astype(str))\n",
    "            else x[\"reference_site\"].astype(\"Int64\")\n",
    "        ),\n",
    "    )\n",
    "    .assign(mutant=lambda x: x[\"mutant\"] + \"=\" + x[\"count\"].astype(str))\n",
    "    .sort_values(\"count\", ascending=False)\n",
    "    .groupby(\n",
    "        [\"library\", \"sequential_site\", \"reference_site\", \"wildtype\"],\n",
    "        observed=True,\n",
    "        as_index=False,\n",
    "    )\n",
    "    .aggregate(\n",
    "        count=pd.NamedAgg(\"count\", \"sum\"),\n",
    "        mutants=pd.NamedAgg(\"mutant\", \", \".join),\n",
    "    )\n",
    "    .merge(\n",
    "        variants.n_variants_df(\n",
    "            samples=None, libraries=variants.libraries, primary_target_only=True\n",
    "        )\n",
    "        .rename(columns={\"count\": \"n_variants\"})\n",
    "        .drop(columns=\"sample\")\n",
    "    )\n",
    "    .assign(percent=lambda x: 100 * x[\"count\"] / x[\"n_variants\"])\n",
    "    .drop(columns=\"n_variants\")\n",
    ")"
   ]
  },
  {
   "cell_type": "code",
   "execution_count": null,
   "id": "9c221b10-03d2-4fdd-af26-55f797d65d7a",
   "metadata": {},
   "outputs": [],
   "source": [
    "# make chart\n",
    "zoom_brush = alt.selection_interval(\n",
    "    encodings=[\"x\"],\n",
    "    mark=alt.BrushConfig(stroke=\"black\", strokeWidth=2),\n",
    ")\n",
    "\n",
    "zoom_bar = (\n",
    "    alt.Chart(site_freqs[[\"sequential_site\"]].drop_duplicates())\n",
    "    .mark_rect(color=\"lightgrey\")\n",
    "    .encode(\n",
    "        x=alt.X(\"sequential_site\", title=None, scale=alt.Scale(nice=False, zero=False))\n",
    "    )\n",
    "    .add_params(zoom_brush)\n",
    "    .properties(width=550, height=15, title=\"site zoom bar\")\n",
    ")\n",
    "\n",
    "site_freqs_base = (\n",
    "    alt.Chart()\n",
    "    .encode(\n",
    "        x=alt.X(\"sequential_site\", scale=alt.Scale(nice=False, zero=False)),\n",
    "        y=alt.Y(\"percent\", title=\"% variants with mutation\"),\n",
    "        tooltip=[\n",
    "            alt.Tooltip(c, format=\".3g\")\n",
    "            if c in {\"percent\", \"count\", \"n_variants\"}\n",
    "            else c\n",
    "            for c in site_freqs.columns\n",
    "        ],\n",
    "    )\n",
    "    .properties(height=125, width=550)\n",
    ")\n",
    "\n",
    "site_freqs_chart = (\n",
    "    alt.layer(\n",
    "        site_freqs_base.mark_point(filled=True),\n",
    "        site_freqs_base.mark_line(size=0.5),\n",
    "        data=site_freqs,\n",
    "    )\n",
    "    .facet(facet=alt.Facet(\"library\", title=None), columns=1)\n",
    "    .add_params(zoom_brush)\n",
    "    .transform_filter(zoom_brush)\n",
    ")\n",
    "\n",
    "site_freqs_zoom_chart = (zoom_bar & site_freqs_chart).configure_axis(grid=False)\n",
    "\n",
    "site_freqs_zoom_chart"
   ]
  },
  {
   "cell_type": "markdown",
   "id": "8bf8dc1a-bad9-4713-9366-6317a565d767",
   "metadata": {},
   "source": [
    "## How many variants have each mutation?\n",
    "We categorize mutations by the design categories into which they fall.\n",
    "Only include mutations that are either observed or designed:"
   ]
  },
  {
   "cell_type": "code",
   "execution_count": null,
   "id": "0c69dc99-1365-4843-9f83-177f24a8cf8c",
   "metadata": {
    "tags": []
   },
   "outputs": [],
   "source": [
    "# get ranked counts of each mutation designed in libraries\n",
    "# first get counts\n",
    "mut_counts_designed = (\n",
    "    variants.mutCounts(\n",
    "        variant_type=\"all\",\n",
    "        mut_type=\"aa\",\n",
    "        samples=None,\n",
    "        libraries=variants.libraries,\n",
    "    )\n",
    "    .rename(columns={\"mutation\": \"sequential_mutation\", \"site\": \"sequential_site\"})\n",
    "    .merge(\n",
    "        designed_mutations,\n",
    "        how=\"outer\",\n",
    "        on=[\"sequential_mutation\", \"sequential_site\"],\n",
    "        validate=\"many_to_many\",\n",
    "    )\n",
    "    .drop(columns=[\"reference_site\", \"sample\"])\n",
    "    .assign(\n",
    "        designed_mutation_type=lambda x: x[\"designed_mutation_type\"].fillna(\n",
    "            \"unintended mutation\"\n",
    "        ),\n",
    "    )\n",
    "    .merge(\n",
    "        site_numbering_map[[\"sequential_site\", \"reference_site\"]],\n",
    "        on=\"sequential_site\",\n",
    "        validate=\"many_to_one\",\n",
    "    )\n",
    "    .assign(\n",
    "        reference_mutation=lambda x: x[\"sequential_mutation\"].str[0]\n",
    "        + x[\"reference_site\"].astype(str)\n",
    "        + x[\"sequential_mutation\"].str[-1]\n",
    "    )\n",
    "    .drop(columns=[\"sequential_site\", \"reference_site\"])\n",
    "    .query(\"(count > 0) | (designed_mutation_type != 'unintended mutation')\")\n",
    ")\n",
    "\n",
    "# add ranks\n",
    "mut_counts_designed = mut_counts_designed.merge(\n",
    "    mut_counts_designed[[\"library\", \"sequential_mutation\", \"count\"]]\n",
    "    .drop_duplicates()\n",
    "    .assign(\n",
    "        rank=lambda x: (\n",
    "            x.groupby(\"library\")[\"count\"]\n",
    "            .transform(\"rank\", method=\"first\", ascending=False)\n",
    "            .astype(int)\n",
    "        )\n",
    "    ),\n",
    "    on=[\"library\", \"sequential_mutation\", \"count\"],\n",
    "    how=\"left\",\n",
    "    validate=\"many_to_one\",\n",
    ")"
   ]
  },
  {
   "cell_type": "markdown",
   "id": "bc2b1e9d-07d9-41b0-a3eb-a4f420458e28",
   "metadata": {
    "tags": []
   },
   "source": [
    "Plot number of variants with each mutation.\n",
    "The legend is clickable, and you can click on entries to just show those categories (or shift-click for multiple selections).\n",
    "You can also use the scroll wheel on the mouse to zoom the x-axis:"
   ]
  },
  {
   "cell_type": "code",
   "execution_count": null,
   "id": "e77b6df7-c34d-45ae-81e6-72552c709858",
   "metadata": {
    "tags": []
   },
   "outputs": [],
   "source": [
    "# now plot ranked counts\n",
    "\n",
    "designed_mutation_type_selection = alt.selection_point(\n",
    "    fields=[\"designed_mutation_type\"],\n",
    "    bind=\"legend\",\n",
    ")\n",
    "\n",
    "mutation_type_selection = alt.selection_point(\n",
    "    fields=[\"mutation_type\"],\n",
    "    bind=\"legend\",\n",
    ")\n",
    "\n",
    "coverage_chart = (\n",
    "    alt.Chart(mut_counts_designed)\n",
    "    .encode(\n",
    "        x=alt.X(\n",
    "            \"rank\",\n",
    "            title=\"mutation rank\",\n",
    "            scale=alt.Scale(\n",
    "                nice=False, padding=5, domain=[1, mut_counts_designed[\"rank\"].max()]\n",
    "            ),\n",
    "        ),\n",
    "        y=alt.Y(\n",
    "            \"count\",\n",
    "            title=\"number of variants\",\n",
    "            scale=alt.Scale(\n",
    "                nice=False, padding=5, domain=[0, mut_counts_designed[\"count\"].max()]\n",
    "            ),\n",
    "        ),\n",
    "        color=alt.Color(\n",
    "            \"designed_mutation_type\",\n",
    "            title=\"designed mutation type\",\n",
    "            scale=alt.Scale(\n",
    "                domain=mut_counts_designed[\"designed_mutation_type\"].unique(),\n",
    "            ),\n",
    "        ),\n",
    "        shape=alt.Shape(\n",
    "            \"mutation_type\",\n",
    "            title=\"mutation type\",\n",
    "            scale=alt.Scale(\n",
    "                domain=mut_counts_designed[\"mutation_type\"].unique().tolist(),\n",
    "            ),\n",
    "        ),\n",
    "        facet=alt.Facet(\n",
    "            \"library\",\n",
    "            title=None,\n",
    "            columns=2,\n",
    "        ),\n",
    "        tooltip=mut_counts_designed.columns.tolist(),\n",
    "    )\n",
    "    .mark_point(filled=True)\n",
    "    .properties(height=170, width=290)\n",
    "    .add_params(designed_mutation_type_selection, mutation_type_selection)\n",
    "    .transform_filter(designed_mutation_type_selection)\n",
    "    .transform_filter(mutation_type_selection)\n",
    "    .interactive(bind_x=True, bind_y=False)\n",
    ")\n",
    "\n",
    "coverage_chart"
   ]
  },
  {
   "cell_type": "markdown",
   "id": "47629796-f93d-43c0-8a53-e20d7b6c971f",
   "metadata": {},
   "source": [
    "## Write codon-variant tables\n",
    "Write the codon-variant tables to CSV files:"
   ]
  },
  {
   "cell_type": "code",
   "execution_count": null,
   "id": "4b0e5c0c-7376-46f5-a45d-67c7f0705207",
   "metadata": {
    "tags": []
   },
   "outputs": [],
   "source": [
    "print(f\"Writing codon variants to {config['codon_variants']}\")\n",
    "variants.barcode_variant_df.to_csv(config[\"codon_variants\"], index=False)"
   ]
  }
 ],
 "metadata": {
  "kernelspec": {
   "display_name": "Python 3 (ipykernel)",
   "language": "python",
   "name": "python3"
  },
  "language_info": {
   "codemirror_mode": {
    "name": "ipython",
    "version": 3
   },
   "file_extension": ".py",
   "mimetype": "text/x-python",
   "name": "python",
   "nbconvert_exporter": "python",
   "pygments_lexer": "ipython3",
   "version": "3.9.13"
  }
 },
 "nbformat": 4,
 "nbformat_minor": 5
}
