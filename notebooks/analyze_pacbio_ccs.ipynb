{
 "cells": [
  {
   "cell_type": "markdown",
   "metadata": {},
   "source": [
    "# Analyze PacBio CCSs\n",
    "This notebook analyzes the PacBio CCSs that have been previously aligned and parsed with [alignparse](https://jbloomlab.github.io/alignparse/).\n",
    "\n",
    "Import Python modules:"
   ]
  },
  {
   "cell_type": "code",
   "execution_count": null,
   "metadata": {
    "tags": []
   },
   "outputs": [],
   "source": [
    "import os\n",
    "\n",
    "import alignparse.targets\n",
    "\n",
    "import altair as alt\n",
    "\n",
    "import matplotlib.pyplot as plt\n",
    "\n",
    "import pandas as pd\n",
    "\n",
    "import yaml"
   ]
  },
  {
   "cell_type": "markdown",
   "metadata": {},
   "source": [
    "Get configuration information:"
   ]
  },
  {
   "cell_type": "code",
   "execution_count": null,
   "metadata": {
    "tags": []
   },
   "outputs": [],
   "source": [
    "# If you are running notebook interactively rather than in pipeline that handles\n",
    "# working directories, you may have to first `os.chdir` to appropriate directory.\n",
    "\n",
    "os.chdir(\"../test_example\")\n",
    "\n",
    "with open('config.yaml') as f:\n",
    "    config = yaml.safe_load(f)"
   ]
  },
  {
   "cell_type": "markdown",
   "metadata": {},
   "source": [
    "Read in the PacBio runs:"
   ]
  },
  {
   "cell_type": "code",
   "execution_count": null,
   "metadata": {
    "tags": []
   },
   "outputs": [],
   "source": [
    "pacbio_runs = (\n",
    "    pd.read_csv(config['pacbio_runs'])\n",
    "    .assign(pacbioRun=lambda x: x['library'] + '_' + x['run'].astype(str),\n",
    "            subdir=lambda x: config['process_ccs_dir'] + '/' + x['pacbioRun'],\n",
    "            )\n",
    "    .drop(columns='fastq')\n",
    "    )\n",
    "\n",
    "pacbio_runs"
   ]
  },
  {
   "cell_type": "markdown",
   "metadata": {},
   "source": [
    "## Stats on CCS alignments\n",
    "Read and plot the alignment stats from running `alignparse` on the PacBio CCSs:"
   ]
  },
  {
   "cell_type": "code",
   "execution_count": null,
   "metadata": {
    "tags": []
   },
   "outputs": [],
   "source": [
    "readstats = pd.concat([(pd.read_csv(os.path.join(row.subdir, 'readstats.csv'))\n",
    "                        .assign(pacbioRun=row.pacbioRun, library=row.library)\n",
    "                        )\n",
    "                       for row in pacbio_runs.itertuples()],\n",
    "                      ignore_index=True)\n",
    "\n",
    "readstats_chart = (\n",
    "    alt.Chart(readstats)\n",
    "    .encode(x='count:Q',\n",
    "            y=alt.Y('category:N',\n",
    "                    axis=alt.Axis(title=None),\n",
    "                    ),\n",
    "            tooltip=readstats.columns.tolist(),\n",
    "            facet=alt.Facet('pacbioRun:N',\n",
    "                            columns=2,\n",
    "                            title=None),\n",
    "            )\n",
    "    .mark_bar()\n",
    "    .properties(width=250, height=75)\n",
    "    .resolve_scale(x='independent',\n",
    "                   y='independent')\n",
    "    )\n",
    "\n",
    "readstats_chart"
   ]
  },
  {
   "cell_type": "markdown",
   "metadata": {},
   "source": [
    "## Visualize target to which reads are being aligned\n",
    "Draw images of the target we're parsing:"
   ]
  },
  {
   "cell_type": "code",
   "execution_count": null,
   "metadata": {
    "tags": []
   },
   "outputs": [],
   "source": [
    "targets = alignparse.targets.Targets(\n",
    "    seqsfile=config[\"pacbio_amplicon\"],\n",
    "    feature_parse_specs=config[\"pacbio_amplicon_specs\"],\n",
    ")\n",
    "    \n",
    "fig = targets.plot(\n",
    "    ax_width=7,\n",
    "    plots_indexing='genbank', \n",
    "    ax_height=2,  \n",
    "    hspace=1.2, \n",
    ")"
   ]
  },
  {
   "cell_type": "markdown",
   "metadata": {},
   "source": [
    "## Why were some CCSs filtered?\n",
    "Plot the number of CCSs filtered for each reason:"
   ]
  },
  {
   "cell_type": "code",
   "execution_count": null,
   "metadata": {
    "tags": []
   },
   "outputs": [],
   "source": [
    "# CSVs holding filtered reads\n",
    "filtered_csvs = pd.concat([(pd.read_csv(os.path.join(row.subdir, 'filtered.csv'))\n",
    "                            .assign(pacbioRun=row.pacbioRun,\n",
    "                                    library=row.library)\n",
    "                            )\n",
    "                           for row in pacbio_runs.itertuples()],\n",
    "                          ignore_index=True)\n",
    "\n",
    "# details for all filtered reads\n",
    "filtered = pd.concat([pd.read_csv(row.csv_file).assign(target=row.target,\n",
    "                                                       pacbioRun=row.pacbioRun,\n",
    "                                                       library=row.library)\n",
    "                      for row in filtered_csvs.itertuples()],\n",
    "                     ignore_index=True)\n",
    "\n",
    "# count reasons for filtering, then add number of non-filtered\n",
    "filtered_reasons = (\n",
    "    pd.concat([\n",
    "        filtered\n",
    "        .groupby(['pacbioRun', 'filter_reason'], as_index=False)\n",
    "        .aggregate(count=pd.NamedAgg('query_name', 'count')),\n",
    "        readstats\n",
    "        .query('category.str.startswith(\"aligned\")', engine='python')\n",
    "        .groupby('pacbioRun', as_index=False)\n",
    "        .aggregate({'count': 'sum'})\n",
    "        .assign(filter_reason='aligned')\n",
    "    ])\n",
    "    .assign(total_counts=lambda x: x.groupby('pacbioRun')['count'].transform('sum'),\n",
    "            frac_counts=lambda x: x['count'] / x['total_counts'])\n",
    "    )\n",
    "\n",
    "# make chart\n",
    "filtered_chart = (\n",
    "    alt.Chart(filtered_reasons)\n",
    "    .encode(x='count:Q',\n",
    "            y=alt.Y('filter_reason:N',\n",
    "                    axis=alt.Axis(title=None),\n",
    "                    ),\n",
    "            color='is_aligned:N',\n",
    "            tooltip=filtered_reasons.columns.tolist(),\n",
    "            facet=alt.Facet('pacbioRun:N',\n",
    "                            columns=2,\n",
    "                            title=None),\n",
    "            )\n",
    "    .mark_bar()\n",
    "    .properties(width=250, height=75)\n",
    "    .resolve_scale(x='independent',\n",
    "                   y='independent')\n",
    "    .transform_filter(alt.datum.frac_counts > 0.01)\n",
    "    .transform_calculate(is_aligned=alt.datum.filter_reason == \"aligned\")\n",
    "    )\n",
    "\n",
    "filtered_chart"
   ]
  },
  {
   "cell_type": "markdown",
   "metadata": {},
   "source": [
    "## Get CCSs that align to the amplicon"
   ]
  },
  {
   "cell_type": "code",
   "execution_count": null,
   "metadata": {
    "tags": []
   },
   "outputs": [],
   "source": [
    "# CSVs holding aligned reads\n",
    "aligned_csvs = pd.concat([(pd.read_csv(os.path.join(row.subdir, 'aligned.csv'))\n",
    "                           .assign(pacbioRun=row.pacbioRun,\n",
    "                                   library=row.library)\n",
    "                           )\n",
    "                          for row in pacbio_runs.itertuples()],\n",
    "                         ignore_index=True)\n",
    "\n",
    "assert aligned_csvs[\"target\"].nunique() == 1\n",
    "\n",
    "aligned = pd.concat([(pd.read_csv(row.csv_file)\n",
    "                      .assign(pacbioRun=row.pacbioRun,\n",
    "                              library=row.library)\n",
    "                      .drop(columns=['query_clip5', 'query_clip3'])\n",
    "                      .rename(columns={'barcode_sequence': 'barcode'})\n",
    "                      )\n",
    "                      for row in aligned_csvs.itertuples()\n",
    "                     ],\n",
    "                     ignore_index=True)\n",
    "print(f\"\\nRead {len(aligned):.4g} alignable CCSs:\")\n",
    "display(aligned.groupby('pacbioRun')\n",
    "        .aggregate(n_CCSs=pd.NamedAgg('query_name', 'count')))\n",
    "output_csv = config['aligned_ccs_file']\n",
    "print(f\"Writing to {output_csv}\")\n",
    "aligned.to_csv(output_csv, index=False)"
   ]
  }
 ],
 "metadata": {
  "kernelspec": {
   "display_name": "Python 3 (ipykernel)",
   "language": "python",
   "name": "python3"
  },
  "language_info": {
   "codemirror_mode": {
    "name": "ipython",
    "version": 3
   },
   "file_extension": ".py",
   "mimetype": "text/x-python",
   "name": "python",
   "nbconvert_exporter": "python",
   "pygments_lexer": "ipython3",
   "version": "3.9.12"
  }
 },
 "nbformat": 4,
 "nbformat_minor": 4
}
