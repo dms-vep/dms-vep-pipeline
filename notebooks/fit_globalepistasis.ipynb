{
 "cells": [
  {
   "cell_type": "markdown",
   "id": "2050ad68-0ae1-4b9c-a1bf-8d304466cd4c",
   "metadata": {
    "papermill": {
     "duration": 0.010967,
     "end_time": "2022-08-03T00:27:22.754157",
     "exception": false,
     "start_time": "2022-08-03T00:27:22.743190",
     "status": "completed"
    },
    "tags": []
   },
   "source": [
    "# Fit global epistasis models to functional scores\n",
    "Here we fit [global epistasis models](https://jbloomlab.github.io/dms_variants/dms_variants.globalepistasis.html) to the functional scores of the variants to estimate how mutations affect viral entry.\n",
    "\n",
    "First import Python modules:"
   ]
  },
  {
   "cell_type": "code",
   "execution_count": null,
   "id": "03e28716-02f5-4812-8984-777272a25cd8",
   "metadata": {
    "papermill": {
     "duration": 2.977487,
     "end_time": "2022-08-03T00:27:25.747280",
     "exception": false,
     "start_time": "2022-08-03T00:27:22.769793",
     "status": "completed"
    },
    "tags": []
   },
   "outputs": [],
   "source": [
    "import itertools\n",
    "import pickle\n",
    "\n",
    "import altair as alt\n",
    "\n",
    "import binarymap.binarymap\n",
    "\n",
    "import dms_variants.globalepistasis\n",
    "\n",
    "import pandas as pd\n",
    "\n",
    "import plotnine as p9\n",
    "\n",
    "import polyclonal.alphabets\n",
    "import polyclonal.plot"
   ]
  },
  {
   "cell_type": "code",
   "execution_count": null,
   "id": "5fe7668f-db9c-4db1-9933-ec2de3d9b400",
   "metadata": {
    "papermill": {
     "duration": 0.016305,
     "end_time": "2022-08-03T00:27:25.770377",
     "exception": false,
     "start_time": "2022-08-03T00:27:25.754072",
     "status": "completed"
    },
    "tags": []
   },
   "outputs": [],
   "source": [
    "# allow more rows for Altair\n",
    "_ = alt.data_transformers.disable_max_rows()"
   ]
  },
  {
   "cell_type": "markdown",
   "id": "2f0dae89-a172-4d64-bc06-a53c61f0552c",
   "metadata": {
    "papermill": {
     "duration": 0.006524,
     "end_time": "2022-08-03T00:27:25.784211",
     "exception": false,
     "start_time": "2022-08-03T00:27:25.777687",
     "status": "completed"
    },
    "tags": []
   },
   "source": [
    "## Read input data\n",
    "Get parameterized variables from [papermill](https://papermill.readthedocs.io/):"
   ]
  },
  {
   "cell_type": "code",
   "execution_count": null,
   "id": "fa11e01b-09a4-4e84-9abf-8bd907a0aba5",
   "metadata": {
    "papermill": {
     "duration": 0.017128,
     "end_time": "2022-08-03T00:27:25.809114",
     "exception": false,
     "start_time": "2022-08-03T00:27:25.791986",
     "status": "completed"
    },
    "tags": [
     "parameters"
    ]
   },
   "outputs": [],
   "source": [
    "# papermill parameters cell (tagged as `parameters`)\n",
    "func_scores_csv = None\n",
    "sitenumbering_map_csv = None\n",
    "pickle_file = None\n",
    "muteffects_latent_csv = None\n",
    "muteffects_observed_csv = None\n",
    "min_times_seen = None\n",
    "likelihood = None\n",
    "ftol = None\n",
    "plot_kwargs = None"
   ]
  },
  {
   "cell_type": "markdown",
   "id": "d875b994-83d5-4b28-af49-478122eaca4d",
   "metadata": {
    "papermill": {
     "duration": 0.007741,
     "end_time": "2022-08-03T00:27:25.857897",
     "exception": false,
     "start_time": "2022-08-03T00:27:25.850156",
     "status": "completed"
    },
    "tags": []
   },
   "source": [
    "Read the functional scores, only keeping those with sufficient pre-selection counts:"
   ]
  },
  {
   "cell_type": "code",
   "execution_count": null,
   "id": "780aed19-15ee-417e-a29b-1d47e2043808",
   "metadata": {
    "papermill": {
     "duration": 0.070161,
     "end_time": "2022-08-03T00:27:25.939646",
     "exception": false,
     "start_time": "2022-08-03T00:27:25.869485",
     "status": "completed"
    },
    "tags": []
   },
   "outputs": [],
   "source": [
    "func_scores = pd.read_csv(func_scores_csv, na_filter=False).query(\n",
    "    \"pre_count >= pre_count_threshold\"\n",
    ")\n",
    "\n",
    "assert len(func_scores.groupby([\"library\", \"pre_sample\", \"post_sample\"])) == 1"
   ]
  },
  {
   "cell_type": "markdown",
   "id": "c47df6da-5e21-4c0c-924c-3a8386d91404",
   "metadata": {
    "papermill": {
     "duration": 0.008345,
     "end_time": "2022-08-03T00:27:25.956389",
     "exception": false,
     "start_time": "2022-08-03T00:27:25.948044",
     "status": "completed"
    },
    "tags": []
   },
   "source": [
    "## Fit the global epistasis model\n",
    "Create a [BinaryMap](https://jbloomlab.github.io/binarymap/binarymap.binarymap.html#binarymap.binarymap.BinaryMap), using the sequentially numbered amino-acid substitutions:"
   ]
  },
  {
   "cell_type": "code",
   "execution_count": null,
   "id": "f6e05597-d4a6-40bf-b883-f93a064103b0",
   "metadata": {
    "papermill": {
     "duration": 0.09189,
     "end_time": "2022-08-03T00:27:26.058614",
     "exception": false,
     "start_time": "2022-08-03T00:27:25.966724",
     "status": "completed"
    },
    "tags": []
   },
   "outputs": [],
   "source": [
    "bmap = binarymap.binarymap.BinaryMap(\n",
    "    func_scores,\n",
    "    substitutions_col=\"aa_substitutions_sequential\",\n",
    "    alphabet=binarymap.binarymap.AAS_WITHSTOP_WITHGAP,\n",
    "    cols_optional=False,\n",
    ")"
   ]
  },
  {
   "cell_type": "markdown",
   "id": "4e990fc1-5c75-4705-b22a-6fa80fd08589",
   "metadata": {
    "papermill": {
     "duration": 0.008662,
     "end_time": "2022-08-03T00:27:26.078314",
     "exception": false,
     "start_time": "2022-08-03T00:27:26.069652",
     "status": "completed"
    },
    "tags": []
   },
   "source": [
    "Now fit a [GlobalEpistasis](https://jbloomlab.github.io/dms_variants/dms_variants.globalepistasis.html) model and a [NoEpistasis](https://jbloomlab.github.io/dms_variants/dms_variants.globalepistasis.html#dms_variants.globalepistasis.NoEpistasis) (linear) model:"
   ]
  },
  {
   "cell_type": "code",
   "execution_count": null,
   "id": "e32a5e56-275a-47c9-9710-972095bdde92",
   "metadata": {
    "papermill": {
     "duration": 25.246004,
     "end_time": "2022-08-03T00:27:51.332608",
     "exception": false,
     "start_time": "2022-08-03T00:27:26.086604",
     "status": "completed"
    },
    "tags": []
   },
   "outputs": [],
   "source": [
    "fit_df = dms_variants.globalepistasis.fit_models(\n",
    "    binarymap=bmap,\n",
    "    likelihood=likelihood,\n",
    "    ftol=ftol,\n",
    ")"
   ]
  },
  {
   "cell_type": "markdown",
   "id": "ac6cd500-d32d-48d8-be13-9ed207508791",
   "metadata": {
    "papermill": {
     "duration": 0.00822,
     "end_time": "2022-08-03T00:27:51.351969",
     "exception": false,
     "start_time": "2022-08-03T00:27:51.343749",
     "status": "completed"
    },
    "tags": []
   },
   "source": [
    "Results of the fitting.\n",
    "The global epistasis model should fit better than the no-epistasis model if fitting is working correctly, as the latter is nested within the former:"
   ]
  },
  {
   "cell_type": "code",
   "execution_count": null,
   "id": "da68a250-2ad0-4ea9-843c-db007ed0269e",
   "metadata": {
    "papermill": {
     "duration": 0.043662,
     "end_time": "2022-08-03T00:27:51.405738",
     "exception": false,
     "start_time": "2022-08-03T00:27:51.362076",
     "status": "completed"
    },
    "tags": []
   },
   "outputs": [],
   "source": [
    "fit_df.drop(columns=[\"n_latent_phenotypes\", \"model\"]).round(1)"
   ]
  },
  {
   "cell_type": "markdown",
   "id": "a37c2d54-6a13-4569-82dc-e71f506f983d",
   "metadata": {
    "papermill": {
     "duration": 0.008517,
     "end_time": "2022-08-03T00:27:51.425557",
     "exception": false,
     "start_time": "2022-08-03T00:27:51.417040",
     "status": "completed"
    },
    "tags": []
   },
   "source": [
    "Get the global epistasis model:"
   ]
  },
  {
   "cell_type": "code",
   "execution_count": null,
   "id": "c85ffdd1-a721-44f8-a963-787529c6c2fb",
   "metadata": {
    "papermill": {
     "duration": 0.024612,
     "end_time": "2022-08-03T00:27:51.458807",
     "exception": false,
     "start_time": "2022-08-03T00:27:51.434195",
     "status": "completed"
    },
    "tags": []
   },
   "outputs": [],
   "source": [
    "model = fit_df.set_index(\"description\").at[\"global epistasis\", \"model\"]"
   ]
  },
  {
   "cell_type": "markdown",
   "id": "f1ab93bc-c5eb-483d-b012-f721b1a1339d",
   "metadata": {
    "papermill": {
     "duration": 0.007088,
     "end_time": "2022-08-03T00:27:51.480394",
     "exception": false,
     "start_time": "2022-08-03T00:27:51.473306",
     "status": "completed"
    },
    "tags": []
   },
   "source": [
    "## Examine global epistasis fit\n",
    "Plot the relationships among the latent phenotypes from the model, the observed phenotypes from the model, and the measured functional scores for all variants used to fit the model:"
   ]
  },
  {
   "cell_type": "code",
   "execution_count": null,
   "id": "2455d026-c4ec-4bc9-976d-dbae5c8fafde",
   "metadata": {
    "papermill": {
     "duration": 1.062221,
     "end_time": "2022-08-03T00:27:52.549486",
     "exception": false,
     "start_time": "2022-08-03T00:27:51.487265",
     "status": "completed"
    },
    "tags": []
   },
   "outputs": [],
   "source": [
    "for x, y in itertools.combinations(\n",
    "    [\"latent_phenotype\", \"observed_phenotype\", \"func_score\"], 2\n",
    "):\n",
    "    p = (\n",
    "        p9.ggplot(model.phenotypes_df, p9.aes(x, y))\n",
    "        + p9.geom_point(alpha=0.05, size=0.5)\n",
    "        + p9.theme(figure_size=(2.25, 2.25))\n",
    "    )\n",
    "    _ = p.draw()"
   ]
  },
  {
   "cell_type": "markdown",
   "id": "f771a799-70b9-417c-8e31-cafecf90186e",
   "metadata": {
    "papermill": {
     "duration": 0.009681,
     "end_time": "2022-08-03T00:27:52.569975",
     "exception": false,
     "start_time": "2022-08-03T00:27:52.560294",
     "status": "completed"
    },
    "tags": []
   },
   "source": [
    "## Mutation effects from global epistasis model\n",
    "The global epistasis model deconvolves the effects of individual mutations on both the observed and latent phenotype scales.\n",
    "Get those effects, and make a version where the site numbers are both sequential and reference based, and annotate by number of times each mutation is seen (number of variants containing it):"
   ]
  },
  {
   "cell_type": "code",
   "execution_count": null,
   "id": "7c360fe0-fe31-4821-9c6e-11b9ecdc7a13",
   "metadata": {
    "papermill": {
     "duration": 0.15079,
     "end_time": "2022-08-03T00:27:52.730420",
     "exception": false,
     "start_time": "2022-08-03T00:27:52.579630",
     "status": "completed"
    },
    "tags": []
   },
   "outputs": [],
   "source": [
    "# to renumber to reference\n",
    "sitenumbering_map = pd.read_csv(sitenumbering_map_csv)\n",
    "\n",
    "# number of times each mutation seen\n",
    "times_seen = (\n",
    "    func_scores[\"aa_substitutions_sequential\"]\n",
    "    .str.split()\n",
    "    .explode()\n",
    "    .dropna()\n",
    "    .value_counts()\n",
    ")\n",
    "assert times_seen.notnull().all() and all(times_seen.astype(int) == times_seen)\n",
    "\n",
    "# get mutation effects on both phenotypes, renumber to reference\n",
    "muteffects = (\n",
    "    pd.concat(\n",
    "        [\n",
    "            model.single_mut_effects(phenotype).assign(phenotype=phenotype)\n",
    "            for phenotype in [\"observed\", \"latent\"]\n",
    "        ],\n",
    "        ignore_index=True,\n",
    "    )\n",
    "    .assign(\n",
    "        times_seen=lambda x: x[\"mutation\"].map(times_seen.to_dict()).astype(\"Int64\")\n",
    "    )\n",
    "    .drop(columns=\"mutation\")\n",
    "    .rename(columns={\"site\": \"sequential_site\"})\n",
    "    .merge(\n",
    "        sitenumbering_map[[\"sequential_site\", \"reference_site\"]],\n",
    "        how=\"left\",\n",
    "        on=\"sequential_site\",\n",
    "        validate=\"many_to_one\",\n",
    "    )[\n",
    "        [\n",
    "            \"sequential_site\",\n",
    "            \"reference_site\",\n",
    "            \"wildtype\",\n",
    "            \"mutant\",\n",
    "            \"effect\",\n",
    "            \"times_seen\",\n",
    "            \"phenotype\",\n",
    "        ]\n",
    "    ]\n",
    ")"
   ]
  },
  {
   "cell_type": "markdown",
   "id": "ea4ade9c-da5b-46f9-ba7b-cf180f521429",
   "metadata": {
    "papermill": {
     "duration": 0.013261,
     "end_time": "2022-08-03T00:27:52.758247",
     "exception": false,
     "start_time": "2022-08-03T00:27:52.744986",
     "status": "completed"
    },
    "tags": []
   },
   "source": [
    "## Plot mutation effects\n",
    "We use `polyclonal.plot.lineplot_and_heatmap` function to make an interactive heatmap showing the effects of mutations on both the observed and latent phenotypes.\n",
    "These are plotted using the **reference** sites:"
   ]
  },
  {
   "cell_type": "code",
   "execution_count": null,
   "id": "1ca12a4b-c98d-4ef4-ac26-093595875165",
   "metadata": {
    "papermill": {
     "duration": 0.771633,
     "end_time": "2022-08-03T00:27:53.544597",
     "exception": false,
     "start_time": "2022-08-03T00:27:52.772964",
     "status": "completed"
    },
    "tags": []
   },
   "outputs": [],
   "source": [
    "df_to_plot = muteffects.rename(columns={\"reference_site\": \"site\"})\n",
    "\n",
    "if \"addtl_slider_stats\" not in plot_kwargs:\n",
    "    plot_kwargs[\"addtl_slider_stats\"] = {\"times_seen\": 1}\n",
    "elif \"times_seen\" not in plot_kwargs[\"addtl_slider_stats\"]:\n",
    "    plot_kwargs[\"addtl_slider_stats\"][\"times_seen\"] = 1\n",
    "    \n",
    "if \"region\" in sitenumbering_map.columns:\n",
    "    df_to_plot = df_to_plot.merge(sitenumbering_map.rename(columns={\"reference_site\": \"site\"})[[\"site\", \"region\"]])\n",
    "    plot_kwargs[\"site_zoom_bar_color_col\"] = \"region\"\n",
    "    \n",
    "if any(df_to_plot[\"site\"] != df_to_plot[\"sequential_site\"]):\n",
    "    if \"addtl_tooltip_stats\" not in plot_kwargs:\n",
    "        plot_kwargs[\"addtl_tooltip_stats\"] = [\"sequential_site\"]\n",
    "    elif \"sequential_site\" not in plot_kwargs[\"addtl_tooltip_stats\"]:\n",
    "        plot_kwargs[\"addtl_tooltip_stats\"].append(\"sequential_site\")\n",
    "\n",
    "for phenotype, df in df_to_plot.groupby(\"phenotype\"):\n",
    "    \n",
    "    print(f\"\\n{phenotype} phenotype\\n\")\n",
    "    \n",
    "    if \"plot_title\" not in plot_kwargs:\n",
    "        plot_kwargs[\"plot_title\"] = f\"functional effects ({phenotype} phenotype)\"\n",
    "\n",
    "    chart = polyclonal.plot.lineplot_and_heatmap(\n",
    "        data_df=df,\n",
    "        stat_col=\"effect\",\n",
    "        category_col=\"phenotype\",\n",
    "        alphabet=polyclonal.alphabets.biochem_order_aas(polyclonal.AAS_WITHSTOP_WITHGAP),\n",
    "        sites=sitenumbering_map.sort_values(\"sequential_site\")[\"reference_site\"].tolist(),\n",
    "        **plot_kwargs,\n",
    "    )\n",
    "    \n",
    "    display(chart)"
   ]
  },
  {
   "cell_type": "markdown",
   "id": "f81a16d3-2d0a-43ed-9eb8-8c7c4e023d3d",
   "metadata": {
    "papermill": {
     "duration": 0.033405,
     "end_time": "2022-08-03T00:27:53.609247",
     "exception": false,
     "start_time": "2022-08-03T00:27:53.575842",
     "status": "completed"
    },
    "tags": []
   },
   "source": [
    "## Write output files\n",
    "Write the output files:"
   ]
  },
  {
   "cell_type": "code",
   "execution_count": null,
   "id": "43ce14e7-446b-4f1e-bc95-996edd6084c1",
   "metadata": {
    "papermill": {
     "duration": 0.109026,
     "end_time": "2022-08-03T00:27:53.753860",
     "exception": false,
     "start_time": "2022-08-03T00:27:53.644834",
     "status": "completed"
    },
    "tags": []
   },
   "outputs": [],
   "source": [
    "print(f\"Pickling model to {pickle_file}\")\n",
    "with open(pickle_file, \"wb\") as f:\n",
    "    pickle.dump(model, f)\n",
    "\n",
    "for phenotype, outfile in [\n",
    "    (\"latent\", muteffects_latent_csv),\n",
    "    (\"observed\", muteffects_observed_csv),\n",
    "]:\n",
    "    print(f\"Writing {phenotype}-scale mutation effects to {outfile}\")\n",
    "    (\n",
    "        muteffects.query(\"phenotype == @phenotype\")\n",
    "        .drop(columns=\"phenotype\")\n",
    "        .to_csv(outfile, index=False, float_format=\"%.4f\")\n",
    "    )"
   ]
  }
 ],
 "metadata": {
  "kernelspec": {
   "display_name": "Python 3 (ipykernel)",
   "language": "python",
   "name": "python3"
  },
  "language_info": {
   "codemirror_mode": {
    "name": "ipython",
    "version": 3
   },
   "file_extension": ".py",
   "mimetype": "text/x-python",
   "name": "python",
   "nbconvert_exporter": "python",
   "pygments_lexer": "ipython3",
   "version": "3.9.13"
  },
  "nbsphinx": {
   "orphan": true
  },
  "papermill": {
   "default_parameters": {},
   "duration": 34.573719,
   "end_time": "2022-08-03T00:27:54.510107",
   "environment_variables": {},
   "exception": null,
   "input_path": "../notebooks/fit_globalepistasis.ipynb",
   "output_path": "results/notebooks/fit_globalepistasis_LibA_2021-10-28_thaw-3_VSVG_control_1_vs_2022-02-10a_thaw-3_no-antibody_control_1.ipynb",
   "parameters": {
    "func_scores_csv": "results/func_scores/LibA_2021-10-28_thaw-3_VSVG_control_1_vs_2022-02-10a_thaw-3_no-antibody_control_1_func_scores.csv",
    "min_times_seen": 3,
    "muteffects_latent_csv": "results/globalepistasis_fits/LibA_2021-10-28_thaw-3_VSVG_control_1_vs_2022-02-10a_thaw-3_no-antibody_control_1_muteffects_latent.csv",
    "muteffects_observed_csv": "results/globalepistasis_fits/LibA_2021-10-28_thaw-3_VSVG_control_1_vs_2022-02-10a_thaw-3_no-antibody_control_1_muteffects_observed.csv",
    "pickle_file": "results/globalepistasis_fits/LibA_2021-10-28_thaw-3_VSVG_control_1_vs_2022-02-10a_thaw-3_no-antibody_control_1.pickle",
    "sitenumbering_map_csv": "data/site_numbering_map.csv"
   },
   "start_time": "2022-08-03T00:27:19.936388",
   "version": "2.3.4"
  }
 },
 "nbformat": 4,
 "nbformat_minor": 5
}
