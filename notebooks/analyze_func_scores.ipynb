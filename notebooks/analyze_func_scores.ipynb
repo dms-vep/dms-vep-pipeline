{
 "cells": [
  {
   "cell_type": "markdown",
   "id": "e625d22b-9360-4ac5-8dd5-f0b6ff813a5d",
   "metadata": {},
   "source": [
    "# Functional scores of variants for viral entry\n",
    "This notebook analyzes the functional scores, which are effects of mutations on viral entry: positive values indicate better entry, negative values worse entry."
   ]
  },
  {
   "cell_type": "code",
   "execution_count": null,
   "id": "3d1a6cc6-c552-4a56-b584-b0dca7e380a7",
   "metadata": {},
   "outputs": [],
   "source": [
    "import os\n",
    "\n",
    "import altair as alt\n",
    "\n",
    "import dms_variants.codonvarianttable\n",
    "\n",
    "import pandas as pd\n",
    "\n",
    "import yaml"
   ]
  },
  {
   "cell_type": "code",
   "execution_count": null,
   "id": "c7eab056-c0a3-4833-b5b1-d0c688ec9368",
   "metadata": {},
   "outputs": [],
   "source": [
    "# allow more rows for Altair\n",
    "_ = alt.data_transformers.disable_max_rows()"
   ]
  },
  {
   "cell_type": "markdown",
   "id": "a815a4d4-f7b3-4e06-8981-d8c03509d92d",
   "metadata": {},
   "source": [
    "Get configuration information:"
   ]
  },
  {
   "cell_type": "code",
   "execution_count": null,
   "id": "b54541e8-8994-4fb9-a4f3-8da12453575c",
   "metadata": {},
   "outputs": [],
   "source": [
    "# If you are running notebook interactively rather than in pipeline that handles\n",
    "# working directories, you may have to first `os.chdir` to appropriate directory.\n",
    "os.chdir(\"../test_example\")\n",
    "\n",
    "with open(\"config.yaml\") as f:\n",
    "    config = yaml.safe_load(f)"
   ]
  },
  {
   "cell_type": "markdown",
   "id": "a0b5b956-c392-4b74-aa74-69f163239245",
   "metadata": {},
   "source": [
    "## Read functional selections and functional scores\n",
    "Get the functional selections data frame:"
   ]
  },
  {
   "cell_type": "code",
   "execution_count": null,
   "id": "9a33ae8d-7cb6-4bfa-b0e1-99dde90796c4",
   "metadata": {
    "tags": []
   },
   "outputs": [],
   "source": [
    "functional_selections = pd.read_csv(config[\"functional_selections\"])"
   ]
  },
  {
   "cell_type": "markdown",
   "id": "48b4d0ac-1d36-4f14-b077-feff5da03d38",
   "metadata": {},
   "source": [
    "Read in the functional scores:"
   ]
  },
  {
   "cell_type": "code",
   "execution_count": null,
   "id": "55950d98-3494-4a79-bb64-bf145b37d019",
   "metadata": {
    "tags": []
   },
   "outputs": [],
   "source": [
    "func_scores = pd.concat(\n",
    "    [\n",
    "        pd.read_csv(\n",
    "            os.path.join(config[\"func_score_dir\"], f\"{selection_name}_func_scores.csv\"),\n",
    "            na_filter=False,\n",
    "        )\n",
    "        for selection_name in functional_selections[\"selection_name\"]\n",
    "    ],\n",
    "    ignore_index=True,\n",
    ")\n",
    "\n",
    "assert len(func_scores) == len(func_scores.drop_duplicates())"
   ]
  },
  {
   "cell_type": "markdown",
   "id": "d1ef5921-ab08-42bb-98ee-432573b9ff7a",
   "metadata": {},
   "source": [
    "## Variants with sufficient pre-selection counts\n",
    "\n",
    "We will eventually only analyze the functional scores for variants with some minimum threshold of pre-selection counts.\n",
    "\n",
    "Draw a boxplot for the pre-selection samples with a black line at the median, boxes spanning the 25th to 75th percentiles, lines spanning the minimum to the maximum, and a red line indciating the threshold. \n",
    "You can mouseover bars for details and use the dropdown selections to just show certain subsets.\n",
    "Note that y-axis uses a symlog scale:"
   ]
  },
  {
   "cell_type": "code",
   "execution_count": null,
   "id": "aba29ee7-42c8-4a57-ad00-aca0f5bc0728",
   "metadata": {
    "tags": []
   },
   "outputs": [],
   "source": [
    "# get data to plot\n",
    "preselection_count_boxplot_df = (\n",
    "    func_scores[\n",
    "        [\n",
    "            \"library\",\n",
    "            \"pre_sample\",\n",
    "            \"pre_count\",\n",
    "            \"barcode\",\n",
    "            \"pre_count_threshold\",\n",
    "        ]\n",
    "    ]\n",
    "    .drop_duplicates()\n",
    "    .assign(\n",
    "        variant_above_threshold=lambda x: (\n",
    "            x[\"pre_count\"] >= x[\"pre_count_threshold\"]\n",
    "        ).astype(int),\n",
    "        count_above_threshold=lambda x: x[\"pre_count\"] * x[\"variant_above_threshold\"],\n",
    "    )\n",
    "    .groupby([\"library\", \"pre_sample\", \"pre_count_threshold\"], as_index=False)\n",
    "    .aggregate(\n",
    "        median=pd.NamedAgg(\"pre_count\", \"median\"),\n",
    "        percentile_25=pd.NamedAgg(\"pre_count\", lambda s: s.quantile(0.25)),\n",
    "        percentile_75=pd.NamedAgg(\"pre_count\", lambda s: s.quantile(0.75)),\n",
    "        min=pd.NamedAgg(\"pre_count\", \"min\"),\n",
    "        max=pd.NamedAgg(\"pre_count\", \"max\"),\n",
    "        nvariants=pd.NamedAgg(\"barcode\", \"count\"),\n",
    "        total_counts=pd.NamedAgg(\"pre_count\", \"sum\"),\n",
    "        variants_above_threshold=pd.NamedAgg(\"variant_above_threshold\", \"sum\"),\n",
    "        counts_above_threshold=pd.NamedAgg(\"count_above_threshold\", \"sum\"),\n",
    "    )\n",
    "    .assign(\n",
    "        library_sample=lambda x: x[\"library\"] + \" \" + x[\"pre_sample\"],\n",
    "        frac_counts_above_threshold=lambda x: x[\"counts_above_threshold\"]\n",
    "        / x[\"total_counts\"],\n",
    "        frac_variants_above_threshold=lambda x: x[\"variants_above_threshold\"]\n",
    "        / x[\"nvariants\"],\n",
    "    )\n",
    "    .drop(\n",
    "        columns=[\n",
    "            \"counts_above_threshold\",\n",
    "            \"variants_above_threshold\",\n",
    "            \"total_counts\",\n",
    "            \"nvariants\",\n",
    "        ]\n",
    "    )\n",
    "    .merge(\n",
    "        functional_selections.rename(columns={\"preselection_sample\": \"pre_sample\"})[\n",
    "            [\"pre_sample\", \"virus_batch\", \"library\"]\n",
    "        ].drop_duplicates(),\n",
    "        how=\"left\",\n",
    "        validate=\"one_to_one\",\n",
    "    )\n",
    ")\n",
    "assert (\n",
    "    len(preselection_count_boxplot_df)\n",
    "    == preselection_count_boxplot_df[\"library_sample\"].nunique()\n",
    ")\n",
    "\n",
    "# make plot\n",
    "preselection_count_base = alt.Chart(preselection_count_boxplot_df).encode(\n",
    "    y=alt.Y(\"library_sample\", title=None),\n",
    "    tooltip=[\n",
    "        alt.Tooltip(c, format=\".2g\")\n",
    "        if preselection_count_boxplot_df[c].dtype == float\n",
    "        else c\n",
    "        for c in preselection_count_boxplot_df.columns\n",
    "        if c != \"library_sample\"\n",
    "    ],\n",
    ")\n",
    "\n",
    "preselection_count_quartile_bars = preselection_count_base.encode(\n",
    "    alt.X(\n",
    "        \"percentile_25\",\n",
    "        scale=alt.Scale(type=\"symlog\", constant=20),\n",
    "        title=\"counts for variant\",\n",
    "    ),\n",
    "    alt.X2(\"percentile_75\"),\n",
    ").mark_bar(color=\"blue\")\n",
    "\n",
    "preselection_count_range_lines = preselection_count_base.encode(\n",
    "    alt.X(\"min\"),\n",
    "    alt.X2(\"max\"),\n",
    ").mark_rule(color=\"blue\", opacity=0.5)\n",
    "\n",
    "preselection_count_median_lines = preselection_count_base.encode(\n",
    "    alt.X(\"median\"), alt.X2(\"median\")\n",
    ").mark_bar(xOffset=1, x2Offset=-1, color=\"black\")\n",
    "\n",
    "preselection_count_threshold = preselection_count_base.encode(\n",
    "    alt.X(\"pre_count_threshold\"), alt.X2(\"pre_count_threshold\")\n",
    ").mark_bar(xOffset=1, x2Offset=-1, color=\"red\")\n",
    "\n",
    "preselection_count_chart = (\n",
    "    (\n",
    "        preselection_count_quartile_bars\n",
    "        + preselection_count_range_lines\n",
    "        + preselection_count_median_lines\n",
    "        + preselection_count_threshold\n",
    "    )\n",
    "    .configure_axis(labelLimit=500)\n",
    "    .properties(width=350, height=alt.Step(14))\n",
    ")\n",
    "\n",
    "# set up selections over other columns of interest\n",
    "selection_names = [\"library\", \"virus_batch\"]\n",
    "selections = [\n",
    "    alt.selection_point(\n",
    "        fields=[col],\n",
    "        bind=alt.binding_select(\n",
    "            options=[None] + functional_selections[col].unique().tolist(),\n",
    "            labels=[\"all\"] + [str(x) for x in functional_selections[col].unique()],\n",
    "            name=col,\n",
    "        ),\n",
    "    )\n",
    "    for col in selection_names\n",
    "]\n",
    "\n",
    "# add selections\n",
    "for s, name in zip(selections, selection_names):\n",
    "    if name != \"antibody\":\n",
    "        preselection_count_chart = preselection_count_chart.add_parameter(\n",
    "            s\n",
    "        ).transform_filter(s)\n",
    "\n",
    "preselection_count_chart"
   ]
  },
  {
   "cell_type": "markdown",
   "id": "661a10da-9dd5-4bf1-ac4a-274ea198550f",
   "metadata": {},
   "source": [
    "Plot the fraction of all variants, and fraction of all counts, that are above the thresholds for the pre-selection samples:"
   ]
  },
  {
   "cell_type": "code",
   "execution_count": null,
   "id": "a1f66589-1725-41b5-810d-a64b46132b82",
   "metadata": {},
   "outputs": [],
   "source": [
    "frac_counts_df = preselection_count_boxplot_df.drop(\n",
    "    columns=[\n",
    "        \"median\",\n",
    "        \"pre_count_threshold\",\n",
    "        \"min\",\n",
    "        \"max\",\n",
    "        \"percentile_25\",\n",
    "        \"percentile_75\",\n",
    "    ],\n",
    ").rename(\n",
    "    columns={\n",
    "        \"frac_counts_above_threshold\": \"counts\",\n",
    "        \"frac_variants_above_threshold\": \"variants\",\n",
    "    }\n",
    ")\n",
    "\n",
    "fraction_type_selection = alt.selection_point(\n",
    "    fields=[\"fraction_type\"],\n",
    "    bind=\"legend\",\n",
    ")\n",
    "\n",
    "frac_counts_chart = (\n",
    "    alt.Chart(frac_counts_df)\n",
    "    .transform_fold(fold=[\"counts\", \"variants\"], as_=[\"fraction_type\", \"fraction\"])\n",
    "    .encode(\n",
    "        y=alt.Y(\"library_sample\", title=None),\n",
    "        tooltip=[\n",
    "            alt.Tooltip(c, format=\".2g\") if frac_counts_df[c].dtype == float else c\n",
    "            for c in frac_counts_df.columns\n",
    "            if c != \"library_sample\"\n",
    "        ],\n",
    "        x=alt.X(\n",
    "            \"fraction:Q\",\n",
    "            title=\"fraction above threshold\",\n",
    "            scale=alt.Scale(domain=(0, 1)),\n",
    "        ),\n",
    "        color=alt.Color(\n",
    "            \"fraction_type:N\",\n",
    "            title=None,\n",
    "            scale=alt.Scale(domain=[\"counts\", \"variants\"]),\n",
    "        ),\n",
    "    )\n",
    "    .mark_point(filled=True, size=50)\n",
    "    .properties(width=200, height=alt.Step(14))\n",
    "    .configure_axis(labelLimit=500)\n",
    "    .add_selection(fraction_type_selection)\n",
    "    .transform_filter(fraction_type_selection)\n",
    ")\n",
    "\n",
    "for s in selections:\n",
    "    frac_counts_chart = frac_counts_chart.add_selection(s).transform_filter(s)\n",
    "\n",
    "frac_counts_chart"
   ]
  },
  {
   "cell_type": "code",
   "execution_count": null,
   "id": "8ebdd1c3-185b-4de4-9a0b-15ff599fd20a",
   "metadata": {},
   "outputs": [],
   "source": []
  }
 ],
 "metadata": {
  "kernelspec": {
   "display_name": "Python 3 (ipykernel)",
   "language": "python",
   "name": "python3"
  },
  "language_info": {
   "codemirror_mode": {
    "name": "ipython",
    "version": 3
   },
   "file_extension": ".py",
   "mimetype": "text/x-python",
   "name": "python",
   "nbconvert_exporter": "python",
   "pygments_lexer": "ipython3",
   "version": "3.9.13"
  }
 },
 "nbformat": 4,
 "nbformat_minor": 5
}
