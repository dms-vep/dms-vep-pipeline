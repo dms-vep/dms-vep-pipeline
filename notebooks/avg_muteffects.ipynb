{
 "cells": [
  {
   "cell_type": "markdown",
   "id": "4fd1d065-7b83-476c-9379-552ad023fa3f",
   "metadata": {},
   "source": [
    "# Functional effects of mutations averaged across replicates\n",
    "This notebook aggregates all the global epistasis fits for individual replicates of the effects of mutations on the functional effects of mutations on viral entry.\n",
    "It analyzes both the latent and observed phenotypes from the global epistasis models.\n",
    "\n",
    "First, import Python modules:"
   ]
  },
  {
   "cell_type": "code",
   "execution_count": null,
   "id": "9fb6ceac-3be6-4b94-9b4e-553c75c7b81a",
   "metadata": {
    "tags": []
   },
   "outputs": [],
   "source": [
    "import os\n",
    "\n",
    "import altair as alt\n",
    "\n",
    "import dms_variants.utils\n",
    "\n",
    "import pandas as pd\n",
    "\n",
    "import polyclonal\n",
    "import polyclonal.alphabets\n",
    "import polyclonal.plot\n",
    "\n",
    "import yaml"
   ]
  },
  {
   "cell_type": "code",
   "execution_count": null,
   "id": "edd5a490-333e-4ae6-b4c8-4f6e235e4385",
   "metadata": {
    "tags": []
   },
   "outputs": [],
   "source": [
    "# allow more rows for Altair\n",
    "_ = alt.data_transformers.disable_max_rows()"
   ]
  },
  {
   "cell_type": "markdown",
   "id": "6a22cee8-f458-4f60-bb81-2fcc2509b82d",
   "metadata": {},
   "source": [
    "Get configuration information:"
   ]
  },
  {
   "cell_type": "code",
   "execution_count": null,
   "id": "52eef0d5-89e2-46e5-bcfc-dc39a3445d4c",
   "metadata": {
    "tags": []
   },
   "outputs": [],
   "source": [
    "# If you are running notebook interactively rather than in pipeline that handles\n",
    "# working directories, you may have to first `os.chdir` to appropriate directory.\n",
    "\n",
    "with open(\"config.yaml\") as f:\n",
    "    config = yaml.safe_load(f)"
   ]
  },
  {
   "cell_type": "markdown",
   "id": "0f7d4f44-c407-4912-9ee1-1f3cf6d93f5b",
   "metadata": {},
   "source": [
    "Read the sequential-to-reference site numbering map:"
   ]
  },
  {
   "cell_type": "code",
   "execution_count": null,
   "id": "b21bb3f4-5595-49a9-9b03-28cdcc795f5c",
   "metadata": {},
   "outputs": [],
   "source": [
    "sitenumbering_map = pd.read_csv(config[\"site_numbering_map\"])"
   ]
  },
  {
   "cell_type": "markdown",
   "id": "5064fb3e-618f-4177-a159-204a36e2337b",
   "metadata": {},
   "source": [
    "## Read the mutation effects\n",
    "The functional selections data frame:"
   ]
  },
  {
   "cell_type": "code",
   "execution_count": null,
   "id": "f796f564-dae9-47dc-bf01-26e8f6eb6b87",
   "metadata": {
    "tags": []
   },
   "outputs": [],
   "source": [
    "func_selections = pd.read_csv(config[\"functional_selections\"])"
   ]
  },
  {
   "cell_type": "markdown",
   "id": "b865e64f-77d3-47b7-82bb-5f4f377fd304",
   "metadata": {},
   "source": [
    "The mutation effects:"
   ]
  },
  {
   "cell_type": "code",
   "execution_count": null,
   "id": "fff389a4-dea2-4d4f-b7b0-bc9ca4e1ceea",
   "metadata": {
    "tags": []
   },
   "outputs": [],
   "source": [
    "phenotypes = [\"observed\", \"latent\"]\n",
    "\n",
    "muteffects = pd.concat(\n",
    "    [\n",
    "        pd.read_csv(\n",
    "            os.path.join(\n",
    "                config[\"globalepistasis_dir\"],\n",
    "                f\"{selection_name}_muteffects_{phenotype}.csv\",\n",
    "            )\n",
    "        ).assign(\n",
    "            selection_name=selection_name,\n",
    "            phenotype=phenotype,\n",
    "            times_seen=lambda x: x[\"times_seen\"].astype(\"Int64\"),\n",
    "            mutation=lambda x: x[\"wildtype\"]\n",
    "            + x[\"sequential_site\"].astype(str)\n",
    "            + x[\"mutant\"],\n",
    "        )\n",
    "        for selection_name in func_selections[\"selection_name\"]\n",
    "        for phenotype in phenotypes\n",
    "    ],\n",
    "    ignore_index=True,\n",
    ").merge(\n",
    "    func_selections,\n",
    "    on=\"selection_name\",\n",
    "    how=\"left\",\n",
    "    validate=\"many_to_one\",\n",
    ")\n",
    "\n",
    "assert len(muteffects) == len(muteffects.drop_duplicates())\n",
    "assert muteffects.drop(columns=\"times_seen\").notnull().all().all()"
   ]
  },
  {
   "cell_type": "markdown",
   "id": "27c53ddd-36f0-4960-9795-4a7dd29004da",
   "metadata": {},
   "source": [
    "## Correlations among mutation effects\n",
    "Correlations among replicates:"
   ]
  },
  {
   "cell_type": "code",
   "execution_count": null,
   "id": "952a6b0d-1d8f-44f4-abcb-29f81cf30101",
   "metadata": {
    "tags": []
   },
   "outputs": [],
   "source": [
    "corrs = (\n",
    "    dms_variants.utils.tidy_to_corr(\n",
    "        df=muteffects,\n",
    "        sample_col=\"selection_name\",\n",
    "        label_col=\"mutation\",\n",
    "        value_col=\"effect\",\n",
    "        group_cols=\"phenotype\",\n",
    "    )\n",
    "    .assign(r2=lambda x: x[\"correlation\"] ** 2)\n",
    "    .drop(columns=\"correlation\")\n",
    ")\n",
    "\n",
    "for phenotype, phenotype_corr in corrs.groupby(\"phenotype\"):\n",
    "    corr_chart = (\n",
    "        alt.Chart(phenotype_corr)\n",
    "        .encode(\n",
    "            alt.X(\"selection_name_1\", title=None),\n",
    "            alt.Y(\"selection_name_2\", title=None),\n",
    "            color=alt.Color(\"r2\", scale=alt.Scale(zero=True)),\n",
    "            tooltip=[\n",
    "                alt.Tooltip(c, format=\".3g\") if c == \"r2\" else c\n",
    "                for c in [\"phenotype\", \"selection_name_1\", \"selection_name_2\", \"r2\"]\n",
    "            ],\n",
    "        )\n",
    "        .mark_rect(stroke=\"black\")\n",
    "        .properties(width=alt.Step(15), height=alt.Step(15), title=phenotype)\n",
    "        .configure_axis(labelLimit=500)\n",
    "    )\n",
    "\n",
    "    display(corr_chart)"
   ]
  },
  {
   "cell_type": "markdown",
   "id": "fac81de2-9339-48a4-92fd-bf67e8f241a4",
   "metadata": {
    "tags": []
   },
   "source": [
    "## Compute average mutation effects\n",
    "Compute averages for each library individually and across all replicates of both libraries.\n",
    "Note that the cross-library averages are **not** weighted equally by library, but are rather weighted by the number of total replicates for each library:"
   ]
  },
  {
   "cell_type": "code",
   "execution_count": null,
   "id": "5a5ec3e5-6375-4be7-83b8-4e2f372a18a5",
   "metadata": {
    "tags": []
   },
   "outputs": [],
   "source": [
    "muteffects_avg_method = config[\"muteffects_avg_method\"]\n",
    "print(f\"Defining the average as the {muteffects_avg_method} across replicates\")\n",
    "assert muteffects_avg_method in {\"median\", \"mean\"}\n",
    "\n",
    "n_selections = muteffects[\"selection_name\"].nunique()\n",
    "assert n_selections == len(func_selections)\n",
    "\n",
    "groupcols = [\"sequential_site\", \"reference_site\", \"wildtype\", \"mutant\", \"phenotype\"]\n",
    "muteffects_avg = (\n",
    "    muteffects.groupby(groupcols, as_index=False)\n",
    "    .aggregate(\n",
    "        effect=pd.NamedAgg(\"effect\", muteffects_avg_method),\n",
    "        effect_std=pd.NamedAgg(\"effect\", \"std\"),\n",
    "        times_seen=pd.NamedAgg(\"times_seen\", lambda s: s.sum() / n_selections),\n",
    "        n_libraries=pd.NamedAgg(\"library\", \"nunique\"),\n",
    "    )\n",
    "    .assign(\n",
    "        times_seen=lambda x: x[\"times_seen\"].where(x[\"wildtype\"] != x[\"mutant\"], pd.NA)\n",
    "    )\n",
    "    # add per-library effects\n",
    "    .merge(\n",
    "        muteffects.groupby([\"library\", *groupcols], as_index=False)\n",
    "        .aggregate(\n",
    "            effect=pd.NamedAgg(\"effect\", muteffects_avg_method),\n",
    "        )\n",
    "        .assign(library=lambda x: x[\"library\"].astype(str) + \" effect\")\n",
    "        .pivot_table(index=groupcols, columns=\"library\", values=\"effect\"),\n",
    "        on=groupcols,\n",
    "        validate=\"one_to_one\",\n",
    "        how=\"left\",\n",
    "    )\n",
    ")"
   ]
  },
  {
   "cell_type": "markdown",
   "id": "e0c31f1a-9902-4a62-a0cd-8bca73b4fc6e",
   "metadata": {},
   "source": [
    "Write average mutation effects to CSVs:"
   ]
  },
  {
   "cell_type": "code",
   "execution_count": null,
   "id": "cd96e9aa-e38d-4895-bb21-d912ba8c69ba",
   "metadata": {
    "tags": []
   },
   "outputs": [],
   "source": [
    "for phenotype, df in muteffects_avg.groupby(\"phenotype\"):\n",
    "    outfile = config[f\"muteffects_{phenotype}\"]\n",
    "    os.makedirs(os.path.dirname(outfile), exist_ok=True)\n",
    "    print(f\"Writing {phenotype}-phenotype mutation effects to {outfile}\")\n",
    "    df.to_csv(outfile, index=False, float_format=\"%.4f\")"
   ]
  },
  {
   "cell_type": "markdown",
   "id": "7ce86c66-31b8-48be-bcbd-294455688da1",
   "metadata": {},
   "source": [
    "## Plot average mutational effects\n",
    "These are interactive plots.\n",
    "The `times_seen` is averaged across all replicates, and you can select how many libraries must have data for the mutation.\n",
    "The tooltips show library-specific values as well.\n",
    "Plot using the **reference** site numbering:"
   ]
  },
  {
   "cell_type": "code",
   "execution_count": null,
   "id": "1ebdf041-da3b-4bbb-8b1d-44149bdc9442",
   "metadata": {
    "tags": []
   },
   "outputs": [],
   "source": [
    "plot_kwargs = config[\"muteffects_plot_kwargs\"]\n",
    "\n",
    "df_to_plot = muteffects_avg.rename(columns={\"reference_site\": \"site\"})\n",
    "\n",
    "if \"addtl_slider_stats\" not in plot_kwargs:\n",
    "    plot_kwargs[\"addtl_slider_stats\"] = {}\n",
    "\n",
    "if \"times_seen\" not in plot_kwargs[\"addtl_slider_stats\"]:\n",
    "    plot_kwargs[\"addtl_slider_stats\"][\"times_seen\"] = 1\n",
    "\n",
    "if \"n_libraries\" not in plot_kwargs[\"addtl_slider_stats\"]:\n",
    "    plot_kwargs[\"addtl_slider_stats\"][\"n_libraries\"] = 1\n",
    "\n",
    "if \"region\" in sitenumbering_map.columns:\n",
    "    df_to_plot = df_to_plot.merge(\n",
    "        sitenumbering_map.rename(columns={\"reference_site\": \"site\"})[[\"site\", \"region\"]]\n",
    "    )\n",
    "    plot_kwargs[\"site_zoom_bar_color_col\"] = \"region\"\n",
    "\n",
    "if \"addtl_tooltip_stats\" not in plot_kwargs:\n",
    "    plot_kwargs[\"addtl_tooltip_stats\"] = []\n",
    "\n",
    "plot_kwargs[\"addtl_tooltip_stats\"].append(\"effect_std\")\n",
    "\n",
    "if any(df_to_plot[\"site\"] != df_to_plot[\"sequential_site\"]):\n",
    "    if \"sequential_site\" not in plot_kwargs[\"addtl_tooltip_stats\"]:\n",
    "        plot_kwargs[\"addtl_tooltip_stats\"].append(\"sequential_site\")\n",
    "\n",
    "# make strings for proper plotting of null values for library effects\n",
    "libraries = sorted(muteffects[\"library\"].unique())\n",
    "for lib in libraries:\n",
    "    plot_kwargs[\"addtl_tooltip_stats\"].append(f\"{lib} effect\")\n",
    "    df_to_plot[f\"{lib} effect\"] = df_to_plot[f\"{lib} effect\"].map(\n",
    "        lambda v: \"na\" if pd.isnull(v) else f\"{v:.2f}\"\n",
    "    )\n",
    "\n",
    "for phenotype, df in df_to_plot.groupby(\"phenotype\"):\n",
    "\n",
    "    print(f\"\\n{phenotype} phenotype\\n\")\n",
    "\n",
    "    plot_kwargs[\"plot_title\"] = f\"functional effects ({phenotype} phenotype)\"\n",
    "\n",
    "    chart = polyclonal.plot.lineplot_and_heatmap(\n",
    "        data_df=df,\n",
    "        stat_col=\"effect\",\n",
    "        category_col=\"phenotype\",\n",
    "        alphabet=polyclonal.alphabets.biochem_order_aas(\n",
    "            polyclonal.AAS_WITHSTOP_WITHGAP\n",
    "        ),\n",
    "        sites=sitenumbering_map.sort_values(\"sequential_site\")[\n",
    "            \"reference_site\"\n",
    "        ].tolist(),\n",
    "        **plot_kwargs,\n",
    "    )\n",
    "\n",
    "    heatmapfile = (\n",
    "        os.path.splitext(config[f\"muteffects_{phenotype}\"])[0] + \"_heatmap.html\"\n",
    "    )\n",
    "    print(f\"Saving to {heatmapfile}\")\n",
    "    chart.save(heatmapfile)\n",
    "\n",
    "    display(chart)"
   ]
  },
  {
   "cell_type": "code",
   "execution_count": null,
   "id": "4a9bc521-4eb9-492c-b886-3a18874c5654",
   "metadata": {},
   "outputs": [],
   "source": []
  }
 ],
 "metadata": {
  "kernelspec": {
   "display_name": "Python 3 (ipykernel)",
   "language": "python",
   "name": "python3"
  },
  "language_info": {
   "codemirror_mode": {
    "name": "ipython",
    "version": 3
   },
   "file_extension": ".py",
   "mimetype": "text/x-python",
   "name": "python",
   "nbconvert_exporter": "python",
   "pygments_lexer": "ipython3",
   "version": "3.9.13"
  }
 },
 "nbformat": 4,
 "nbformat_minor": 5
}
