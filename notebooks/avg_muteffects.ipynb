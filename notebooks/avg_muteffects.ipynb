{
 "cells": [
  {
   "cell_type": "markdown",
   "id": "4fd1d065-7b83-476c-9379-552ad023fa3f",
   "metadata": {
    "papermill": {
     "duration": 0.011144,
     "end_time": "2022-10-02T15:01:37.193703",
     "exception": false,
     "start_time": "2022-10-02T15:01:37.182559",
     "status": "completed"
    },
    "tags": []
   },
   "source": [
    "# Functional effects of mutations across replicates\n",
    "This notebook aggregates all the global epistasis fits for individual replicates of the effects of mutations on the functional effects of mutations on viral entry.\n",
    "It analyzes both the latent and observed phenotypes from the global epistasis models.\n",
    "\n",
    "First, import Python modules:"
   ]
  },
  {
   "cell_type": "code",
   "execution_count": null,
   "id": "9fb6ceac-3be6-4b94-9b4e-553c75c7b81a",
   "metadata": {
    "papermill": {
     "duration": 1.239466,
     "end_time": "2022-10-02T15:01:38.440241",
     "exception": false,
     "start_time": "2022-10-02T15:01:37.200775",
     "status": "completed"
    },
    "tags": []
   },
   "outputs": [],
   "source": [
    "import os\n",
    "\n",
    "import altair as alt\n",
    "\n",
    "import dms_variants.utils\n",
    "\n",
    "import numpy\n",
    "\n",
    "import pandas as pd\n",
    "\n",
    "import polyclonal\n",
    "import polyclonal.alphabets\n",
    "import polyclonal.plot\n",
    "\n",
    "import yaml"
   ]
  },
  {
   "cell_type": "code",
   "execution_count": null,
   "id": "edd5a490-333e-4ae6-b4c8-4f6e235e4385",
   "metadata": {
    "papermill": {
     "duration": 0.015904,
     "end_time": "2022-10-02T15:01:38.469089",
     "exception": false,
     "start_time": "2022-10-02T15:01:38.453185",
     "status": "completed"
    },
    "tags": []
   },
   "outputs": [],
   "source": [
    "# allow more rows for Altair\n",
    "_ = alt.data_transformers.disable_max_rows()"
   ]
  },
  {
   "cell_type": "markdown",
   "id": "6a22cee8-f458-4f60-bb81-2fcc2509b82d",
   "metadata": {
    "papermill": {
     "duration": 0.006844,
     "end_time": "2022-10-02T15:01:38.482714",
     "exception": false,
     "start_time": "2022-10-02T15:01:38.475870",
     "status": "completed"
    },
    "tags": []
   },
   "source": [
    "Get configuration information:"
   ]
  },
  {
   "cell_type": "code",
   "execution_count": null,
   "id": "52eef0d5-89e2-46e5-bcfc-dc39a3445d4c",
   "metadata": {
    "papermill": {
     "duration": 0.035158,
     "end_time": "2022-10-02T15:01:38.524447",
     "exception": false,
     "start_time": "2022-10-02T15:01:38.489289",
     "status": "completed"
    },
    "tags": []
   },
   "outputs": [],
   "source": [
    "# If you are running notebook interactively rather than in pipeline that handles\n",
    "# working directories, you may have to first `os.chdir` to appropriate directory.\n",
    "\n",
    "with open(\"config.yaml\") as f:\n",
    "    config = yaml.safe_load(f)"
   ]
  },
  {
   "cell_type": "markdown",
   "id": "0f7d4f44-c407-4912-9ee1-1f3cf6d93f5b",
   "metadata": {
    "papermill": {
     "duration": 0.006923,
     "end_time": "2022-10-02T15:01:38.539780",
     "exception": false,
     "start_time": "2022-10-02T15:01:38.532857",
     "status": "completed"
    },
    "tags": []
   },
   "source": [
    "Read the sequential-to-reference site numbering map:"
   ]
  },
  {
   "cell_type": "code",
   "execution_count": null,
   "id": "b21bb3f4-5595-49a9-9b03-28cdcc795f5c",
   "metadata": {
    "papermill": {
     "duration": 0.023841,
     "end_time": "2022-10-02T15:01:38.570374",
     "exception": false,
     "start_time": "2022-10-02T15:01:38.546533",
     "status": "completed"
    },
    "tags": []
   },
   "outputs": [],
   "source": [
    "sitenumbering_map = pd.read_csv(config[\"site_numbering_map\"])"
   ]
  },
  {
   "cell_type": "markdown",
   "id": "5064fb3e-618f-4177-a159-204a36e2337b",
   "metadata": {
    "papermill": {
     "duration": 0.006389,
     "end_time": "2022-10-02T15:01:38.585137",
     "exception": false,
     "start_time": "2022-10-02T15:01:38.578748",
     "status": "completed"
    },
    "tags": []
   },
   "source": [
    "## Read the mutation effects\n",
    "The functional selections data frame:"
   ]
  },
  {
   "cell_type": "code",
   "execution_count": null,
   "id": "f796f564-dae9-47dc-bf01-26e8f6eb6b87",
   "metadata": {
    "papermill": {
     "duration": 0.018495,
     "end_time": "2022-10-02T15:01:38.609509",
     "exception": false,
     "start_time": "2022-10-02T15:01:38.591014",
     "status": "completed"
    },
    "tags": []
   },
   "outputs": [],
   "source": [
    "func_selections = pd.read_csv(config[\"functional_selections\"])"
   ]
  },
  {
   "cell_type": "markdown",
   "id": "b865e64f-77d3-47b7-82bb-5f4f377fd304",
   "metadata": {
    "papermill": {
     "duration": 0.006694,
     "end_time": "2022-10-02T15:01:38.624451",
     "exception": false,
     "start_time": "2022-10-02T15:01:38.617757",
     "status": "completed"
    },
    "tags": []
   },
   "source": [
    "The mutation effects:"
   ]
  },
  {
   "cell_type": "code",
   "execution_count": null,
   "id": "fff389a4-dea2-4d4f-b7b0-bc9ca4e1ceea",
   "metadata": {
    "papermill": {
     "duration": 0.626195,
     "end_time": "2022-10-02T15:01:39.256284",
     "exception": false,
     "start_time": "2022-10-02T15:01:38.630089",
     "status": "completed"
    },
    "tags": []
   },
   "outputs": [],
   "source": [
    "phenotypes = [\"observed\", \"latent\"]\n",
    "\n",
    "muteffects = pd.concat(\n",
    "    [\n",
    "        pd.read_csv(\n",
    "            os.path.join(\n",
    "                config[\"globalepistasis_dir\"],\n",
    "                f\"{selection_name}_muteffects_{phenotype}.csv\",\n",
    "            )\n",
    "        ).assign(\n",
    "            selection_name=selection_name,\n",
    "            phenotype=phenotype,\n",
    "            times_seen=lambda x: x[\"times_seen\"].astype(\"Int64\"),\n",
    "            mutation=lambda x: x[\"wildtype\"]\n",
    "            + x[\"sequential_site\"].astype(str)\n",
    "            + x[\"mutant\"],\n",
    "        )\n",
    "        for selection_name in func_selections[\"selection_name\"]\n",
    "        for phenotype in phenotypes\n",
    "    ],\n",
    "    ignore_index=True,\n",
    ").merge(\n",
    "    func_selections,\n",
    "    on=\"selection_name\",\n",
    "    how=\"left\",\n",
    "    validate=\"many_to_one\",\n",
    ")\n",
    "\n",
    "assert len(muteffects) == len(muteffects.drop_duplicates())\n",
    "assert muteffects.drop(columns=\"times_seen\").notnull().all().all()"
   ]
  },
  {
   "cell_type": "markdown",
   "id": "27c53ddd-36f0-4960-9795-4a7dd29004da",
   "metadata": {
    "papermill": {
     "duration": 0.009493,
     "end_time": "2022-10-02T15:01:39.305744",
     "exception": false,
     "start_time": "2022-10-02T15:01:39.296251",
     "status": "completed"
    },
    "tags": []
   },
   "source": [
    "## Correlations among mutation effects\n",
    "Correlations among replicates:"
   ]
  },
  {
   "cell_type": "code",
   "execution_count": null,
   "id": "952a6b0d-1d8f-44f4-abcb-29f81cf30101",
   "metadata": {
    "papermill": {
     "duration": 0.332766,
     "end_time": "2022-10-02T15:01:39.646110",
     "exception": false,
     "start_time": "2022-10-02T15:01:39.313344",
     "status": "completed"
    },
    "tags": []
   },
   "outputs": [],
   "source": [
    "corrs = (\n",
    "    dms_variants.utils.tidy_to_corr(\n",
    "        df=muteffects,\n",
    "        sample_col=\"selection_name\",\n",
    "        label_col=\"mutation\",\n",
    "        value_col=\"effect\",\n",
    "        group_cols=\"phenotype\",\n",
    "    )\n",
    "    .assign(r2=lambda x: x[\"correlation\"] ** 2)\n",
    "    .drop(columns=\"correlation\")\n",
    ")\n",
    "\n",
    "for phenotype, phenotype_corr in corrs.groupby(\"phenotype\"):\n",
    "    corr_chart = (\n",
    "        alt.Chart(phenotype_corr)\n",
    "        .encode(\n",
    "            alt.X(\"selection_name_1\", title=None),\n",
    "            alt.Y(\"selection_name_2\", title=None),\n",
    "            color=alt.Color(\"r2\", scale=alt.Scale(zero=True)),\n",
    "            tooltip=[\n",
    "                alt.Tooltip(c, format=\".3g\") if c == \"r2\" else c\n",
    "                for c in [\"phenotype\", \"selection_name_1\", \"selection_name_2\", \"r2\"]\n",
    "            ],\n",
    "        )\n",
    "        .mark_rect(stroke=\"black\")\n",
    "        .properties(width=alt.Step(15), height=alt.Step(15), title=phenotype)\n",
    "        .configure_axis(labelLimit=500)\n",
    "    )\n",
    "\n",
    "    display(corr_chart)"
   ]
  },
  {
   "cell_type": "markdown",
   "id": "fac81de2-9339-48a4-92fd-bf67e8f241a4",
   "metadata": {
    "papermill": {
     "duration": 0.007399,
     "end_time": "2022-10-02T15:01:39.663281",
     "exception": false,
     "start_time": "2022-10-02T15:01:39.655882",
     "status": "completed"
    },
    "tags": []
   },
   "source": [
    "## Compute average mutation effects\n",
    "Compute averages for each library individually and across all replicates of both libraries.\n",
    "Note that the cross-library averages are **not** weighted equally by library, but are rather weighted by the number of total replicates for each library:"
   ]
  },
  {
   "cell_type": "code",
   "execution_count": null,
   "id": "5a5ec3e5-6375-4be7-83b8-4e2f372a18a5",
   "metadata": {
    "papermill": {
     "duration": 1.002863,
     "end_time": "2022-10-02T15:01:40.672880",
     "exception": false,
     "start_time": "2022-10-02T15:01:39.670017",
     "status": "completed"
    },
    "tags": []
   },
   "outputs": [],
   "source": [
    "muteffects_avg_method = config[\"muteffects_avg_method\"]\n",
    "print(f\"Defining the average as the {muteffects_avg_method} across replicates\")\n",
    "assert muteffects_avg_method in {\"median\", \"mean\"}\n",
    "\n",
    "n_selections = muteffects[\"selection_name\"].nunique()\n",
    "assert n_selections == len(func_selections)\n",
    "\n",
    "groupcols = [\"sequential_site\", \"reference_site\", \"wildtype\", \"mutant\", \"phenotype\"]\n",
    "muteffects_avg = (\n",
    "    muteffects.groupby(groupcols, as_index=False)\n",
    "    .aggregate(\n",
    "        effect=pd.NamedAgg(\"effect\", muteffects_avg_method),\n",
    "        effect_std=pd.NamedAgg(\"effect\", \"std\"),\n",
    "        times_seen=pd.NamedAgg(\"times_seen\", lambda s: s.sum() / n_selections),\n",
    "        n_libraries=pd.NamedAgg(\"library\", \"nunique\"),\n",
    "    )\n",
    "    .assign(\n",
    "        times_seen=lambda x: x[\"times_seen\"].where(x[\"wildtype\"] != x[\"mutant\"], pd.NA)\n",
    "    )\n",
    "    # add per-library effects\n",
    "    .merge(\n",
    "        muteffects.groupby([\"library\", *groupcols], as_index=False)\n",
    "        .aggregate(\n",
    "            effect=pd.NamedAgg(\"effect\", muteffects_avg_method),\n",
    "        )\n",
    "        .assign(library=lambda x: x[\"library\"].astype(str) + \" effect\")\n",
    "        .pivot_table(index=groupcols, columns=\"library\", values=\"effect\"),\n",
    "        on=groupcols,\n",
    "        validate=\"one_to_one\",\n",
    "        how=\"left\",\n",
    "    )\n",
    ")"
   ]
  },
  {
   "cell_type": "markdown",
   "id": "e0c31f1a-9902-4a62-a0cd-8bca73b4fc6e",
   "metadata": {
    "papermill": {
     "duration": 0.010095,
     "end_time": "2022-10-02T15:01:40.696565",
     "exception": false,
     "start_time": "2022-10-02T15:01:40.686470",
     "status": "completed"
    },
    "tags": []
   },
   "source": [
    "Write average mutation effects to CSVs:"
   ]
  },
  {
   "cell_type": "code",
   "execution_count": null,
   "id": "cd96e9aa-e38d-4895-bb21-d912ba8c69ba",
   "metadata": {
    "papermill": {
     "duration": 0.231982,
     "end_time": "2022-10-02T15:01:40.935802",
     "exception": false,
     "start_time": "2022-10-02T15:01:40.703820",
     "status": "completed"
    },
    "tags": []
   },
   "outputs": [],
   "source": [
    "for phenotype, df in muteffects_avg.groupby(\"phenotype\"):\n",
    "    outfile = config[f\"muteffects_{phenotype}\"]\n",
    "    os.makedirs(os.path.dirname(outfile), exist_ok=True)\n",
    "    print(f\"Writing {phenotype}-phenotype mutation effects to {outfile}\")\n",
    "    df.to_csv(outfile, index=False, float_format=\"%.4f\")"
   ]
  },
  {
   "cell_type": "markdown",
   "id": "7ce86c66-31b8-48be-bcbd-294455688da1",
   "metadata": {
    "papermill": {
     "duration": 0.011404,
     "end_time": "2022-10-02T15:01:40.957652",
     "exception": false,
     "start_time": "2022-10-02T15:01:40.946248",
     "status": "completed"
    },
    "tags": []
   },
   "source": [
    "## Plot average mutational effects\n",
    "These are interactive plots.\n",
    "The `times_seen` is averaged across all replicates, and you can select how many libraries must have data for the mutation.\n",
    "The tooltips show library-specific values as well.\n",
    "Plot using the **reference** site numbering:"
   ]
  },
  {
   "cell_type": "code",
   "execution_count": null,
   "id": "1ebdf041-da3b-4bbb-8b1d-44149bdc9442",
   "metadata": {
    "papermill": {
     "duration": 4.764018,
     "end_time": "2022-10-02T15:01:45.728690",
     "exception": false,
     "start_time": "2022-10-02T15:01:40.964672",
     "status": "completed"
    },
    "tags": []
   },
   "outputs": [],
   "source": [
    "plot_kwargs = config[\"muteffects_plot_kwargs\"]\n",
    "\n",
    "df_to_plot = muteffects_avg.rename(columns={\"reference_site\": \"site\"})\n",
    "\n",
    "if \"addtl_slider_stats\" not in plot_kwargs:\n",
    "    plot_kwargs[\"addtl_slider_stats\"] = {}\n",
    "\n",
    "if \"times_seen\" not in plot_kwargs[\"addtl_slider_stats\"]:\n",
    "    plot_kwargs[\"addtl_slider_stats\"][\"times_seen\"] = 1\n",
    "\n",
    "if \"n_libraries\" not in plot_kwargs[\"addtl_slider_stats\"]:\n",
    "    plot_kwargs[\"addtl_slider_stats\"][\"n_libraries\"] = 1\n",
    "\n",
    "if \"region\" in sitenumbering_map.columns:\n",
    "    if sitenumbering_map[\"reference_site\"].dtype != int:\n",
    "        df_to_plot[\"site\"] = df_to_plot[\"site\"].astype(str)\n",
    "    df_to_plot = df_to_plot.merge(\n",
    "        sitenumbering_map.rename(columns={\"reference_site\": \"site\"})[[\"site\", \"region\"]]\n",
    "    )\n",
    "    plot_kwargs[\"site_zoom_bar_color_col\"] = \"region\"\n",
    "\n",
    "if \"addtl_tooltip_stats\" not in plot_kwargs:\n",
    "    plot_kwargs[\"addtl_tooltip_stats\"] = []\n",
    "\n",
    "plot_kwargs[\"addtl_tooltip_stats\"].append(\"effect_std\")\n",
    "\n",
    "if any(df_to_plot[\"site\"] != df_to_plot[\"sequential_site\"]):\n",
    "    if \"sequential_site\" not in plot_kwargs[\"addtl_tooltip_stats\"]:\n",
    "        plot_kwargs[\"addtl_tooltip_stats\"].append(\"sequential_site\")\n",
    "\n",
    "libraries = sorted(muteffects[\"library\"].unique())\n",
    "for lib in libraries:\n",
    "    plot_kwargs[\"addtl_tooltip_stats\"].append(f\"{lib} effect\")\n",
    "\n",
    "for phenotype, df in df_to_plot.groupby(\"phenotype\"):\n",
    "    print(f\"\\n{phenotype} phenotype\\n\")\n",
    "\n",
    "    plot_kwargs[\"plot_title\"] = f\"functional effects ({phenotype} phenotype)\"\n",
    "\n",
    "    chart = polyclonal.plot.lineplot_and_heatmap(\n",
    "        data_df=df,\n",
    "        stat_col=\"effect\",\n",
    "        category_col=\"phenotype\",\n",
    "        alphabet=polyclonal.alphabets.biochem_order_aas(\n",
    "            polyclonal.AAS_WITHSTOP_WITHGAP\n",
    "        ),\n",
    "        sites=sitenumbering_map.sort_values(\"sequential_site\")[\n",
    "            \"reference_site\"\n",
    "        ].tolist(),\n",
    "        **plot_kwargs,\n",
    "    )\n",
    "\n",
    "    heatmapfile = (\n",
    "        os.path.splitext(config[f\"muteffects_{phenotype}\"])[0]\n",
    "        + \"_heatmap_unformatted.html\"\n",
    "    )\n",
    "    print(f\"Saving to {heatmapfile}\")\n",
    "    chart.save(heatmapfile)\n",
    "\n",
    "    display(chart)"
   ]
  },
  {
   "cell_type": "markdown",
   "id": "ca22ee74-6e05-4ef3-aab4-ca7515817447",
   "metadata": {
    "papermill": {
     "duration": 0.091176,
     "end_time": "2022-10-02T15:01:45.905671",
     "exception": false,
     "start_time": "2022-10-02T15:01:45.814495",
     "status": "completed"
    },
    "tags": []
   },
   "source": [
    "## Plot distributions of mutation effects\n",
    "Make plots showing the distribution of mutation effects.\n",
    "We group amino-acid and deletion mutations as missense.\n",
    "You can mouse over points and use the slider to adjust the times seen.\n",
    "We also draw a box showing the median and first and third quartiles:"
   ]
  },
  {
   "cell_type": "code",
   "execution_count": null,
   "id": "4659df28-2811-42ab-96f2-ebaddd94eda5",
   "metadata": {
    "papermill": {
     "duration": 1.108259,
     "end_time": "2022-10-02T15:01:47.104319",
     "exception": false,
     "start_time": "2022-10-02T15:01:45.996060",
     "status": "completed"
    },
    "tags": []
   },
   "outputs": [],
   "source": [
    "def assign_mut_type(row):\n",
    "    wt = row[\"wildtype\"]\n",
    "    m = row[\"mutant\"]\n",
    "    if wt == m:\n",
    "        return \"synonymous\"\n",
    "    elif m == \"*\":\n",
    "        return \"stop codon\"\n",
    "    else:\n",
    "        return \"missense\"\n",
    "\n",
    "\n",
    "jitter_sd = 0.12  # how much to jitter points\n",
    "bar_extent = 2.5 * jitter_sd  # bars extend this much in each direction\n",
    "random_seed = 1  # random number seed\n",
    "\n",
    "dist_df = (\n",
    "    muteffects_avg.query(\"wildtype != mutant\")  # do not plot synonymous\n",
    "    .query(\"wildtype != '*'\")  # do not plot mutation at stop codon sites\n",
    "    .assign(\n",
    "        mutation=lambda x: (\n",
    "            x[\"wildtype\"] + x[\"reference_site\"].astype(str) + x[\"mutant\"]\n",
    "        ),\n",
    "        mut_type=lambda x: x.apply(assign_mut_type, axis=1),\n",
    "    )\n",
    ")\n",
    "\n",
    "mut_types = sorted(dist_df[\"mut_type\"].unique())\n",
    "\n",
    "for phenotype, df in dist_df.groupby(\"phenotype\"):\n",
    "    print(f\"\\nChart for {phenotype=}\")\n",
    "\n",
    "    numpy.random.seed(random_seed)\n",
    "    df = (\n",
    "        df[[\"mutation\", *[c for c in df.columns if c != \"mutation\"]]]\n",
    "        .assign(\n",
    "            x=lambda x: (\n",
    "                x[\"mut_type\"].map(lambda m: mut_types.index(m))\n",
    "                + numpy.random.normal(0, jitter_sd, len(x)).clip(\n",
    "                    min=-bar_extent,\n",
    "                    max=bar_extent,\n",
    "                )\n",
    "            ),\n",
    "            x_start=lambda x: x[\"mut_type\"].map(\n",
    "                lambda m: mut_types.index(m) - 1.3 * bar_extent\n",
    "            ),\n",
    "            x_end=lambda x: x[\"mut_type\"].map(\n",
    "                lambda m: mut_types.index(m) + 1.3 * bar_extent\n",
    "            ),\n",
    "        )\n",
    "        .drop(\n",
    "            columns=[\n",
    "                \"reference_site\",\n",
    "                \"wildtype\",\n",
    "                \"mutant\",\n",
    "                \"phenotype\",\n",
    "                \"sequential_site\",\n",
    "            ]\n",
    "        )\n",
    "    )\n",
    "\n",
    "    # convert library-specific measurements to str or null displays as 0 in tooltip\n",
    "    for col in df.columns:\n",
    "        if col.endswith(\" effect\"):\n",
    "            df[col] = df[col].map(lambda x: f\"{x:.3g}\")\n",
    "\n",
    "    # build labelExpr as here: https://github.com/vega/vega-lite/issues/7045\n",
    "    labelExpr = []\n",
    "    for i, mut_type in enumerate(mut_types):\n",
    "        if i == len(mut_types) - 1:\n",
    "            labelExpr.append(f\"'{mut_type}'\")\n",
    "        else:\n",
    "            labelExpr.append(f\"datum.label == {i} ? '{mut_type}'\")\n",
    "    labelExpr = \" : \".join(labelExpr)\n",
    "\n",
    "    if (\n",
    "        \"slider_binding_range_kwargs\" in plot_kwargs\n",
    "        and \"times_seen\" in plot_kwargs[\"slider_binding_range_kwargs\"]\n",
    "    ):\n",
    "        binding_range_kwargs = plot_kwargs[\"slider_binding_range_kwargs\"][\"times_seen\"]\n",
    "    else:\n",
    "        binding_range_kwargs = {\"min\": 1, \"max\": df[\"times_seen\"].max(), \"step\": 1}\n",
    "\n",
    "    times_seen_slider = alt.selection_point(\n",
    "        fields=[\"cutoff\"],\n",
    "        value=[{\"cutoff\": plot_kwargs[\"addtl_slider_stats\"][\"times_seen\"]}],\n",
    "        bind=alt.binding_range(name=\"minimum times seen\", **binding_range_kwargs),\n",
    "    )\n",
    "\n",
    "    chart_base = (\n",
    "        alt.Chart(df)\n",
    "        .transform_filter(alt.datum[\"times_seen\"] >= times_seen_slider[\"cutoff\"])\n",
    "        .transform_joinaggregate(\n",
    "            effect_median=\"median(effect)\",\n",
    "            effect_q1=\"q1(effect)\",\n",
    "            effect_q3=\"q3(effect)\",\n",
    "            groupby=[\"mut_type\"],\n",
    "        )\n",
    "    )\n",
    "\n",
    "    chart_points = chart_base.encode(\n",
    "        x=alt.X(\n",
    "            \"x\",\n",
    "            title=\"mutation type\",\n",
    "            scale=alt.Scale(domain=[-0.5, len(mut_types) - 0.5], nice=False),\n",
    "            axis=alt.Axis(values=list(range(len(mut_types))), labelExpr=labelExpr),\n",
    "        ),\n",
    "        y=alt.Y(\"effect\", title=f\"functional effect ({phenotype} phenotype)\"),\n",
    "        tooltip=[\n",
    "            alt.Tooltip(c, format=\".3g\") if df[c].dtype == float else c\n",
    "            for c in df.columns.tolist()\n",
    "            if not c.startswith(\"x\")\n",
    "        ],\n",
    "    ).mark_circle(opacity=0.15, color=\"black\", size=15)\n",
    "\n",
    "    chart_median = chart_base.encode(\n",
    "        x=alt.X(\"x_start\"),\n",
    "        x2=alt.X2(\"x_end\"),\n",
    "        y=alt.Y(\"effect_median:Q\"),\n",
    "    ).mark_rule(color=\"red\", strokeWidth=2)\n",
    "\n",
    "    chart_box = chart_base.encode(\n",
    "        x=alt.X(\"x_start\"),\n",
    "        x2=alt.X2(\"x_end\"),\n",
    "        y=alt.Y(\"effect_q1:Q\"),\n",
    "        y2=alt.Y2(\"effect_q3:Q\"),\n",
    "    ).mark_bar(color=\"red\", filled=False)\n",
    "\n",
    "    chart = (\n",
    "        (chart_points + chart_median + chart_box)\n",
    "        .add_selection(times_seen_slider)\n",
    "        .properties(height=200, width=90 * len(mut_types))\n",
    "        .configure_axis(grid=False)\n",
    "    )\n",
    "\n",
    "    display(chart)"
   ]
  },
  {
   "cell_type": "code",
   "execution_count": null,
   "id": "e01e7f0b-7000-4d21-af36-6463228c7ed0",
   "metadata": {},
   "outputs": [],
   "source": []
  }
 ],
 "metadata": {
  "kernelspec": {
   "display_name": "Python 3 (ipykernel)",
   "language": "python",
   "name": "python3"
  },
  "language_info": {
   "codemirror_mode": {
    "name": "ipython",
    "version": 3
   },
   "file_extension": ".py",
   "mimetype": "text/x-python",
   "name": "python",
   "nbconvert_exporter": "python",
   "pygments_lexer": "ipython3",
   "version": "3.11.3"
  },
  "papermill": {
   "default_parameters": {},
   "duration": 13.24606,
   "end_time": "2022-10-02T15:01:47.993292",
   "environment_variables": {},
   "exception": null,
   "input_path": "dms-vep-pipeline/notebooks/avg_muteffects.ipynb",
   "output_path": "results/notebooks/avg_muteffects.ipynb",
   "parameters": {},
   "start_time": "2022-10-02T15:01:34.747232",
   "version": "2.3.4"
  }
 },
 "nbformat": 4,
 "nbformat_minor": 5
}
