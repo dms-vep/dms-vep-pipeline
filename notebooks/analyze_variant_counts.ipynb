{
 "cells": [
  {
   "cell_type": "markdown",
   "id": "8be48d35-1acb-4b7d-b5d1-0b8e699a004a",
   "metadata": {},
   "source": [
    "# Counts of variants\n",
    "\n",
    "This notebook analyzes the counts of the different variants.\n",
    "\n",
    "Import Python modules:"
   ]
  },
  {
   "cell_type": "code",
   "execution_count": null,
   "id": "2c53379e-3ca3-4a36-b09a-b3cd00ac8064",
   "metadata": {
    "tags": []
   },
   "outputs": [],
   "source": [
    "import os\n",
    "\n",
    "import Bio.SeqIO\n",
    "\n",
    "import altair as alt\n",
    "\n",
    "import dms_variants.codonvarianttable\n",
    "\n",
    "import pandas as pd\n",
    "\n",
    "import yaml"
   ]
  },
  {
   "cell_type": "code",
   "execution_count": null,
   "id": "ecbee837-6b04-409b-ad81-28a40c371e81",
   "metadata": {},
   "outputs": [],
   "source": [
    "# allow more rows for Altair\n",
    "_ = alt.data_transformers.disable_max_rows()"
   ]
  },
  {
   "cell_type": "markdown",
   "id": "52047cd7-1f3e-4bcc-89e3-53ae3695b841",
   "metadata": {},
   "source": [
    "Get configuration information:"
   ]
  },
  {
   "cell_type": "code",
   "execution_count": null,
   "id": "425806e5-dc2f-4900-ba8f-33c13908bac4",
   "metadata": {
    "tags": []
   },
   "outputs": [],
   "source": [
    "# If you are running notebook interactively rather than in pipeline that handles\n",
    "# working directories, you may have to first `os.chdir` to appropriate directory.\n",
    "\n",
    "with open(\"config.yaml\") as f:\n",
    "    config = yaml.safe_load(f)"
   ]
  },
  {
   "cell_type": "markdown",
   "id": "8bd2fed1-9317-419c-a8a6-5defec69ae80",
   "metadata": {},
   "source": [
    "Read information on the barcode runs:"
   ]
  },
  {
   "cell_type": "code",
   "execution_count": null,
   "id": "21115570-f6a3-47a7-bc19-e00a839ba0db",
   "metadata": {
    "tags": []
   },
   "outputs": [],
   "source": [
    "barcode_runs = pd.read_csv(config[\"processed_barcode_runs\"])\n",
    "\n",
    "assert len(barcode_runs) == barcode_runs[\"library_sample\"].nunique()"
   ]
  },
  {
   "cell_type": "markdown",
   "id": "2d445a50-31a0-4e1a-9f9a-82173ce72e41",
   "metadata": {},
   "source": [
    "## Barcode sequencing alignment stats\n",
    "Read the \"fates\" of barcode reads (e.g., did they align?):"
   ]
  },
  {
   "cell_type": "code",
   "execution_count": null,
   "id": "b88d2e2c-d5de-49d2-ac13-835b06b66a16",
   "metadata": {
    "tags": []
   },
   "outputs": [],
   "source": [
    "fates = (\n",
    "    pd.concat(\n",
    "        [\n",
    "            pd.read_csv(\n",
    "                os.path.join(config[\"barcode_fates_dir\"], f\"{library_sample}.csv\")\n",
    "            )\n",
    "            for library_sample in barcode_runs[\"library_sample\"]\n",
    "        ]\n",
    "    )\n",
    "    .merge(barcode_runs, on=[\"library\", \"sample\"], validate=\"many_to_one\")\n",
    "    .drop(columns=[\"fastq_R1\", \"notes\"])\n",
    "    .assign(\n",
    "        valid=lambda x: x[\"fate\"] == \"valid barcode\",\n",
    "        not_valid=lambda x: ~x[\"valid\"],\n",
    "    )\n",
    ")"
   ]
  },
  {
   "cell_type": "markdown",
   "id": "14ae7ab8-3179-4bae-8b64-ec40766ab80c",
   "metadata": {},
   "source": [
    "Plot the barcode fates in an interactive plot:"
   ]
  },
  {
   "cell_type": "code",
   "execution_count": null,
   "id": "9b73c2ab-5b05-4d5d-b3c7-25c1db35e156",
   "metadata": {
    "tags": []
   },
   "outputs": [],
   "source": [
    "selection_cols = [\n",
    "    \"exclude_after_counts\",\n",
    "    \"antibody\",\n",
    "    \"virus_batch\",\n",
    "    \"sample_type\",\n",
    "    \"date\",\n",
    "    \"library\",\n",
    "]\n",
    "\n",
    "selections = [\n",
    "    alt.selection_point(\n",
    "        fields=[col],\n",
    "        bind=alt.binding_select(\n",
    "            options=[None] + fates[col].dropna().unique().tolist(),\n",
    "            labels=[\"all\"] + [str(x) for x in fates[col].dropna().unique()],\n",
    "            name=col,\n",
    "        ),\n",
    "    )\n",
    "    for col in selection_cols\n",
    "]\n",
    "\n",
    "sample_types = barcode_runs[\"sample_type\"].unique().tolist()\n",
    "\n",
    "fate_chart = (\n",
    "    alt.Chart(fates)\n",
    "    .encode(\n",
    "        x=alt.X(\"count\", axis=alt.Axis(format=\".2g\"), scale=alt.Scale(nice=False)),\n",
    "        y=alt.Y(\"library_sample\", title=None),\n",
    "        color=alt.Color(\n",
    "            \"fate\",\n",
    "            scale=alt.Scale(domain=sorted(fates[\"fate\"].unique(), reverse=True)),\n",
    "        ),\n",
    "        order=\"not_valid\",\n",
    "        tooltip=[\n",
    "            alt.Tooltip(c, format=\".3g\") if c == \"count\" else c\n",
    "            for c in fates.columns\n",
    "            if c not in [\"valid\", \"not_valid\", \"library_sample\", \"sample\"]\n",
    "        ],\n",
    "    )\n",
    "    .mark_bar()\n",
    "    .properties(width=300, height=alt.Step(13))\n",
    "    .configure_axis(labelLimit=500)\n",
    ")\n",
    "\n",
    "for selection in selections:\n",
    "    fate_chart = fate_chart.add_parameter(selection).transform_filter(selection)\n",
    "\n",
    "display(fate_chart)"
   ]
  },
  {
   "cell_type": "markdown",
   "id": "6748b708-cb15-40de-bab3-cbde9c443a3c",
   "metadata": {},
   "source": [
    "## Barcode counts\n",
    "Read the counts of all valid and invalid barcodes:"
   ]
  },
  {
   "cell_type": "code",
   "execution_count": null,
   "id": "8d298c05-892f-40e0-8b3c-47e6751ab164",
   "metadata": {
    "tags": []
   },
   "outputs": [],
   "source": [
    "counts = pd.concat(\n",
    "    [\n",
    "        pd.read_csv(os.path.join(subdir, f\"{library_sample}.csv\")).assign(valid=valid)\n",
    "        for library_sample in barcode_runs[\"library_sample\"]\n",
    "        for (subdir, valid) in [\n",
    "            (config[\"barcode_counts_dir\"], True),\n",
    "            (config[\"barcode_counts_invalid_dir\"], False),\n",
    "        ]\n",
    "    ]\n",
    ")"
   ]
  },
  {
   "cell_type": "markdown",
   "id": "a295e25c-7f3a-4d09-8d11-0fb6c1a936a2",
   "metadata": {},
   "source": [
    "Get the average number of counts per barcode, separating valid and invalid ones:"
   ]
  },
  {
   "cell_type": "code",
   "execution_count": null,
   "id": "c4232a83-d922-4791-9289-fcdda34bf881",
   "metadata": {
    "tags": []
   },
   "outputs": [],
   "source": [
    "avg_counts = (\n",
    "    counts.groupby([\"library\", \"sample\", \"valid\"], as_index=False)\n",
    "    .aggregate(\n",
    "        mean_counts=pd.NamedAgg(\"count\", \"mean\"),\n",
    "        n_barcodes=pd.NamedAgg(\"barcode\", \"count\"),\n",
    "    )\n",
    "    .merge(\n",
    "        barcode_runs,\n",
    "        on=[\"library\", \"sample\"],\n",
    "        validate=\"many_to_one\",\n",
    "    )\n",
    "    .assign(valid=lambda x: x[\"valid\"].astype(str))  # to make interactive chart work\n",
    "    .drop(columns=[\"fastq_R1\", \"notes\"])\n",
    ")"
   ]
  },
  {
   "cell_type": "markdown",
   "id": "1d488d54-1b29-4881-a379-6aed066770a8",
   "metadata": {},
   "source": [
    "Plot the average counts per barcode for both valid and invalid ones.\n",
    "The plot below is interactive: you can use the drop downs at bottom to select specific subsets, mouseover points for details, and click the legend to show only valid or invalid counts:"
   ]
  },
  {
   "cell_type": "code",
   "execution_count": null,
   "id": "c03a971b-ff89-4ba3-bebf-3a3154b9c8c8",
   "metadata": {
    "tags": []
   },
   "outputs": [],
   "source": [
    "validities = avg_counts[\"valid\"].unique()\n",
    "valid_selection = alt.selection_multi(\n",
    "    fields=[\"valid\"],\n",
    "    bind=\"legend\",\n",
    ")\n",
    "\n",
    "avg_counts_chart = (\n",
    "    alt.Chart(avg_counts)\n",
    "    .encode(\n",
    "        x=alt.X(\"mean_counts\", title=\"average counts per barcode\"),\n",
    "        y=alt.Y(\"library_sample\", title=None),\n",
    "        color=alt.Color(\n",
    "            \"valid\", title=\"valid barcode\", scale=alt.Scale(domain=validities)\n",
    "        ),\n",
    "        shape=alt.Shape(\"valid\", scale=alt.Scale(domain=validities)),\n",
    "        opacity=alt.condition(valid_selection, alt.value(0.8), alt.value(0)),\n",
    "        tooltip=[\n",
    "            alt.Tooltip(c, format=\".3g\") if c in {\"mean_counts\", \"n_barcodes\"} else c\n",
    "            for c in avg_counts.columns\n",
    "            if c != \"library_sample\"\n",
    "        ],\n",
    "    )\n",
    "    .mark_point(filled=True, size=50)\n",
    "    .properties(width=200, height=alt.Step(15))\n",
    "    .configure_axis(labelLimit=500)\n",
    "    .add_parameter(*selections, valid_selection)\n",
    ")\n",
    "for selection in selections:\n",
    "    avg_counts_chart = avg_counts_chart.transform_filter(selection)\n",
    "\n",
    "avg_counts_chart"
   ]
  },
  {
   "cell_type": "markdown",
   "id": "c9422364-e090-42a7-a33e-a900e41b68be",
   "metadata": {},
   "source": [
    "## Invalid barcodes and possible library-to-library contamination\n",
    "Look at the top invalid barcodes.\n",
    "\n",
    "First get all invalid barcodes along with where their counts rank among **all** (valid and invalid) barcodes for that library / sample:"
   ]
  },
  {
   "cell_type": "code",
   "execution_count": null,
   "id": "c1343f10-1bc0-4d33-a454-92feefb3a581",
   "metadata": {
    "tags": []
   },
   "outputs": [],
   "source": [
    "ranked_invalid = (\n",
    "    counts.assign(\n",
    "        overall_rank=lambda x: (\n",
    "            x.groupby([\"library\", \"sample\"])[\"count\"]\n",
    "            .transform(\"rank\", ascending=False, method=\"first\")\n",
    "            .astype(int)\n",
    "        )\n",
    "    )\n",
    "    .query(\"not valid\")\n",
    "    .merge(barcode_runs)\n",
    "    .sort_values([\"library\", \"overall_rank\"])\n",
    ")"
   ]
  },
  {
   "cell_type": "markdown",
   "id": "d4092ecc-7dd0-4046-9dd8-b6c71a84f842",
   "metadata": {},
   "source": [
    "How many invalid barcodes are in top 10 most abundant?\n",
    "Plot this, and then list top barcode for any sample with an invalid in the top 10:"
   ]
  },
  {
   "cell_type": "code",
   "execution_count": null,
   "id": "cc0c05d6-b030-4eee-a74d-566abd22e41d",
   "metadata": {
    "tags": []
   },
   "outputs": [],
   "source": [
    "# get top invalid barcode and number invalid in top 10\n",
    "invalid_topn = (\n",
    "    ranked_invalid.groupby([\"library_sample\", \"library\", \"sample\"])\n",
    "    .aggregate(\n",
    "        invalid_barcodes_in_top_10=pd.NamedAgg(\n",
    "            \"overall_rank\", lambda s: len(s[s <= 10])\n",
    "        ),\n",
    "        top_invalid_rank=pd.NamedAgg(\"overall_rank\", \"first\"),\n",
    "        top_invalid_barcode=pd.NamedAgg(\"barcode\", \"first\"),\n",
    "    )\n",
    "    .reset_index()\n",
    "    .merge(barcode_runs.drop(columns=[\"fastq_R1\", \"notes\"]), how=\"left\")\n",
    ")\n",
    "\n",
    "# plot number invalid barcodes in top 10\n",
    "topn_chart = (\n",
    "    alt.Chart(invalid_topn)\n",
    "    .encode(\n",
    "        x=alt.X(\n",
    "            \"invalid_barcodes_in_top_10\",\n",
    "            title=\"invalid barcodes in top 10\",\n",
    "            scale=alt.Scale(domain=(0, 10)),\n",
    "        ),\n",
    "        y=alt.Y(\"library_sample\", title=None),\n",
    "        tooltip=[\n",
    "            alt.Tooltip(c, format=\".3g\") if c in {\"mean_counts\", \"n_barcodes\"} else c\n",
    "            for c in invalid_topn.columns\n",
    "            if c != \"library_sample\"\n",
    "        ],\n",
    "    )\n",
    "    .mark_bar()\n",
    "    .properties(width=200, height=alt.Step(15))\n",
    "    .configure_axis(labelLimit=500)\n",
    "    .add_parameter(*selections, valid_selection)\n",
    ")\n",
    "for selection in selections:\n",
    "    topn_chart = topn_chart.transform_filter(selection)\n",
    "display(topn_chart)\n",
    "\n",
    "# top barcode for any samples with an invalid in top 10\n",
    "print(\"\\nTop barcode for samples with an invalid barcode in top 10:\")\n",
    "display(\n",
    "    invalid_topn.query(\"invalid_barcodes_in_top_10 > 0\").reset_index(drop=True)[\n",
    "        [\n",
    "            \"library\",\n",
    "            \"sample\",\n",
    "            \"invalid_barcodes_in_top_10\",\n",
    "            \"top_invalid_rank\",\n",
    "            \"top_invalid_barcode\",\n",
    "        ]\n",
    "    ]\n",
    ")"
   ]
  },
  {
   "cell_type": "markdown",
   "id": "f6cd0024-7be9-434a-b3f6-b48e76698470",
   "metadata": {},
   "source": [
    "Get which libraries each barcode maps to:"
   ]
  },
  {
   "cell_type": "code",
   "execution_count": null,
   "id": "cfb5fb89-d5df-4ec5-ae8c-f613215f25c4",
   "metadata": {
    "tags": []
   },
   "outputs": [],
   "source": [
    "barcodes_by_library = (\n",
    "    pd.read_csv(config[\"codon_variants\"])\n",
    "    .groupby([\"barcode\", \"target\"], as_index=False)\n",
    "    .aggregate(\n",
    "        libraries_w_barcode=pd.NamedAgg(\"library\", lambda s: \", \".join(s.unique())),\n",
    "        n_libraries_w_barcode=pd.NamedAgg(\"library\", \"nunique\"),\n",
    "    )\n",
    ")\n",
    "\n",
    "display(\n",
    "    barcodes_by_library.groupby([\"target\", \"libraries_w_barcode\"]).aggregate(\n",
    "        n_barcodes=pd.NamedAgg(\"barcode\", \"count\")\n",
    "    )\n",
    ")"
   ]
  },
  {
   "cell_type": "markdown",
   "id": "9f3e5639-0a27-4abb-b0c5-ee7c76210bf5",
   "metadata": {
    "tags": []
   },
   "source": [
    "Now look at the overall barcode counts for each sample and see how many map to the expected library or to some other library.\n",
    "Having many barcodes that map to a different library can be an indication of contamination unless there is a lot of expected overlap between the two libraries (which would be indicated in table above):"
   ]
  },
  {
   "cell_type": "code",
   "execution_count": null,
   "id": "b4172e3a-03ba-447e-88f1-45387922f5be",
   "metadata": {
    "tags": []
   },
   "outputs": [],
   "source": [
    "counts_by_library = (\n",
    "    counts.merge(barcodes_by_library, on=\"barcode\", validate=\"many_to_one\")\n",
    "    .groupby(\n",
    "        [\"library\", \"sample\", \"libraries_w_barcode\", \"target\", \"n_libraries_w_barcode\"],\n",
    "        as_index=False,\n",
    "    )\n",
    "    .aggregate(n_counts=pd.NamedAgg(\"count\", \"sum\"))\n",
    "    .assign(\n",
    "        frac_counts=lambda x: x[\"n_counts\"]\n",
    "        / x.groupby([\"library\", \"sample\"])[\"n_counts\"].transform(\"sum\"),\n",
    "    )\n",
    "    .merge(barcode_runs)\n",
    "    .assign(\n",
    "        category=lambda x: x[\"libraries_w_barcode\"].where(\n",
    "            x[\"target\"] == \"gene\", x[\"target\"]\n",
    "        )\n",
    "    )\n",
    "    .drop(\n",
    "        columns=[\n",
    "            \"fastq_R1\",\n",
    "            \"notes\",\n",
    "            \"antibody_concentration\",\n",
    "            \"target\",\n",
    "            \"libraries_w_barcode\",\n",
    "        ]\n",
    "    )\n",
    ")"
   ]
  },
  {
   "cell_type": "markdown",
   "id": "af346451-1333-433b-994f-dc49b7d81117",
   "metadata": {},
   "source": [
    "Plot which libraries overall barcode counts map to for each sample:"
   ]
  },
  {
   "cell_type": "code",
   "execution_count": null,
   "id": "d403c073-9448-49a0-8045-5742e779854e",
   "metadata": {
    "tags": []
   },
   "outputs": [],
   "source": [
    "ordered_cats = (\n",
    "    counts_by_library.sort_values([\"n_libraries_w_barcode\", \"category\"])[\"category\"]\n",
    "    .unique()\n",
    "    .tolist()\n",
    ")\n",
    "\n",
    "category_selection = alt.selection_point(fields=[\"category\"], bind=\"legend\")\n",
    "\n",
    "counts_by_library_chart = (\n",
    "    alt.Chart(\n",
    "        counts_by_library.assign(\n",
    "            order=lambda x: x[\"category\"].map(lambda s: ordered_cats.index(s))\n",
    "        )\n",
    "    )\n",
    "    .encode(\n",
    "        x=alt.X(\"frac_counts\", scale=alt.Scale(domain=[0, 1])),\n",
    "        y=alt.Y(\"library_sample\", title=None),\n",
    "        color=alt.Color(\"category\", scale=alt.Scale(domain=ordered_cats)),\n",
    "        order=\"order\",\n",
    "        tooltip=[\n",
    "            alt.Tooltip(c, format=\".2g\") if c in {\"n_counts\", \"frac_counts\"} else c\n",
    "            for c in counts_by_library.columns\n",
    "            if c not in {\"library_sample\"}\n",
    "        ],\n",
    "    )\n",
    "    .mark_bar()\n",
    "    .properties(width=250, height=alt.Step(15))\n",
    "    .configure_axis(labelLimit=500)\n",
    "    .add_parameter(*selections, category_selection)\n",
    "    .transform_filter(category_selection)\n",
    ")\n",
    "for selection in selections:\n",
    "    counts_by_library_chart = counts_by_library_chart.transform_filter(selection)\n",
    "\n",
    "counts_by_library_chart"
   ]
  },
  {
   "cell_type": "markdown",
   "id": "2b7df0e7-75e5-4454-954e-1206fb9a79b9",
   "metadata": {},
   "source": [
    "## Get `CodonVariantTable` for valid variant counts\n",
    "Get the variant counts for samples with sufficient valid barcode counts, and raise an error if there are any samples without sufficient counts that don't havea `exclude_after_counts` specified:"
   ]
  },
  {
   "cell_type": "code",
   "execution_count": null,
   "id": "36eb2fc9-ea8b-4d71-a424-e0b4522f357e",
   "metadata": {
    "tags": []
   },
   "outputs": [],
   "source": [
    "print(f\"Requiring {config['min_avg_counts']=} average counts per variant\\n\")\n",
    "\n",
    "valid_counts = counts.query(\"valid\").drop(columns=\"valid\")\n",
    "\n",
    "avg_counts = (\n",
    "    valid_counts.groupby([\"library\", \"sample\"], as_index=False)\n",
    "    .aggregate(avg_counts=pd.NamedAgg(\"count\", \"mean\"))\n",
    "    .assign(adequate_counts=lambda x: x[\"avg_counts\"] >= config[\"min_avg_counts\"])\n",
    "    .merge(barcode_runs, how=\"left\", validate=\"one_to_one\")\n",
    "    .drop(columns=[\"fastq_R1\", \"notes\"])\n",
    ")\n",
    "\n",
    "avg_counts_chart = (\n",
    "    alt.Chart(avg_counts)\n",
    "    .encode(\n",
    "        x=alt.X(\"avg_counts\"),\n",
    "        y=alt.Y(\"library_sample\", title=None),\n",
    "        color=\"exclude_after_counts\",\n",
    "        tooltip=[\n",
    "            alt.Tooltip(c, format=\".2g\") if c in {\"avg_counts\"} else c\n",
    "            for c in avg_counts.columns\n",
    "            if c not in {\"library_sample\"}\n",
    "        ],\n",
    "    )\n",
    "    .mark_bar()\n",
    "    .properties(width=250, height=alt.Step(15))\n",
    "    .configure_axis(labelLimit=500)\n",
    "    .add_parameter(*selections)\n",
    ")\n",
    "for selection in selections:\n",
    "    avg_counts_chart = avg_counts_chart.transform_filter(selection)\n",
    "display(avg_counts_chart)\n",
    "\n",
    "insufficient_counts = avg_counts.query(\n",
    "    \"(not adequate_counts) & (exclude_after_counts != 'yes')\"\n",
    ")\n",
    "if len(insufficient_counts):\n",
    "    raise ValueError(\n",
    "        \"Samples w/o `exclude_after_counts` specified have insufficient counts:\\n\"\n",
    "        + str(insufficient_counts[[\"library\", \"sample\", \"avg_counts\"]])\n",
    "    )"
   ]
  },
  {
   "cell_type": "markdown",
   "id": "c3055e44-3924-42ae-a098-a2a4468f7fdc",
   "metadata": {},
   "source": [
    "Now create a [CodonVariantTable](https://jbloomlab.github.io/dms_variants/dms_variants.codonvarianttable.html) for the samples not specified for exclusion:"
   ]
  },
  {
   "cell_type": "code",
   "execution_count": null,
   "id": "295227df-f286-4c99-af7c-abd0d1a73d59",
   "metadata": {
    "tags": []
   },
   "outputs": [],
   "source": [
    "geneseq = str(Bio.SeqIO.read(config[\"gene_sequence_codon\"], \"fasta\").seq)\n",
    "\n",
    "variants = dms_variants.codonvarianttable.CodonVariantTable(\n",
    "    barcode_variant_file=config[\"codon_variants\"],\n",
    "    geneseq=geneseq,\n",
    "    allowgaps=True,\n",
    "    substitutions_are_codon=True,\n",
    "    primary_target=\"gene\",\n",
    "    substitutions_col=\"codon_substitutions\",\n",
    ")\n",
    "\n",
    "variants.add_sample_counts_df(\n",
    "    valid_counts.merge(\n",
    "        barcode_runs[[\"library\", \"sample\", \"exclude_after_counts\"]],\n",
    "        validate=\"many_to_one\",\n",
    "        how=\"left\",\n",
    "        on=[\"library\", \"sample\"],\n",
    "    ).query(\"exclude_after_counts == 'no'\")\n",
    ")"
   ]
  },
  {
   "cell_type": "markdown",
   "id": "49eaa294-0caf-4510-be5e-81ba5e4b2943",
   "metadata": {},
   "source": [
    "## Average mutations per variant\n",
    "Interactive plot of average codon mutations per variant:"
   ]
  },
  {
   "cell_type": "code",
   "execution_count": null,
   "id": "712959cf-986e-4d44-b58d-36ae06b9dfe0",
   "metadata": {
    "tags": []
   },
   "outputs": [],
   "source": [
    "avg_muts = (\n",
    "    variants.numCodonMutsByType(\n",
    "        variant_type=\"all\",\n",
    "        libraries=variants.libraries,\n",
    "    )\n",
    "    .merge(barcode_runs, validate=\"many_to_one\")\n",
    "    .drop(\n",
    "        columns=[\n",
    "            \"num_muts_count\",\n",
    "            \"count\",\n",
    "            \"antibody_concentration\",\n",
    "            \"fastq_R1\",\n",
    "            \"notes\",\n",
    "            \"exclude_after_counts\",\n",
    "        ]\n",
    "    )\n",
    ")"
   ]
  },
  {
   "cell_type": "code",
   "execution_count": null,
   "id": "775a704f-4dde-41f0-97c1-b609dc75de38",
   "metadata": {
    "tags": []
   },
   "outputs": [],
   "source": [
    "mut_types_sort = avg_muts[\"mutation_type\"].unique().tolist()\n",
    "\n",
    "mut_type_selection = alt.selection_point(fields=[\"mutation_type\"], bind=\"legend\")\n",
    "\n",
    "# we can remove exclude_after_counts from selections as we've now removed it\n",
    "selections = [\n",
    "    s for (s, c) in zip(selections, selection_cols) if c != \"exclude_after_counts\"\n",
    "]\n",
    "\n",
    "avg_muts_chart = (\n",
    "    alt.Chart(\n",
    "        avg_muts.assign(\n",
    "            order=lambda x: x[\"mutation_type\"].map(lambda m: mut_types_sort.index(m))\n",
    "        ),\n",
    "    )\n",
    "    .encode(\n",
    "        x=alt.X(\n",
    "            \"number\",\n",
    "            title=\"average mutations per variant\",\n",
    "            axis=alt.Axis(grid=False),\n",
    "        ),\n",
    "        y=alt.Y(\n",
    "            \"library_sample\",\n",
    "            title=None,\n",
    "        ),\n",
    "        color=alt.Color(\n",
    "            \"mutation_type\",\n",
    "            scale=alt.Scale(domain=mut_types_sort),\n",
    "        ),\n",
    "        order=alt.Order(\"order\", sort=\"descending\"),\n",
    "        tooltip=[\n",
    "            alt.Tooltip(c, format=\".3g\") if c in [\"count\", \"number\"] else c\n",
    "            for c in avg_muts.columns\n",
    "            if c != \"library_sample\"\n",
    "        ],\n",
    "    )\n",
    "    .mark_bar()\n",
    "    .properties(height=alt.Step(13), width=300)\n",
    "    .configure_axis(labelLimit=500)\n",
    "    .add_parameter(mut_type_selection, *selections)\n",
    "    .transform_filter(mut_type_selection)\n",
    ")\n",
    "\n",
    "for selection in selections:\n",
    "    avg_muts_chart = avg_muts_chart.transform_filter(selection)\n",
    "\n",
    "avg_muts_chart"
   ]
  },
  {
   "cell_type": "markdown",
   "id": "994b5f21-3109-429c-94b6-7b17e43722ac",
   "metadata": {},
   "source": [
    "## Mutation frequency across the gene\n",
    "Plot frequencies of mutations across the gene.\n",
    "\n",
    "First, get the frequencies of mutations at each site:"
   ]
  },
  {
   "cell_type": "code",
   "execution_count": null,
   "id": "749e0f8b-f778-4385-85a9-f6ce5e90f316",
   "metadata": {
    "tags": []
   },
   "outputs": [],
   "source": [
    "# read reference site numbering\n",
    "site_numbering_map = pd.read_csv(config[\"site_numbering_map\"])\n",
    "\n",
    "# frequencies of mutations at each site\n",
    "site_freqs = (\n",
    "    variants.mutCounts(\n",
    "        variant_type=\"all\",\n",
    "        mut_type=\"aa\",\n",
    "        libraries=variants.libraries,\n",
    "    )\n",
    "    .query(\"count > 0\")\n",
    "    .rename(columns={\"site\": \"sequential_site\"})\n",
    "    .merge(\n",
    "        site_numbering_map,\n",
    "        how=\"left\",\n",
    "        on=\"sequential_site\",\n",
    "        validate=\"many_to_one\",\n",
    "    )\n",
    "    .assign(\n",
    "        wildtype=lambda x: x[\"mutation\"].str[0],\n",
    "        reference_site=lambda x: x[\"reference_site\"].astype(\"Int64\"),\n",
    "    )\n",
    "    .groupby(\n",
    "        [\"library\", \"sample\", \"sequential_site\", \"reference_site\", \"wildtype\"],\n",
    "        observed=True,\n",
    "        as_index=False,\n",
    "    )\n",
    "    .aggregate(count=pd.NamedAgg(\"count\", \"sum\"))\n",
    "    .merge(\n",
    "        variants.n_variants_df(\n",
    "            libraries=variants.libraries, primary_target_only=True\n",
    "        ).rename(columns={\"count\": \"n_variants\"})\n",
    "    )\n",
    "    .assign(percent=lambda x: 100 * x[\"count\"] / x[\"n_variants\"])\n",
    "    .merge(barcode_runs[[\"library_sample\", \"library\", \"sample\"]])\n",
    "    .drop(columns=[\"n_variants\", \"count\", \"library\", \"sample\"])\n",
    ")"
   ]
  },
  {
   "cell_type": "markdown",
   "id": "ab10aaff-a132-48a6-88b9-e035a5a57973",
   "metadata": {},
   "source": [
    "Now to make these plots smaller we pivot the data to wide form and remove all most of the data to a separate lookup table:"
   ]
  },
  {
   "cell_type": "code",
   "execution_count": null,
   "id": "e4faaf2d-bcd0-4c2e-9bab-c927e1d6c28f",
   "metadata": {
    "tags": []
   },
   "outputs": [],
   "source": [
    "# encode samples as integers\n",
    "library_sample_code = {\n",
    "    y: str(x) for x, y in enumerate(site_freqs[\"library_sample\"].unique())\n",
    "}\n",
    "\n",
    "# wide version of site freqs\n",
    "site_freqs_wide = (\n",
    "    site_freqs.assign(\n",
    "        library_sample_code=lambda x: x[\"library_sample\"].map(library_sample_code)\n",
    "    )\n",
    "    .pivot_table(\n",
    "        index=[\"sequential_site\", \"reference_site\", \"wildtype\"],\n",
    "        values=\"percent\",\n",
    "        columns=\"library_sample_code\",\n",
    "        fill_value=0,\n",
    "    )\n",
    "    .reset_index()\n",
    ")\n",
    "\n",
    "# lookup data frame that map sample codes to other information\n",
    "library_sample_lookup = barcode_runs.assign(\n",
    "    library_sample_code=lambda x: x[\"library_sample\"].map(library_sample_code)\n",
    ").query(\"library_sample_code.notnull()\")"
   ]
  },
  {
   "cell_type": "markdown",
   "id": "bdf98ef2-2e54-4892-9f83-e8e3933af2f5",
   "metadata": {},
   "source": [
    "Now plot the frequencies:"
   ]
  },
  {
   "cell_type": "code",
   "execution_count": null,
   "id": "f4fd86aa-313e-4e7a-abf0-3bff40848e87",
   "metadata": {
    "tags": []
   },
   "outputs": [],
   "source": [
    "zoom_brush = alt.selection_interval(\n",
    "    encodings=[\"x\"],\n",
    "    mark=alt.BrushConfig(stroke=\"black\", strokeWidth=2),\n",
    ")\n",
    "\n",
    "zoom_bar = (\n",
    "    alt.Chart(site_freqs[[\"sequential_site\"]].drop_duplicates())\n",
    "    .mark_rect(color=\"lightgrey\")\n",
    "    .encode(\n",
    "        x=alt.X(\"sequential_site\", title=None, scale=alt.Scale(nice=False, zero=False))\n",
    "    )\n",
    "    .add_parameter(zoom_brush)\n",
    "    .properties(width=550, height=15, title=\"site zoom bar\")\n",
    ")\n",
    "\n",
    "site_freqs_base = (\n",
    "    alt.Chart(site_freqs_wide)\n",
    "    .encode(\n",
    "        x=alt.X(\"sequential_site\", scale=alt.Scale(nice=False, zero=False)),\n",
    "        y=alt.Y(\"percent:Q\", title=\"% variants with mutation\"),\n",
    "        color=alt.Color(\"sample_type:N\", legend=alt.Legend(orient=\"top\")),\n",
    "        tooltip=[\n",
    "            alt.Tooltip(c, format=\".3g\") if c in {\"percent:Q\"} else c\n",
    "            for c in [\"sequential_site\", \"reference_site\", \"wildtype\", \"percent:Q\"]\n",
    "        ],\n",
    "    )\n",
    "    .properties(height=100, width=275)\n",
    ")\n",
    "\n",
    "site_freqs_chart = (\n",
    "    alt.layer(\n",
    "        site_freqs_base.mark_point(filled=True),\n",
    "        site_freqs_base.mark_line(size=0.5),\n",
    "        data=site_freqs_wide,\n",
    "    )\n",
    "    .transform_fold(\n",
    "        list(library_sample_code.values()), [\"library_sample_code\", \"percent\"]\n",
    "    )\n",
    "    .transform_lookup(\n",
    "        lookup=\"library_sample_code\",\n",
    "        from_=alt.LookupData(\n",
    "            data=library_sample_lookup,\n",
    "            key=\"library_sample_code\",\n",
    "            fields=[\n",
    "                \"date\",\n",
    "                \"virus_batch\",\n",
    "                \"library\",\n",
    "                \"sample_type\",\n",
    "                \"antibody\",\n",
    "                \"sample\",\n",
    "                \"library_sample\",\n",
    "            ],\n",
    "        ),\n",
    "    )\n",
    "    .facet(facet=alt.Facet(\"library_sample:N\", title=None), columns=3)\n",
    "    .add_parameter(zoom_brush)\n",
    "    .transform_filter(zoom_brush)\n",
    "    .resolve_scale(y=\"independent\")\n",
    ")\n",
    "\n",
    "site_freqs_zoom_chart = (zoom_bar & site_freqs_chart).configure_axis(grid=False)\n",
    "\n",
    "site_freqs_zoom_chart"
   ]
  },
  {
   "cell_type": "markdown",
   "id": "c5f06032-3644-4bd6-bccd-8a12a886c4a9",
   "metadata": {},
   "source": [
    "## How much do individual variants dominate counts?\n",
    "We look to see which individual variants dominate the counts, doing this separately for each target:"
   ]
  },
  {
   "cell_type": "code",
   "execution_count": null,
   "id": "6d8e6ec4-f263-4197-bf70-cb2d8b77ebf1",
   "metadata": {
    "tags": []
   },
   "outputs": [],
   "source": [
    "variant_counts = (\n",
    "    variants.variant_count_df[\n",
    "        [\"library\", \"sample\", \"target\", \"barcode\", \"count\", \"aa_substitutions\"]\n",
    "    ]\n",
    "    .merge(\n",
    "        barcode_runs.drop(\n",
    "            columns=[\n",
    "                \"fastq_R1\",\n",
    "                \"notes\",\n",
    "                \"antibody_concentration\",\n",
    "                \"exclude_after_counts\",\n",
    "            ]\n",
    "        )\n",
    "    )\n",
    "    .assign(\n",
    "        percent=lambda x: 100\n",
    "        * x[\"count\"]\n",
    "        / x.groupby([\"library_sample\", \"target\"])[\"count\"].transform(\"sum\")\n",
    "    )\n",
    "    .sort_values(\"percent\", ascending=False)\n",
    ")"
   ]
  },
  {
   "cell_type": "markdown",
   "id": "01d0f17a-c35b-48ed-a4a0-cc9410f358be",
   "metadata": {},
   "source": [
    "Get the top 25 variants, and the 10th and 90th percentiles:"
   ]
  },
  {
   "cell_type": "code",
   "execution_count": null,
   "id": "9cafb995-0ae2-483e-934e-b7d122fd6a9c",
   "metadata": {
    "tags": []
   },
   "outputs": [],
   "source": [
    "top_n = 25\n",
    "\n",
    "variant_counts_top_n = (\n",
    "    variant_counts.groupby([\"library_sample\", \"target\"])\n",
    "    .head(n=top_n)\n",
    "    .merge(\n",
    "        (\n",
    "            variant_counts.groupby(\n",
    "                [\"library_sample\", \"target\"], as_index=False\n",
    "            ).aggregate(\n",
    "                percentile_10=pd.NamedAgg(\"percent\", lambda s: s.quantile(0.1)),\n",
    "                percentile_90=pd.NamedAgg(\"percent\", lambda s: s.quantile(0.9)),\n",
    "                min_percent=pd.NamedAgg(\"percent\", \"min\"),\n",
    "                max_percent=pd.NamedAgg(\"percent\", \"max\"),\n",
    "            )\n",
    "        ),\n",
    "        validate=\"many_to_one\",\n",
    "    )\n",
    ")\n",
    "\n",
    "variant_counts_top_n.head()"
   ]
  },
  {
   "cell_type": "markdown",
   "id": "476f4c02-f02c-4171-b2c2-4ae5e0dede8e",
   "metadata": {},
   "source": [
    "Now plot these data. The points show the top variants, and can be moused over for details.\n",
    "The bars show the 10th to 90th percentiles, and the lines the full span.\n",
    "Note that these are the percent frequencies of variants, not the fractional frequencies.\n",
    "Also, note that the x-axis is a symlog scale:"
   ]
  },
  {
   "cell_type": "code",
   "execution_count": null,
   "id": "15eee703-00f7-471c-943e-9311b478f84d",
   "metadata": {
    "tags": []
   },
   "outputs": [],
   "source": [
    "variant_selector = alt.selection_point(\n",
    "    on=\"mouseover\",\n",
    "    empty=\"none\",\n",
    "    fields=[\"barcode\", \"library\", \"target\"],\n",
    ")\n",
    "\n",
    "target_selection = alt.selection_point(\n",
    "    fields=[\"target\"],\n",
    "    bind=alt.binding_select(\n",
    "        options=variant_counts_top_n[\"target\"].unique(),\n",
    "        name=\"target\",\n",
    "    ),\n",
    "    value=[{\"target\": \"gene\"}],\n",
    ")\n",
    "\n",
    "variant_counts_top_n_base = (\n",
    "    alt.Chart(variant_counts_top_n)\n",
    "    .encode(\n",
    "        y=alt.Y(\"library_sample\", title=None),\n",
    "        color=alt.Color(\n",
    "            \"sample_type\",\n",
    "            scale=alt.Scale(domain=variant_counts_top_n[\"sample_type\"].unique()),\n",
    "        ),\n",
    "    )\n",
    "    .mark_point(filled=True)\n",
    ")\n",
    "\n",
    "variant_counts_top_n_points = variant_counts_top_n_base.encode(\n",
    "    x=alt.X(\"percent\", title=\"percent of library\", scale=alt.Scale(type=\"symlog\")),\n",
    "    tooltip=[\n",
    "        alt.Tooltip(c, format=\".3g\") if c.startswith(\"percent\") else c\n",
    "        for c in variant_counts_top_n.columns\n",
    "        if c not in [\"library_sample\", \"min_percent\", \"max_percent\"]\n",
    "    ],\n",
    "    opacity=alt.condition(variant_selector, alt.value(1), alt.value(0.5)),\n",
    "    strokeWidth=alt.condition(variant_selector, alt.value(2), alt.value(0)),\n",
    "    size=alt.condition(variant_selector, alt.value(40), alt.value(25)),\n",
    ").mark_point(filled=True, stroke=\"black\")\n",
    "\n",
    "variant_counts_top_n_bars = variant_counts_top_n_base.encode(\n",
    "    alt.X(\"percentile_10\"),\n",
    "    alt.X2(\"percentile_90\"),\n",
    ").mark_bar(size=11)\n",
    "\n",
    "variant_counts_top_n_rule = variant_counts_top_n_base.encode(\n",
    "    alt.X(\"min_percent\"),\n",
    "    alt.X2(\"max_percent\"),\n",
    ").mark_rule()\n",
    "\n",
    "variant_counts_top_n_chart = (\n",
    "    (\n",
    "        variant_counts_top_n_points\n",
    "        + variant_counts_top_n_bars\n",
    "        + variant_counts_top_n_rule\n",
    "    )\n",
    "    .configure_axis(labelLimit=500)\n",
    "    .add_parameter(variant_selector, target_selection, *selections)\n",
    "    .transform_filter(target_selection)\n",
    "    .properties(height=alt.Step(15), width=275)\n",
    ")\n",
    "for selection in selections:\n",
    "    variant_counts_top_n_chart = variant_counts_top_n_chart.transform_filter(selection)\n",
    "\n",
    "variant_counts_top_n_chart"
   ]
  },
  {
   "cell_type": "markdown",
   "id": "6b84cf92-4437-4cae-95a7-54b5e7be7310",
   "metadata": {},
   "source": [
    "## Check counts are consistent with variant count files\n",
    "Make sure the variant counts analyzed here are the same ones written to CSV files by the pipeline for each library/sample:"
   ]
  },
  {
   "cell_type": "code",
   "execution_count": null,
   "id": "5ead50ec-c642-4f06-bf7e-60a8ad0033fb",
   "metadata": {
    "tags": []
   },
   "outputs": [],
   "source": [
    "for library_sample, df in variants.variant_count_df.merge(\n",
    "    barcode_runs,\n",
    "    on=[\"library\", \"sample\"],\n",
    "    how=\"left\",\n",
    "    validate=\"many_to_one\",\n",
    ").groupby(\"library_sample\"):\n",
    "    f = os.path.join(config[\"variant_counts_dir\"], f\"{library_sample}.csv\")\n",
    "    print(f\"Checking counts in {f}\")\n",
    "    assert os.path.isfile(f), f\"cannot find {f}\"\n",
    "    pd.testing.assert_frame_equal(\n",
    "        pd.read_csv(f, na_filter=None),\n",
    "        df[\n",
    "            [\n",
    "                \"barcode\",\n",
    "                \"count\",\n",
    "                \"codon_substitutions\",\n",
    "                \"aa_substitutions\",\n",
    "                \"variant_call_support\",\n",
    "            ]\n",
    "        ]\n",
    "        .sort_values([\"count\", \"barcode\"], ascending=[False, True])\n",
    "        .reset_index(drop=True),\n",
    "    )"
   ]
  }
 ],
 "metadata": {
  "kernelspec": {
   "display_name": "Python 3 (ipykernel)",
   "language": "python",
   "name": "python3"
  },
  "language_info": {
   "codemirror_mode": {
    "name": "ipython",
    "version": 3
   },
   "file_extension": ".py",
   "mimetype": "text/x-python",
   "name": "python",
   "nbconvert_exporter": "python",
   "pygments_lexer": "ipython3",
   "version": "3.9.13"
  }
 },
 "nbformat": 4,
 "nbformat_minor": 5
}
