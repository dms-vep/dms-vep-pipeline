{
 "cells": [
  {
   "cell_type": "markdown",
   "id": "8be48d35-1acb-4b7d-b5d1-0b8e699a004a",
   "metadata": {},
   "source": [
    "# Compute probabilities of escape for variants in antibody selections\n",
    "\n",
    "This notebook analyzes the counts of the different in antibody selections relative to a neutralization standard, and computes probabilities of escape (fraction not neutralized).\n",
    "\n",
    "Import Python modules:"
   ]
  },
  {
   "cell_type": "code",
   "execution_count": null,
   "id": "2c53379e-3ca3-4a36-b09a-b3cd00ac8064",
   "metadata": {
    "tags": []
   },
   "outputs": [],
   "source": [
    "import os\n",
    "\n",
    "import Bio.SeqIO\n",
    "\n",
    "import alignparse.utils\n",
    "\n",
    "import altair as alt\n",
    "\n",
    "import dms_variants.codonvarianttable\n",
    "\n",
    "import pandas as pd\n",
    "\n",
    "import yaml"
   ]
  },
  {
   "cell_type": "code",
   "execution_count": null,
   "id": "ecbee837-6b04-409b-ad81-28a40c371e81",
   "metadata": {},
   "outputs": [],
   "source": [
    "# allow more rows for Altair\n",
    "_ = alt.data_transformers.disable_max_rows()"
   ]
  },
  {
   "cell_type": "markdown",
   "id": "52047cd7-1f3e-4bcc-89e3-53ae3695b841",
   "metadata": {},
   "source": [
    "Get configuration information:"
   ]
  },
  {
   "cell_type": "code",
   "execution_count": null,
   "id": "425806e5-dc2f-4900-ba8f-33c13908bac4",
   "metadata": {
    "tags": []
   },
   "outputs": [],
   "source": [
    "# If you are running notebook interactively rather than in pipeline that handles\n",
    "# working directories, you may have to first `os.chdir` to appropriate directory.\n",
    "os.chdir(\"../test_example\")\n",
    "\n",
    "with open(\"config.yaml\") as f:\n",
    "    config = yaml.safe_load(f)"
   ]
  },
  {
   "cell_type": "markdown",
   "id": "66bd1c96-d334-495e-bf6d-3ec4b5d740a6",
   "metadata": {},
   "source": [
    "## Compute the escape probabilities\n",
    "First create our codon variant table without any counts:"
   ]
  },
  {
   "cell_type": "code",
   "execution_count": null,
   "id": "7d3a7bb4-f2f2-423d-b6e9-b2c43365c3fe",
   "metadata": {
    "tags": []
   },
   "outputs": [],
   "source": [
    "geneseq = str(Bio.SeqIO.read(config[\"gene_sequence_codon\"], \"fasta\").seq)\n",
    "\n",
    "variants = dms_variants.codonvarianttable.CodonVariantTable(\n",
    "    barcode_variant_file=config[\"codon_variants\"],\n",
    "    geneseq=geneseq,\n",
    "    allowgaps=True,\n",
    "    substitutions_are_codon=True,\n",
    "    primary_target=\"gene\",\n",
    "    substitutions_col=\"codon_substitutions\",\n",
    ")"
   ]
  },
  {
   "cell_type": "markdown",
   "id": "c31bfb44-a5b6-4766-84ee-8cb5e85054a6",
   "metadata": {},
   "source": [
    "Now get the variant counts and add to the codon variant table:"
   ]
  },
  {
   "cell_type": "code",
   "execution_count": null,
   "id": "27674c40-cb12-42bd-b5c7-ca60bc8d6865",
   "metadata": {
    "tags": []
   },
   "outputs": [],
   "source": [
    "barcode_runs = pd.read_csv(config[\"processed_barcode_runs\"]).query(\n",
    "    \"exclude_after_counts == 'no'\"\n",
    ")\n",
    "\n",
    "variant_counts = pd.concat([\n",
    "    pd.read_csv(\n",
    "            os.path.join(config[\"variant_counts_dir\"], f\"{tup.library_sample}.csv\")\n",
    "    ).assign(library=tup.library, sample=tup.sample)\n",
    "    for tup in barcode_runs.itertuples()\n",
    "])\n",
    "\n",
    "variants.add_sample_counts_df(variant_counts)"
   ]
  },
  {
   "cell_type": "markdown",
   "id": "e6ca2ad8-b359-4c3b-b45f-259f54e280d0",
   "metadata": {},
   "source": [
    "Get the antibody selections data frame:"
   ]
  },
  {
   "cell_type": "code",
   "execution_count": null,
   "id": "42b7ddc5-3acb-4770-bd2a-3996568154e8",
   "metadata": {
    "tags": []
   },
   "outputs": [],
   "source": [
    "antibody_selections = pd.read_csv(config[\"antibody_selections\"])"
   ]
  },
  {
   "cell_type": "markdown",
   "id": "bc0bd67d-56b0-4318-8e03-18597c4d9eb8",
   "metadata": {},
   "source": [
    "Compute the probabilities escape using [dms_variants.CodonVariantTable.prob_escape](https://jbloomlab.github.io/dms_variants/dms_variants.codonvarianttable.html#dms_variants.codonvarianttable.CodonVariantTable.prob_escape):"
   ]
  },
  {
   "cell_type": "code",
   "execution_count": null,
   "id": "c3306468-0cbb-4b57-91f3-0dc88ceee339",
   "metadata": {
    "tags": []
   },
   "outputs": [],
   "source": [
    "params = {}\n",
    "for param in [\"min_neut_standard_frac\", \"min_neut_standard_count\"]:\n",
    "    val = config[f\"prob_escape_{param}\"]\n",
    "    print(f\"Requring {param} of {val}\")\n",
    "    params[param] = val\n",
    "\n",
    "prob_escape, neut_standard_fracs, neutralization = variants.prob_escape(\n",
    "    selections_df=antibody_selections, **params,\n",
    ")"
   ]
  },
  {
   "cell_type": "markdown",
   "id": "53ab73ec-e6d0-4139-a1ec-056cea01f727",
   "metadata": {},
   "source": [
    "## Fraction of barcode counts for neutralization standard"
   ]
  },
  {
   "cell_type": "markdown",
   "id": "70dd09b9-3ce6-41d9-8528-23c9201bbc10",
   "metadata": {},
   "source": [
    "Make an interactive plot showing this fraction of counts that are neutralization standard for each antibody sample and its no-antibody control.\n",
    "Note the fractions are plotted on a symlog scale:"
   ]
  },
  {
   "cell_type": "code",
   "execution_count": null,
   "id": "fd1930b5-6d2c-481a-ac61-70888815647e",
   "metadata": {
    "tags": []
   },
   "outputs": [],
   "source": [
    "# make tidy version of neut_standard_fracs\n",
    "melt_cols = [\"antibody_frac\", \"no-antibody_frac\"]\n",
    "neut_standard_fracs_tidy = (\n",
    "    neut_standard_fracs\n",
    "    .melt(\n",
    "        id_vars=[c for c in neut_standard_fracs.columns if c not in melt_cols],\n",
    "        value_vars=melt_cols,\n",
    "        value_name=\"neut_standard_frac\",\n",
    "        var_name=\"sample_type\",\n",
    "    )\n",
    "    .assign(\n",
    "        sample_type=lambda x: x[\"sample_type\"].str.replace(\"_frac\", \"\"),\n",
    "        library_sample=lambda x: x[\"library\"] + \" \" + x[\"antibody_sample\"],\n",
    "    )\n",
    ")\n",
    "\n",
    "# set up selections over other columns of interest\n",
    "selection_names = [\"library\", \"date\", \"antibody\", \"virus_batch\"]\n",
    "selections = [\n",
    "    alt.selection_point(\n",
    "        fields=[col],\n",
    "        bind=alt.binding_select(\n",
    "            options=[None] + neut_standard_fracs_tidy[col].unique().tolist(),\n",
    "            labels=[\"all\"] + [str(x) for x in neut_standard_fracs_tidy[col].unique()],\n",
    "            name=col,\n",
    "        )\n",
    "    )\n",
    "    for col in selection_names\n",
    "]\n",
    "\n",
    "neut_standard_fracs_chart = (\n",
    "    alt.Chart(neut_standard_fracs_tidy)\n",
    "    .encode(\n",
    "        x=alt.X(\n",
    "            \"neut_standard_frac\",\n",
    "            title=\"neutralization standard fraction\",\n",
    "            scale=alt.Scale(type=\"symlog\", constant=0.02, domainMax=1),\n",
    "        ),\n",
    "        y=alt.Y(\"library_sample\", title=None),\n",
    "        color=\"sample_type\",\n",
    "        shape=\"sample_type\",\n",
    "        tooltip=[\n",
    "            alt.Tooltip(c, format=\".2g\") if c == \"neut_standard_frac\" else c\n",
    "            for c in neut_standard_fracs_tidy.columns if not \"library_sample\" in c\n",
    "        ]\n",
    "    )\n",
    "    .mark_point()\n",
    "    .properties(width=275, height=alt.Step(14))\n",
    "    .add_selection(*selections)\n",
    "    .configure_axis(labelLimit=500)\n",
    ")\n",
    "for selection in selections:\n",
    "    neut_standard_fracs_chart = neut_standard_fracs_chart.transform_filter(selection)\n",
    "\n",
    "neut_standard_fracs_chart"
   ]
  },
  {
   "cell_type": "markdown",
   "id": "1d38d984-475b-436e-a5a9-804f8711f005",
   "metadata": {},
   "source": [
    "## Overall fraction neutralization by number of mutations\n",
    "Plot neutralization (1 - probability of escape) averaged over all variants with a given number of mutations) for just the primary target.\n",
    "First, get the neutralization data ready to plot by just getting data for primary target, melting, and doing a few other transformations:"
   ]
  },
  {
   "cell_type": "code",
   "execution_count": null,
   "id": "e7951eff-b18b-40bb-8351-20df1858daf2",
   "metadata": {
    "tags": []
   },
   "outputs": [],
   "source": [
    "cols_to_melt = [\"prob_escape\", \"prob_escape_uncensored\"]\n",
    "assert \"target\" not in neutralization.columns, \"only implemented for primary target\"\n",
    "neut_to_plot = (\n",
    "    neutralization\n",
    "    .melt(\n",
    "        id_vars=[c for c in neutralization.columns if c not in cols_to_melt],\n",
    "        var_name=\"censored\",\n",
    "        value_name=\"fraction not neutralized\",\n",
    "    )\n",
    "    .assign(\n",
    "        library_sample=lambda x: x[\"library\"] + \" \" + x[\"antibody_sample\"],\n",
    "        censored=lambda x: (x[\"censored\"] == \"prob_escape\").map({True: \"yes\", False: \"no\"}),\n",
    "        n_aa_substitutions=lambda x: (\n",
    "            x[\"n_aa_substitutions\"].map(\n",
    "                lambda n: f\">{n - 1}\" if n == x[\"n_aa_substitutions\"].max() else str(n)\n",
    "            )\n",
    "        ),\n",
    "    )\n",
    "    .rename(columns={c: c.replace(\"_\", \" \") for c in neutralization.columns if c.endswith(\"count\")})\n",
    "    .merge(antibody_selections, validate=\"many_to_one\", how=\"left\")\n",
    ")"
   ]
  },
  {
   "cell_type": "markdown",
   "id": "b8c133f8-1bad-4514-93b7-6904551c835c",
   "metadata": {},
   "source": [
    "Now make the plot. \n",
    "You can mouseover points for details, use the dropdown to subset samples, click on the legend to show only specific number of amino-acid substitutions or only censored (to [0, 1]) values or raw values.\n",
    "You should get worried if the censored and uncensored values look dramatically different:"
   ]
  },
  {
   "cell_type": "code",
   "execution_count": null,
   "id": "1b6e4f9f-8bb5-4850-aff2-585ae7c58f1e",
   "metadata": {
    "tags": []
   },
   "outputs": [],
   "source": [
    "censored_selection = alt.selection_point(\n",
    "    fields=[\"censored\"],\n",
    "    bind=\"legend\",\n",
    ")\n",
    "\n",
    "n_aa_substitutions_selection = alt.selection_point(\n",
    "    fields=[\"n_aa_substitutions\"], bind=\"legend\",\n",
    ")\n",
    "\n",
    "neutralization_chart = (\n",
    "    alt.Chart(neut_to_plot)\n",
    "    .encode(\n",
    "        x=alt.X(\"fraction not neutralized\"),\n",
    "        y=alt.Y(\"library_sample\", title=None),\n",
    "        color=alt.Color(\n",
    "            \"n_aa_substitutions:N\",\n",
    "            title=\"amino-acid mutations\",\n",
    "            scale=alt.Scale(domain=neut_to_plot[\"n_aa_substitutions\"].unique()),\n",
    "        ),\n",
    "        shape=alt.Shape(\n",
    "            \"censored:N\",\n",
    "            title=\"censored between 0 & 1\",\n",
    "            scale=alt.Scale(\n",
    "                domain=neut_to_plot[\"censored\"].unique(),\n",
    "                range=[\"triangle-up\", \"triangle-down\"],\n",
    "            ),\n",
    "        ),\n",
    "        tooltip=[\n",
    "            alt.Tooltip(c, format=\".3g\")\n",
    "            if c.endswith(\"_count\") or c.startswith(\"fraction\") or c == \"antibody_concentration\"\n",
    "            else c\n",
    "            for c in neut_to_plot.columns\n",
    "            if \"library_sample\" not in c\n",
    "        ],\n",
    "    )\n",
    "    .mark_point(filled=True, size=50, opacity=0.7)\n",
    "    .properties(width=300, height=alt.Step(14))\n",
    "    .add_selection(censored_selection, n_aa_substitutions_selection, *selections)\n",
    "    .transform_filter(censored_selection)\n",
    "    .transform_filter(n_aa_substitutions_selection)\n",
    "    .configure_axis(labelLimit=500)\n",
    ")\n",
    "for selection in selections:\n",
    "    neutralization_chart = neutralization_chart.transform_filter(selection)\n",
    "\n",
    "neutralization_chart"
   ]
  },
  {
   "cell_type": "markdown",
   "id": "9f888edc-0e22-4658-814a-da73d35177e7",
   "metadata": {},
   "source": [
    "## Variants with sufficient no-antibody counts\n",
    "We only calculate the probability of escape for variants with some minimum number of no-antibody counts.\n",
    "\n",
    "First, compute the threshold number of counts required in the no-antibody control samples.\n",
    "The minimum no-antibody counts threshold is just a number, but the minimum fraction of no-antibody counts threshold converts to a different number for each sample:"
   ]
  },
  {
   "cell_type": "code",
   "execution_count": null,
   "id": "854f79d6-82b4-4e46-a297-75e42087c5d5",
   "metadata": {
    "tags": []
   },
   "outputs": [],
   "source": [
    "min_no_antibody_frac = config[\"prob_escape_min_no_antibody_frac\"]\n",
    "min_no_antibody_counts = config[\"prob_escape_min_no_antibody_counts\"]\n",
    "print(f\"Filtering with thresholds {min_no_antibody_frac=} and {min_no_antibody_counts=}\")\n",
    "\n",
    "min_no_antibody_count_threshold_df = (\n",
    "    prob_escape\n",
    "    .groupby([\"library\", \"no-antibody_sample\"], as_index=False)\n",
    "    .aggregate(total_no_antibody_count=pd.NamedAgg(\"no-antibody_count\", \"sum\"))\n",
    "    .assign(\n",
    "        threshold_count=min_no_antibody_counts,\n",
    "        threshold_frac=lambda x: x[\"total_no_antibody_count\"] * min_no_antibody_frac,\n",
    "        threshold=lambda x: x[[\"threshold_count\", \"threshold_frac\"]].max(axis=1).round().astype(int),\n",
    "    )\n",
    ")\n",
    "\n",
    "min_no_antibody_count_threshold_df"
   ]
  },
  {
   "cell_type": "markdown",
   "id": "da44fe7d-c314-463a-b1ec-4153aef48a3b",
   "metadata": {},
   "source": [
    "Now draw a boxplot for the no-antibody samples with a black line at the median, boxes spanning the 25th to 75th percentiles, lines spanning the minimum to the maximum, and a red line indciating the threshold.\n",
    "You can mouseover bars for details and use the dropdown selections to just show certain subsets.\n",
    "Note that y-axis uses a symlog scale:"
   ]
  },
  {
   "cell_type": "code",
   "execution_count": null,
   "id": "99c9ff2c-e6e8-413b-a00f-a4e860e03dc7",
   "metadata": {
    "tags": []
   },
   "outputs": [],
   "source": [
    "# get data to plot\n",
    "no_antibody_count_boxplot_df = (\n",
    "    prob_escape\n",
    "    [[\"library\", \"no-antibody_sample\", \"no-antibody_count\", \"barcode\"]]\n",
    "    .drop_duplicates()\n",
    "    .merge(\n",
    "        min_no_antibody_count_threshold_df.drop(columns=\"total_no_antibody_count\"),\n",
    "        validate=\"many_to_one\",\n",
    "    )\n",
    "    .assign(\n",
    "        variant_above_threshold=lambda x: (x[\"no-antibody_count\"] >= x[\"threshold\"]).astype(int),\n",
    "        count_above_threshold=lambda x: x[\"no-antibody_count\"] * x[\"variant_above_threshold\"],\n",
    "    )\n",
    "    .groupby([\"library\", \"no-antibody_sample\", \"threshold\"], as_index=False)\n",
    "    .aggregate(\n",
    "        median=pd.NamedAgg(\"no-antibody_count\", \"median\"),\n",
    "        percentile_25=pd.NamedAgg(\"no-antibody_count\", lambda s: s.quantile(0.25)),\n",
    "        percentile_75=pd.NamedAgg(\"no-antibody_count\", lambda s: s.quantile(0.75)),\n",
    "        min=pd.NamedAgg(\"no-antibody_count\", \"min\"),\n",
    "        max=pd.NamedAgg(\"no-antibody_count\", \"max\"),\n",
    "        nvariants=pd.NamedAgg(\"barcode\", \"count\"),\n",
    "        total_counts=pd.NamedAgg(\"no-antibody_count\", \"sum\"),\n",
    "        variants_above_threshold=pd.NamedAgg(\"variant_above_threshold\", \"sum\"),\n",
    "        counts_above_threshold=pd.NamedAgg(\"count_above_threshold\", \"sum\"),\n",
    "    )\n",
    "    .assign(\n",
    "        library_sample=lambda x: x[\"library\"] + \" \" + x[\"no-antibody_sample\"],\n",
    "        frac_counts_above_threshold=lambda x: x[\"counts_above_threshold\"] / x[\"total_counts\"],\n",
    "        frac_variants_above_threshold=lambda x: x[\"variants_above_threshold\"] / x[\"nvariants\"],\n",
    "    )\n",
    "    .drop(columns=[\"counts_above_threshold\", \"variants_above_threshold\", \"total_counts\", \"nvariants\"])\n",
    "    .merge(\n",
    "        antibody_selections[[\"no-antibody_sample\", \"virus_batch\", \"date\", \"library\"]].drop_duplicates(),\n",
    "        how=\"left\",\n",
    "        validate=\"one_to_one\",\n",
    "    )\n",
    ")\n",
    "assert len(no_antibody_count_boxplot_df) == no_antibody_count_boxplot_df[\"library_sample\"].nunique()\n",
    "\n",
    "# make plot\n",
    "no_antibody_count_base = (\n",
    "    alt.Chart(no_antibody_count_boxplot_df)\n",
    "    .encode(\n",
    "        y=alt.Y(\"library_sample\", title=None),\n",
    "        tooltip=[\n",
    "            alt.Tooltip(c, format=\".2g\") if no_antibody_count_boxplot_df[c].dtype == float else c\n",
    "            for c in no_antibody_count_boxplot_df.columns if c != \"library_sample\"\n",
    "        ],\n",
    "    )\n",
    ")\n",
    "\n",
    "no_antibody_count_quartile_bars = (\n",
    "    no_antibody_count_base\n",
    "    .encode(\n",
    "        alt.X(\n",
    "            \"percentile_25\",\n",
    "            scale=alt.Scale(type=\"symlog\", constant=20),\n",
    "            title=\"counts for variant\",\n",
    "        ),\n",
    "        alt.X2(\"percentile_75\"),\n",
    "    )\n",
    "    .mark_bar(color=\"blue\")\n",
    ")\n",
    "\n",
    "no_antibody_count_range_lines = (\n",
    "    no_antibody_count_base\n",
    "    .encode(\n",
    "        alt.X(\"min\"),\n",
    "        alt.X2(\"max\"),\n",
    "    )\n",
    "    .mark_rule(color=\"blue\", opacity=0.5)\n",
    ")\n",
    "\n",
    "no_antibody_count_median_lines = (\n",
    "    no_antibody_count_base\n",
    "    .encode(alt.X(\"median\"), alt.X2(\"median\"))\n",
    "    .mark_bar(xOffset=1, x2Offset=-1, color=\"black\")\n",
    ")\n",
    "\n",
    "no_antibody_count_threshold = (\n",
    "    no_antibody_count_base\n",
    "    .encode(alt.X(\"threshold\"), alt.X2(\"threshold\"))\n",
    "    .mark_bar(xOffset=1, x2Offset=-1, color=\"red\")\n",
    ")\n",
    "\n",
    "no_antibody_count_chart = (\n",
    "    no_antibody_count_quartile_bars\n",
    "    + no_antibody_count_range_lines\n",
    "    + no_antibody_count_median_lines\n",
    "    + no_antibody_count_threshold\n",
    ").configure_axis(labelLimit=500).properties(width=350, height=alt.Step(14))\n",
    "\n",
    "for s, name in zip(selections, selection_names):\n",
    "    if name != \"antibody\":\n",
    "        no_antibody_count_chart = no_antibody_count_chart.add_selection(s).transform_filter(s)\n",
    "\n",
    "no_antibody_count_chart"
   ]
  },
  {
   "cell_type": "markdown",
   "id": "5e8f6c49-75bf-4dfb-8039-e722b484945e",
   "metadata": {},
   "source": [
    "Plot the fraction of all variants, and fraction of all counts, that are above the thresholds for the no-antibody conditions:"
   ]
  },
  {
   "cell_type": "code",
   "execution_count": null,
   "id": "03e6304a-ceda-4bec-a057-7c9943c1d005",
   "metadata": {
    "tags": []
   },
   "outputs": [],
   "source": [
    "frac_counts_df = no_antibody_count_boxplot_df.drop(\n",
    "    columns=[\"median\", \"threshold\", \"min\", \"max\", \"percentile_25\", \"percentile_75\"],\n",
    ").rename(columns={\"frac_counts_above_threshold\": \"counts\", \"frac_variants_above_threshold\": \"variants\"})\n",
    "\n",
    "fraction_type_selection = alt.selection_point(\n",
    "    fields=[\"fraction_type\"], bind=\"legend\",\n",
    ")\n",
    "\n",
    "frac_counts_chart = (\n",
    "    alt.Chart(frac_counts_df)\n",
    "    .transform_fold(fold=[\"counts\", \"variants\"], as_=[\"fraction_type\", \"fraction\"])\n",
    "    .encode(\n",
    "        y=alt.Y(\"library_sample\", title=None),\n",
    "        tooltip=[\n",
    "            alt.Tooltip(c, format=\".2g\") if frac_counts_df[c].dtype == float else c\n",
    "            for c in frac_counts_df.columns if c != \"library_sample\"\n",
    "        ],\n",
    "        x=alt.X(\n",
    "            \"fraction:Q\",\n",
    "            title=\"fraction above threshold\",\n",
    "            scale=alt.Scale(domain=(0, 1)),\n",
    "        ),\n",
    "        color=alt.Color(\n",
    "            \"fraction_type:N\",\n",
    "            title=None,\n",
    "            scale=alt.Scale(domain=[\"counts\", \"variants\"]),\n",
    "        ),\n",
    "    )\n",
    "    .mark_point(filled=True, size=50)\n",
    "    .properties(width=200, height=alt.Step(14))\n",
    "    .configure_axis(labelLimit=500)\n",
    "    .add_selection(fraction_type_selection)\n",
    "    .transform_filter(fraction_type_selection)\n",
    ")\n",
    "\n",
    "for s, name in zip(selections, selection_names):\n",
    "    if name != \"antibody\":\n",
    "        frac_counts_chart = frac_counts_chart.add_selection(s).transform_filter(s)\n",
    "\n",
    "frac_counts_chart"
   ]
  },
  {
   "cell_type": "markdown",
   "id": "817a20d6-8f93-44a4-ac64-b490a2479f2a",
   "metadata": {},
   "source": [
    "Now just get probability of escape measurements for variants that exceed no-antibody count threshold:"
   ]
  },
  {
   "cell_type": "code",
   "execution_count": null,
   "id": "5b4f389e-094a-4957-96e9-ef0a0190200e",
   "metadata": {
    "tags": []
   },
   "outputs": [],
   "source": [
    "prob_escape_filtered = (\n",
    "    prob_escape\n",
    "    .merge(\n",
    "        min_no_antibody_count_threshold_df[[\"library\", \"no-antibody_sample\", \"threshold\"]],\n",
    "        validate=\"many_to_one\",\n",
    "        how=\"left\",\n",
    "    )\n",
    "    .query(\"`no-antibody_count` >= threshold\")\n",
    ")"
   ]
  },
  {
   "cell_type": "markdown",
   "id": "8cc83a07-3b44-43ac-a06e-9e1981d4b063",
   "metadata": {},
   "source": [
    "## Distribution of probability escape across variants\n",
    "Plot distribution of prob escape values across non-filtered variants.\n",
    "The boxes span 25th to 75th percentile, the black vertical line is at the median, and the thin lines extend from the min to max.\n",
    "You can show either the censored (to between 0 and 1) or uncensored probabilities of escape.\n",
    "Note the plot uses a symlog scale:"
   ]
  },
  {
   "cell_type": "code",
   "execution_count": null,
   "id": "01da722b-444b-4369-afab-9f0207c42686",
   "metadata": {
    "tags": []
   },
   "outputs": [],
   "source": [
    "# get data to plot\n",
    "prob_escape_boxplot_df = (\n",
    "    prob_escape_filtered\n",
    "    .melt(\n",
    "        id_vars=[\"library\", \"antibody_sample\", \"no-antibody_sample\"],\n",
    "        value_vars=[\"prob_escape\", \"prob_escape_uncensored\"],\n",
    "        var_name=\"censored\",\n",
    "        value_name=\"probability escape\",\n",
    "    )\n",
    "    .groupby(\n",
    "        [\"library\", \"antibody_sample\", \"no-antibody_sample\", \"censored\"],\n",
    "        as_index=False,\n",
    "    )\n",
    "    .aggregate(\n",
    "        median=pd.NamedAgg(\"probability escape\", \"median\"),\n",
    "        percentile_25=pd.NamedAgg(\"probability escape\", lambda s: s.quantile(0.25)),\n",
    "        percentile_75=pd.NamedAgg(\"probability escape\", lambda s: s.quantile(0.75)),\n",
    "        min=pd.NamedAgg(\"probability escape\", \"min\"),\n",
    "        max=pd.NamedAgg(\"probability escape\", \"max\"),\n",
    "    )\n",
    "    .assign(censored=lambda x: (x[\"censored\"] == \"prob_escape\"))\n",
    "    .merge(\n",
    "        antibody_selections[[\"antibody_sample\", \"antibody_library_sample\", \"virus_batch\", \"date\", \"library\", \"antibody\"]],\n",
    "        how=\"left\",\n",
    "        on=[\"library\", \"antibody_sample\"],\n",
    "        validate=\"many_to_one\",\n",
    "    )\n",
    ")\n",
    "assert len(prob_escape_boxplot_df) == 2 * prob_escape_boxplot_df[\"antibody_library_sample\"].nunique()\n",
    "\n",
    "# make plot\n",
    "prob_escape_base = (\n",
    "    alt.Chart(prob_escape_boxplot_df)\n",
    "    .encode(\n",
    "        y=alt.Y(\"antibody_library_sample\", title=None),\n",
    "        tooltip=[\n",
    "            alt.Tooltip(c, format=\".3g\")\n",
    "            if prob_escape_boxplot_df[c].dtype == \"float\"\n",
    "            else c\n",
    "            for c in prob_escape_boxplot_df.columns if c != \"antibody_library_sample\"\n",
    "        ],\n",
    "    )\n",
    ")\n",
    "\n",
    "prob_escape_quartile_bars = (\n",
    "    prob_escape_base\n",
    "    .encode(\n",
    "        alt.X(\n",
    "            \"percentile_25\",\n",
    "            scale=alt.Scale(type=\"symlog\", constant=0.25),\n",
    "            title=\"probability escape\",\n",
    "        ),\n",
    "        alt.X2(\"percentile_75\"),\n",
    "    )\n",
    "    .mark_bar(color=\"blue\")\n",
    ")\n",
    "\n",
    "prob_escape_range_lines = (\n",
    "    prob_escape_base\n",
    "    .encode(\n",
    "        alt.X(\"min\"),\n",
    "        alt.X2(\"max\"),\n",
    "    )\n",
    "    .mark_rule(color=\"blue\", opacity=0.5)\n",
    ")\n",
    "\n",
    "prob_escape_median_lines = (\n",
    "    prob_escape_base\n",
    "    .encode(alt.X(\"median\"), alt.X2(\"median\"))\n",
    "    .mark_bar(xOffset=1, x2Offset=-1, color=\"black\")\n",
    ")\n",
    "\n",
    "prob_escape_chart = (\n",
    "    prob_escape_quartile_bars\n",
    "    + prob_escape_range_lines\n",
    "    + prob_escape_median_lines\n",
    ").configure_axis(labelLimit=500).properties(width=350, height=alt.Step(14))\n",
    "\n",
    "censored_dropdown_selection = alt.selection_point(\n",
    "    fields=[\"censored\"],\n",
    "    value=[{\"censored\": True}],\n",
    "    bind=alt.binding_select(\n",
    "        options=prob_escape_boxplot_df[\"censored\"].unique().tolist(),\n",
    "        name=\"censored\",\n",
    "    )\n",
    ")\n",
    "\n",
    "for s in list(selections) + [censored_dropdown_selection]:\n",
    "    prob_escape_chart = prob_escape_chart.add_selection(s).transform_filter(s)\n",
    "\n",
    "prob_escape_chart"
   ]
  },
  {
   "cell_type": "markdown",
   "id": "1276a54a-8b7e-4dd2-b4cd-73a5b4b28d57",
   "metadata": {},
   "source": [
    "## Correlations in variant-level escape probabilities\n",
    "Analyze correlations of escape probabilities of different variants in same library:"
   ]
  },
  {
   "cell_type": "code",
   "execution_count": null,
   "id": "cef2ce47-6554-4181-b463-2bd04233e2a6",
   "metadata": {
    "tags": []
   },
   "outputs": [],
   "source": [
    "assert (\n",
    "    len(prob_escape_filtered.groupby([\"library\", \"antibody_sample\", \"no-antibody_sample\"]))\n",
    "    == len(prob_escape_filtered.groupby([\"library\", \"antibody_sample\"]))\n",
    ")\n",
    "\n",
    "prob_escape_tidy = (\n",
    "    prob_escape_filtered\n",
    "    .rename(columns={\"prob_escape\": \"censored\", \"prob_escape_uncensored\": \"uncensored\"})\n",
    "    .melt(\n",
    "        id_vars=[\"antibody_sample\", \"barcode\", \"library\"],\n",
    "        value_vars=[\"censored\", \"uncensored\"],\n",
    "        value_name=\"prob_escape\",\n",
    "        var_name=\"censored\",\n",
    "    )\n",
    "    .assign(censored=lambda x: x[\"censored\"].map({\"censored\": True, \"uncensored\": False}))\n",
    ")\n",
    "\n",
    "corrs = (\n",
    "    dms_variants.utils.tidy_to_corr(\n",
    "        df=prob_escape_tidy,\n",
    "        sample_col=\"antibody_sample\",\n",
    "        label_col=\"barcode\",\n",
    "        value_col=\"prob_escape\",\n",
    "        group_cols=[\"library\", \"censored\"],\n",
    "    )\n",
    "    .assign(r2=lambda x: x[\"correlation\"]**2)\n",
    "    .drop(columns=\"correlation\")\n",
    ")\n",
    "\n",
    "# add other properties\n",
    "suffixes = [\"_1\", \"_2\"]\n",
    "for suffix in suffixes:\n",
    "    corrs = (\n",
    "        corrs.merge(\n",
    "            antibody_selections,\n",
    "            left_on=[\"library\", f\"antibody_sample{suffix}\"],\n",
    "            right_on=[\"library\", \"antibody_sample\"],\n",
    "            validate=\"many_to_one\",\n",
    "            suffixes=suffixes,\n",
    "        )\n",
    "        .drop(columns=[\"antibody_library_sample\", \"no-antibody_library_sample\", \"no-antibody_sample\", \"antibody_sample\", \"replicate\"])\n",
    "    )\n",
    "\n",
    "# make columns identical for both samples drop suffix for selections\n",
    "for col in antibody_selections.columns:\n",
    "    if f\"{col}_1\" in corrs.columns and f\"{col}_2\" in corrs.columns and col != \"antibody_sample\":\n",
    "        corrs = (\n",
    "            corrs\n",
    "            .assign(\n",
    "                equal=lambda x: x[f\"{col}_1\"] == x[f\"{col}_2\"],\n",
    "                **{col: lambda x: x[f\"{col}_1\"].where(x[\"equal\"], pd.NA)},\n",
    "            )\n",
    "            .drop(columns=[f\"{col}{suffix}\" for suffix in suffixes])\n",
    "        )"
   ]
  },
  {
   "cell_type": "code",
   "execution_count": null,
   "id": "60493c42-5982-409d-9ce3-aa037a93742b",
   "metadata": {
    "tags": []
   },
   "outputs": [],
   "source": [
    "for library, library_corr in corrs.groupby(\"library\"):\n",
    "    corr_chart = (\n",
    "        alt.Chart(library_corr)\n",
    "        .encode(\n",
    "            alt.X(\"antibody_sample_1\", title=None),\n",
    "            alt.Y(\"antibody_sample_2\", title=None),\n",
    "            color=alt.Color(\"r2\", scale=alt.Scale(zero=True)),\n",
    "            tooltip=[\n",
    "                alt.Tooltip(c, format=\".3g\") if c == \"r2\" else c\n",
    "                for c in [\"library\", \"antibody_sample_1\", \"antibody_sample_2\", \"r2\"]\n",
    "            ],\n",
    "        )\n",
    "        .mark_rect(stroke=\"black\")\n",
    "        .properties(width=alt.Step(15), height=alt.Step(15), title=library)\n",
    "        .configure_axis(labelLimit=500)\n",
    "    )\n",
    "    for s, name in list(zip(selections, selection_names)) + [(censored_dropdown_selection, \"censored\")]:\n",
    "        if name != \"library\":\n",
    "            corr_chart = corr_chart.add_selection(s).transform_filter(s)\n",
    "    display(corr_chart)"
   ]
  },
  {
   "cell_type": "markdown",
   "id": "7d999e92-6a06-4b3d-92e6-bfb3f08abe2b",
   "metadata": {},
   "source": [
    "## Convert to reference-based numbering\n",
    "Re-number the `aa_substitutions` column from sequential to reference numbering; also keep the sequential numbering in a column called `aa_substitutions_sequential`.\n",
    "We also drop a few unneeded columns:"
   ]
  },
  {
   "cell_type": "code",
   "execution_count": null,
   "id": "087d0fe6-0ec7-4d1f-b8a4-6db8c6cd0eb1",
   "metadata": {
    "tags": []
   },
   "outputs": [],
   "source": [
    "renumber = alignparse.utils.MutationRenumber(\n",
    "    number_mapping=pd.read_csv(config[\"site_numbering_map\"]),\n",
    "    old_num_col=\"sequential_site\",\n",
    "    new_num_col=\"reference_site\",\n",
    "    wt_nt_col=None,\n",
    ")\n",
    "\n",
    "renumbered_prob_escape = (\n",
    "    prob_escape_filtered\n",
    "    .drop(columns=[\"threshold\", \"codon_substitutions\", \"n_codon_substitutions\"])\n",
    "    .rename(columns={\"aa_substitutions\": \"aa_substitutions_sequential\"})\n",
    "    .assign(\n",
    "        aa_substitutions=lambda x: (\n",
    "            x[\"aa_substitutions_sequential\"].apply(\n",
    "                renumber.renumber_muts,\n",
    "                allow_gaps=True,\n",
    "                allow_stop=True,\n",
    "            )\n",
    "        ),\n",
    "    )\n",
    ")\n",
    "\n",
    "renumbered_prob_escape.head()"
   ]
  },
  {
   "cell_type": "code",
   "execution_count": null,
   "id": "d2794618-9ddb-4389-87eb-c3796d4d1120",
   "metadata": {},
   "outputs": [],
   "source": []
  }
 ],
 "metadata": {
  "kernelspec": {
   "display_name": "Python 3 (ipykernel)",
   "language": "python",
   "name": "python3"
  },
  "language_info": {
   "codemirror_mode": {
    "name": "ipython",
    "version": 3
   },
   "file_extension": ".py",
   "mimetype": "text/x-python",
   "name": "python",
   "nbconvert_exporter": "python",
   "pygments_lexer": "ipython3",
   "version": "3.9.12"
  }
 },
 "nbformat": 4,
 "nbformat_minor": 5
}
